{
  "nbformat": 4,
  "nbformat_minor": 0,
  "metadata": {
    "kernelspec": {
      "display_name": "Python 3",
      "language": "python",
      "name": "python3"
    },
    "language_info": {
      "codemirror_mode": {
        "name": "ipython",
        "version": 3
      },
      "file_extension": ".py",
      "mimetype": "text/x-python",
      "name": "python",
      "nbconvert_exporter": "python",
      "pygments_lexer": "ipython3",
      "version": "3.8.1"
    },
    "colab": {
      "name": "assistments2015_models.ipynb",
      "provenance": [],
      "collapsed_sections": [
        "rID6S2SMiu2Z",
        "14tU8bRippBO"
      ],
      "toc_visible": true,
      "include_colab_link": true
    },
    "accelerator": "GPU"
  },
  "cells": [
    {
      "cell_type": "markdown",
      "metadata": {
        "id": "view-in-github",
        "colab_type": "text"
      },
      "source": [
        "<a href=\"https://colab.research.google.com/github/globalpie271/assistments2015-knowledge-tracing/blob/main/assistments2015_models.ipynb\" target=\"_parent\"><img src=\"https://colab.research.google.com/assets/colab-badge.svg\" alt=\"Open In Colab\"/></a>"
      ]
    },
    {
      "cell_type": "code",
      "metadata": {
        "colab": {
          "base_uri": "https://localhost:8080/"
        },
        "id": "yd8_gM8I2-8O",
        "outputId": "f0139b88-992a-4b15-a9d6-6d23fb461804"
      },
      "source": [
        "from google.colab import drive\n",
        "drive.mount('/content/gdrive', force_remount=True)"
      ],
      "execution_count": null,
      "outputs": [
        {
          "output_type": "stream",
          "text": [
            "Mounted at /content/gdrive\n"
          ],
          "name": "stdout"
        }
      ]
    },
    {
      "cell_type": "code",
      "metadata": {
        "hide_input": false,
        "id": "3l4Y-xzSVfWZ"
      },
      "source": [
        "# !pip install --upgrade matplotlib\n",
        "# !pip uninstall matplotlib"
      ],
      "execution_count": null,
      "outputs": []
    },
    {
      "cell_type": "code",
      "metadata": {
        "id": "LzWngzlXVfWf"
      },
      "source": [
        "import os\n",
        "import sys\n",
        "import glob\n",
        "# import zipfile\n",
        "import pandas as pd\n",
        "import numpy as np\n",
        "import tensorflow as tf\n",
        "import matplotlib.pyplot as plt\n",
        "import gensim\n",
        "# import numba\n",
        "# import pickle\n",
        "# import seaborn as sns\n",
        "# import time"
      ],
      "execution_count": null,
      "outputs": []
    },
    {
      "cell_type": "code",
      "metadata": {
        "id": "JnSvrUndVfWg"
      },
      "source": [
        "PATH = os.path.join('gdrive', 'MyDrive', r'Colab Notebooks', 'FQW')\n",
        "SRC_PATH = os.path.join(PATH, 'src')\n",
        "DATA_PATH = os.path.join(PATH, 'data')\n",
        "MODELS_PATH = os.path.join(DATA_PATH, 'models')\n",
        "HISTORY_PATH = os.path.join(DATA_PATH, 'history')\n",
        "ASSISTMENT_PATH = os.path.join(DATA_PATH, 'ASSISTment')\n",
        "\n",
        "\n",
        "\n",
        "ASSISTMENT_2015_PATH = os.path.abspath('2015_100_skill_builders_main_problems.csv')"
      ],
      "execution_count": null,
      "outputs": []
    },
    {
      "cell_type": "markdown",
      "metadata": {
        "id": "rID6S2SMiu2Z"
      },
      "source": [
        "# Feature functions, loss and metrics"
      ]
    },
    {
      "cell_type": "code",
      "metadata": {
        "id": "rg2BH_LkY1gM"
      },
      "source": [
        "def get_word2vec(fn, skill_with_answer = True, embedding_size = 10, round = True):\n",
        "# TODO: add average of embeddings for each exercise\n",
        "    df = pd.read_csv(fn)\n",
        "    if round:\n",
        "      df['correct'] = df['correct'].round()\n",
        "    else:\n",
        "      df = df[df.correct.isin([1.,0.])]\n",
        "\n",
        "    \n",
        "    # embedding_size = 10\n",
        "    \n",
        "    df.dropna(subset=['sequence_id'], inplace=True)\n",
        "\n",
        "    df = df.groupby('user_id').filter(lambda q: len(q) > 1).copy()\n",
        "\n",
        "    df['skill'], _ = pd.factorize(df['sequence_id'], sort=True)\n",
        "\n",
        "    if skill_with_answer:\n",
        "      df['skill_with_answer'] = df['skill'] * 2 + df['correct']\n",
        "      df['skill_str'] = df['skill_with_answer'].apply(str)\n",
        "    else:\n",
        "      df['skill_str'] = df['skill'].apply(str)  #TODO: skill_with_answer instead of skill\n",
        "\n",
        "    word2vec = gensim.models.Word2Vec(pd.Series(df['skill_str'].unique()).apply(lambda q:[q]), size=embedding_size, min_count=1)\n",
        "    # dct = dict(zip(word2vec.wv.index2word, word2vec.wv.vectors))   \n",
        "    return word2vec, df, skill_with_answer"
      ],
      "execution_count": null,
      "outputs": []
    },
    {
      "cell_type": "code",
      "metadata": {
        "id": "7YZHkmi5VfWp"
      },
      "source": [
        "def get_embedding_features(df, word2vec, shuffle = True, random_seed = 5, skill_with_answer = True):\n",
        "    seq = df.groupby('user_id').apply(\n",
        "        lambda r: (\n",
        "            word2vec.wv[r['skill_str'].values[:-1]],\n",
        "            r['skill'].values[1:],\n",
        "            r['correct'].values[1:],\n",
        "        )\n",
        "    )\n",
        "    nb_users = len(seq)\n",
        "\n",
        "    dataset = tf.data.Dataset.from_generator(\n",
        "        generator=lambda: seq,\n",
        "        output_types=(tf.float32,\n",
        "                      tf.int32, tf.float32)\n",
        "    )\n",
        "\n",
        "    if shuffle:\n",
        "        dataset = dataset.shuffle(buffer_size=nb_users, seed = random_seed)\n",
        "\n",
        "    features_depth = word2vec.wv.vector_size\n",
        "    skill_depth = df['skill'].max() + 1\n",
        "\n",
        "    dataset = dataset.map(\n",
        "        lambda feat, skill, label: (\n",
        "            feat,\n",
        "            tf.concat(\n",
        "                values=[\n",
        "                    tf.one_hot(skill, depth=skill_depth),\n",
        "                    tf.expand_dims(label, -1)\n",
        "                ],\n",
        "                axis=-1\n",
        "            )\n",
        "        )\n",
        "    )\n",
        "    return dataset, features_depth, skill_depth, nb_users"
      ],
      "execution_count": null,
      "outputs": []
    },
    {
      "cell_type": "code",
      "metadata": {
        "id": "0pLLRvVhoWhG"
      },
      "source": [
        "# import tfds.features.Featimport tensorflow_datasets.features.FeaturesDict as FeaturesDict\n",
        "# uresDict as FeaturesDict\n",
        "\n",
        "def get_eern_features(df, word2vec, shuffle = True, random_seed = 5, skill_with_answer = False):\n",
        "    def add_zeros(arrays, answers):\n",
        "      assert arrays.shape[1]%2==0\n",
        "      result = np.zeros([arrays.shape[0], 2 * arrays.shape[1]])\n",
        "\n",
        "      for i, answer in enumerate(answers):\n",
        "        if answer>0.5:\n",
        "          result[i,0:arrays.shape[1]] = np.array(arrays[i])\n",
        "        else:\n",
        "          result[i,arrays.shape[1]:2*result.shape[1]] = np.array(arrays[i])\n",
        "      return result\n",
        "\n",
        "\n",
        "\n",
        "    seq = df.groupby('user_id').apply(\n",
        "        lambda r: (\n",
        "            add_zeros(word2vec.wv[r['skill_str'].values[:-1]], r['correct'].values[:-1]),\n",
        "            # r['correct'].values[:-1],\n",
        "            r['skill'].values[1:],\n",
        "            r['correct'].values[1:],\n",
        "        )\n",
        "    )\n",
        "    nb_users = len(seq)\n",
        "\n",
        "    dataset = tf.data.Dataset.from_generator(\n",
        "        generator=lambda: seq,\n",
        "        output_types=(tf.float32, tf.int32, tf.float32)\n",
        "    )\n",
        "\n",
        "    if shuffle:\n",
        "        dataset = dataset.shuffle(buffer_size=nb_users, seed = random_seed)\n",
        "\n",
        "    features_depth = word2vec.wv.vector_size\n",
        "    skill_depth = df['skill'].max() + 1\n",
        "\n",
        "    dataset = dataset.map(\n",
        "        lambda feat, skill, label: (\n",
        "            feat,\n",
        "            tf.concat(\n",
        "                values=[\n",
        "                    tf.one_hot(skill, depth=skill_depth),\n",
        "                    tf.expand_dims(label, -1)\n",
        "                ],\n",
        "                axis=-1\n",
        "            )\n",
        "        )\n",
        "    )\n",
        "    features_depth *= 2 \n",
        "\n",
        "    return dataset, features_depth, skill_depth, nb_users"
      ],
      "execution_count": null,
      "outputs": []
    },
    {
      "cell_type": "code",
      "metadata": {
        "id": "4rdS1PXG5UGR"
      },
      "source": [
        "def get_default_features(fn, shuffle = True, correct_rounded = True, random_seed = 5, round = True):\n",
        "    df = pd.read_csv(fn)\n",
        "    if round:\n",
        "      df['correct'] = df['correct'].round()\n",
        "    else:\n",
        "      df = df[df.correct.isin([1.,0.])]\n",
        "    \n",
        "    df = df.groupby('user_id').filter(lambda interaction: len(interaction) > 1).copy()\n",
        "\n",
        "    df['skill'], _ = pd.factorize(df['sequence_id'], sort=True)\n",
        "    if correct_rounded:\n",
        "        df['correct_modified'] = df['correct'].round()\n",
        "    else:\n",
        "        df['correct_modified'] = df['correct']\n",
        "\n",
        "    seq = df.groupby('user_id').apply(\n",
        "        lambda r: (\n",
        "            r['skill'].values[:-1],\n",
        "            r['correct_modified'].values[:-1],\n",
        "            r['skill'].values[1:],\n",
        "            r['correct_modified'].values[1:],\n",
        "        )\n",
        "    )\n",
        "    users_number = len(seq)\n",
        "\n",
        "    dataset = tf.data.Dataset.from_generator(\n",
        "        generator=lambda: seq,\n",
        "        output_types=(tf.int32, tf.int32, tf.int32, tf.float32)\n",
        "    )\n",
        "    if shuffle:\n",
        "        dataset = dataset.shuffle(buffer_size=users_number, seed = random_seed)\n",
        "\n",
        "    features_depth = df['skill'].unique().shape[0] + 2\n",
        "    skill_depth = df['skill'].unique().shape[0]\n",
        "    correct_depth = df['correct_modified'].unique().shape[0]\n",
        "\n",
        "    dataset = dataset.map(\n",
        "        lambda feat_skill, feat_correct, skill, label: (\n",
        "            tf.concat(\n",
        "                values=[\n",
        "                    tf.one_hot(feat_skill, depth=features_depth - 2),\n",
        "                    tf.one_hot(feat_correct, depth = correct_depth)\n",
        "                ],\n",
        "                axis=-1\n",
        "            ),\n",
        "            tf.concat(\n",
        "                values=[\n",
        "                    tf.one_hot(skill, depth=skill_depth),\n",
        "                    tf.expand_dims(label, -1)\n",
        "                ],\n",
        "                axis=-1\n",
        "            )\n",
        "        )\n",
        "    )\n",
        "    \n",
        "    return dataset, features_depth, skill_depth, users_number"
      ],
      "execution_count": null,
      "outputs": []
    },
    {
      "cell_type": "code",
      "metadata": {
        "hide_input": false,
        "id": "k-6PJZqNVfWr"
      },
      "source": [
        "def get_cross_features(fn, shuffle = True, random_seed = 5, round = True):\n",
        "    df = pd.read_csv(fn)\n",
        "    if round:\n",
        "      df['correct'] = df['correct'].round()\n",
        "    else:\n",
        "      df = df[df.correct.isin([1.,0.])]\n",
        "\n",
        "    df.dropna(subset=['sequence_id'], inplace=True)\n",
        "\n",
        "    df = df.groupby('user_id').filter(lambda q: len(q) > 1).copy()\n",
        "\n",
        "    df['skill'], _ = pd.factorize(df['sequence_id'], sort=True)\n",
        "\n",
        "    df['skill_with_answer'] = df['skill'] * 2 + df['correct']\n",
        "\n",
        "    seq = df.groupby('user_id').apply(\n",
        "        lambda r: (\n",
        "            r['skill_with_answer'].values[:-1],\n",
        "            r['skill'].values[1:],\n",
        "            r['correct'].values[1:],\n",
        "        )\n",
        "    )\n",
        "    nb_users = len(seq)\n",
        "\n",
        "    dataset = tf.data.Dataset.from_generator(\n",
        "        generator=lambda: seq,\n",
        "        output_types=(tf.int32, tf.int32, tf.float32)\n",
        "    )\n",
        "\n",
        "    if shuffle:\n",
        "        dataset = dataset.shuffle(buffer_size=nb_users, seed = random_seed)\n",
        "\n",
        "    features_depth = int(df['skill_with_answer'].max()) + 1\n",
        "    skill_depth = df['skill'].max() + 1\n",
        "\n",
        "    dataset = dataset.map(\n",
        "        lambda feat, skill, label: (\n",
        "            tf.one_hot(feat, depth=features_depth),\n",
        "            tf.concat(\n",
        "                values=[\n",
        "                    tf.one_hot(skill, depth=skill_depth),\n",
        "                    tf.expand_dims(label, -1)\n",
        "                ],\n",
        "                axis=-1\n",
        "            )\n",
        "        )\n",
        "    )\n",
        "    return dataset, features_depth, skill_depth, nb_users"
      ],
      "execution_count": null,
      "outputs": []
    },
    {
      "cell_type": "code",
      "metadata": {
        "hide_input": false,
        "id": "7YK13cIJVfWs"
      },
      "source": [
        "def get_dataset(path, batch_size = 32, shuffle = True, features_func = get_default_features, MASK_VALUE = -1.0):\n",
        "    dataset, features_depth, skill_depth, users_number = features_func(path, shuffle)\n",
        "    \n",
        "    dataset = dataset.padded_batch(\n",
        "        batch_size=batch_size,\n",
        "        padding_values=(MASK_VALUE, MASK_VALUE),\n",
        "        padded_shapes=([None, None], [None, None]),\n",
        "        drop_remainder=True\n",
        "    )\n",
        "\n",
        "    length = users_number // batch_size\n",
        "    return dataset, length, features_depth, skill_depth\n",
        "    # return dataset, length\n",
        "    \n"
      ],
      "execution_count": null,
      "outputs": []
    },
    {
      "cell_type": "code",
      "metadata": {
        "id": "Xxs4CyYl2wyL"
      },
      "source": [
        "def get_embedding_dataset(dataset, features_depth, skill_depth, users_number, batch_size = 32, shuffle = True, MASK_VALUE = -1.0):\n",
        "    \n",
        "    dataset = dataset.padded_batch(\n",
        "        batch_size=batch_size,\n",
        "        padding_values=(MASK_VALUE, MASK_VALUE),\n",
        "        padded_shapes=([None, None], [None, None]),\n",
        "        drop_remainder=True\n",
        "    )\n",
        "\n",
        "    length = users_number // batch_size\n",
        "    return dataset, length\n"
      ],
      "execution_count": null,
      "outputs": []
    },
    {
      "cell_type": "code",
      "metadata": {
        "hide_input": false,
        "id": "OvrUb0fhVfWt"
      },
      "source": [
        "def get_target(y_true, y_pred):\n",
        "    mask = 1. - tf.cast(tf.equal(y_true, MASK_VALUE), y_true.dtype)\n",
        "    y_true = y_true * mask\n",
        "\n",
        "    skills, y_true = tf.split(y_true, num_or_size_splits=[-1, 1], axis=-1)\n",
        "\n",
        "    y_pred = tf.reduce_sum(y_pred * skills, axis=-1, keepdims=True)\n",
        "\n",
        "    return y_true, y_pred"
      ],
      "execution_count": null,
      "outputs": []
    },
    {
      "cell_type": "code",
      "metadata": {
        "hide_input": false,
        "id": "JLS_R8rlVfWt"
      },
      "source": [
        "def split_dataset(dataset, total_size, test_fraction, val_fraction=None):\n",
        "    def split(dataset, split_size):\n",
        "        split_set = dataset.take(split_size)\n",
        "        dataset = dataset.skip(split_size)\n",
        "        return dataset, split_set\n",
        "\n",
        "    if not 0 < test_fraction < 1:\n",
        "        raise ValueError(\"test_fraction must be between (0, 1)\")\n",
        "\n",
        "    if val_fraction is not None and not 0 < val_fraction < 1:\n",
        "        raise ValueError(\"val_fraction must be between (0, 1)\")\n",
        "\n",
        "    test_size = np.ceil(test_fraction * total_size)\n",
        "    train_size = total_size - test_size\n",
        "\n",
        "    if test_size == 0 or train_size == 0:\n",
        "        raise ValueError(\n",
        "            \"The train and test datasets must have at least 1 element. Reduce the split fraction or get more data.\")\n",
        "\n",
        "    train_set, test_set = split(dataset, test_size)\n",
        "\n",
        "    val_set = None\n",
        "    if val_fraction:\n",
        "        val_size = np.ceil(train_size * val_fraction)\n",
        "        train_set, val_set = split(train_set, val_size)\n",
        "\n",
        "    return train_set, test_set, val_set\n"
      ],
      "execution_count": null,
      "outputs": []
    },
    {
      "cell_type": "code",
      "metadata": {
        "hide_input": false,
        "id": "Lg_x99gYVfWt"
      },
      "source": [
        "import tensorflow as tf\n",
        "\n",
        "MASK_VALUE = -1.0\n",
        "\n",
        "class BinaryAccuracy(tf.keras.metrics.BinaryAccuracy):\n",
        "    def update_state(self, y_true, y_pred, sample_weight=None):\n",
        "        true, pred = get_target(y_true, y_pred)\n",
        "        super(BinaryAccuracy, self).update_state(y_true=true,\n",
        "                                                 y_pred=pred,\n",
        "                                                 sample_weight=sample_weight)\n",
        "\n",
        "\n",
        "class AUC(tf.keras.metrics.AUC):\n",
        "    def update_state(self, y_true, y_pred, sample_weight=None):\n",
        "        true, pred = get_target(y_true, y_pred)\n",
        "        super(AUC, self).update_state(y_true=true,\n",
        "                                                 y_pred=pred,\n",
        "                                                 sample_weight=sample_weight)\n",
        "\n",
        "\n",
        "class Precision(tf.keras.metrics.Precision):\n",
        "    def update_state(self, y_true, y_pred, sample_weight=None):\n",
        "        true, pred = get_target(y_true, y_pred)\n",
        "        super(Precision, self).update_state(y_true=true,\n",
        "                                            y_pred=pred,\n",
        "                                            sample_weight=sample_weight)\n",
        "\n",
        "\n",
        "class Recall(tf.keras.metrics.Recall):\n",
        "    def update_state(self, y_true, y_pred, sample_weight=None):\n",
        "        true, pred = get_target(y_true, y_pred)\n",
        "        super(Recall, self).update_state(y_true=true,\n",
        "                                         y_pred=pred,\n",
        "                                         sample_weight=sample_weight)\n",
        "\n",
        "\n",
        "class SensitivityAtSpecificity(tf.keras.metrics.SensitivityAtSpecificity):\n",
        "    def update_state(self, y_true, y_pred, sample_weight=None):\n",
        "        true, pred = get_target(y_true, y_pred)\n",
        "        super(SensitivityAtSpecificity, self).update_state(y_true=true,\n",
        "                                                           y_pred=pred,\n",
        "                                                           sample_weight=sample_weight)\n",
        "\n",
        "\n",
        "class SpecificityAtSensitivity(tf.keras.metrics.SpecificityAtSensitivity):\n",
        "    def update_state(self, y_true, y_pred, sample_weight=None):\n",
        "        true, pred = get_target(y_true, y_pred)\n",
        "        super(SpecificityAtSensitivity, self).update_state(y_true=true,\n",
        "                                                           y_pred=pred,\n",
        "                                                           sample_weight=sample_weight)\n",
        "\n",
        "\n",
        "class FalseNegatives(tf.keras.metrics.FalseNegatives):\n",
        "    def update_state(self, y_true, y_pred, sample_weight=None):\n",
        "        true, pred = get_target(y_true, y_pred)\n",
        "        super(FalseNegatives, self).update_state(y_true=true,\n",
        "                                                 y_pred=pred,\n",
        "                                                 sample_weight=sample_weight)\n",
        "\n",
        "\n",
        "class FalsePositives(tf.keras.metrics.FalsePositives):\n",
        "    def update_state(self, y_true, y_pred, sample_weight=None):\n",
        "        true, pred = get_target(y_true, y_pred)\n",
        "        super(FalsePositives, self).update_state(y_true=true,\n",
        "                                                 y_pred=pred,\n",
        "                                                 sample_weight=sample_weight)\n",
        "\n",
        "\n",
        "class TrueNegatives(tf.keras.metrics.TrueNegatives):\n",
        "    def update_state(self, y_true, y_pred, sample_weight=None):\n",
        "        true, pred = get_target(y_true, y_pred)\n",
        "        super(TrueNegatives, self).update_state(y_true=true,\n",
        "                                                y_pred=pred,\n",
        "                                                sample_weight=sample_weight)\n",
        "\n",
        "\n",
        "class TruePositives(tf.keras.metrics.TruePositives):\n",
        "    def update_state(self, y_true, y_pred, sample_weight=None):\n",
        "        true, pred = get_target(y_true, y_pred)\n",
        "        super(TrueNegatives, self).update_state(y_true=true,\n",
        "                                                y_pred=pred,\n",
        "                                                sample_weight=sample_weight)"
      ],
      "execution_count": null,
      "outputs": []
    },
    {
      "cell_type": "code",
      "metadata": {
        "id": "-XJjCoaSVfWu"
      },
      "source": [
        "def custom_loss(y_true, y_pred):\n",
        "    y_true, y_pred = get_target(y_true, y_pred)\n",
        "    return tf.keras.losses.binary_crossentropy(y_true, y_pred)"
      ],
      "execution_count": null,
      "outputs": []
    },
    {
      "cell_type": "markdown",
      "metadata": {
        "id": "7Az9s9p8gehP"
      },
      "source": [
        "# MultiHeadAttention and LSTM"
      ]
    },
    {
      "cell_type": "code",
      "metadata": {
        "id": "1dC4dvMRkuj9"
      },
      "source": [
        "mh_dataset, mh_length, mh_features_depth, mh_skill_depth = get_dataset(ASSISTMENT_2015_PATH, batch_size = 128,\n",
        "                                                           features_func=get_cross_features)"
      ],
      "execution_count": null,
      "outputs": []
    },
    {
      "cell_type": "code",
      "metadata": {
        "colab": {
          "base_uri": "https://localhost:8080/"
        },
        "id": "EGjJOTLMkukD",
        "outputId": "1fa18b04-dc8a-435a-908e-8dea74fc07fb"
      },
      "source": [
        "mh_length, mh_features_depth, mh_skill_depth"
      ],
      "execution_count": null,
      "outputs": [
        {
          "output_type": "execute_result",
          "data": {
            "text/plain": [
              "(151, 200, 100)"
            ]
          },
          "metadata": {
            "tags": []
          },
          "execution_count": 17
        }
      ]
    },
    {
      "cell_type": "code",
      "metadata": {
        "id": "PN2X30fCmtKz"
      },
      "source": [
        "mh_train_set, mh_test_set, mh_val_set = split_dataset(mh_dataset, mh_length, 0.2, 0.2)"
      ],
      "execution_count": null,
      "outputs": []
    },
    {
      "cell_type": "code",
      "metadata": {
        "colab": {
          "base_uri": "https://localhost:8080/",
          "height": 345
        },
        "id": "X1i-fFdxOOqd",
        "outputId": "3000dbba-2f51-451b-d3ed-b8bce2c097a5"
      },
      "source": [
        "sum = 0\n",
        "for batch in mh_test_set:\n",
        "  sum += batch[0].shape[0]"
      ],
      "execution_count": null,
      "outputs": [
        {
          "output_type": "error",
          "ename": "KeyboardInterrupt",
          "evalue": "ignored",
          "traceback": [
            "\u001b[0;31m---------------------------------------------------------------------------\u001b[0m",
            "\u001b[0;31mKeyboardInterrupt\u001b[0m                         Traceback (most recent call last)",
            "\u001b[0;32m<ipython-input-19-b3bdc8d29508>\u001b[0m in \u001b[0;36m<module>\u001b[0;34m()\u001b[0m\n\u001b[1;32m      1\u001b[0m \u001b[0msum\u001b[0m \u001b[0;34m=\u001b[0m \u001b[0;36m0\u001b[0m\u001b[0;34m\u001b[0m\u001b[0;34m\u001b[0m\u001b[0m\n\u001b[0;32m----> 2\u001b[0;31m \u001b[0;32mfor\u001b[0m \u001b[0mbatch\u001b[0m \u001b[0;32min\u001b[0m \u001b[0mmh_test_set\u001b[0m\u001b[0;34m:\u001b[0m\u001b[0;34m\u001b[0m\u001b[0;34m\u001b[0m\u001b[0m\n\u001b[0m\u001b[1;32m      3\u001b[0m   \u001b[0msum\u001b[0m \u001b[0;34m+=\u001b[0m \u001b[0mbatch\u001b[0m\u001b[0;34m[\u001b[0m\u001b[0;36m0\u001b[0m\u001b[0;34m]\u001b[0m\u001b[0;34m.\u001b[0m\u001b[0mshape\u001b[0m\u001b[0;34m[\u001b[0m\u001b[0;36m0\u001b[0m\u001b[0;34m]\u001b[0m\u001b[0;34m\u001b[0m\u001b[0;34m\u001b[0m\u001b[0m\n",
            "\u001b[0;32m/usr/local/lib/python3.7/dist-packages/tensorflow/python/data/ops/iterator_ops.py\u001b[0m in \u001b[0;36m__next__\u001b[0;34m(self)\u001b[0m\n\u001b[1;32m    759\u001b[0m   \u001b[0;32mdef\u001b[0m \u001b[0m__next__\u001b[0m\u001b[0;34m(\u001b[0m\u001b[0mself\u001b[0m\u001b[0;34m)\u001b[0m\u001b[0;34m:\u001b[0m\u001b[0;34m\u001b[0m\u001b[0;34m\u001b[0m\u001b[0m\n\u001b[1;32m    760\u001b[0m     \u001b[0;32mtry\u001b[0m\u001b[0;34m:\u001b[0m\u001b[0;34m\u001b[0m\u001b[0;34m\u001b[0m\u001b[0m\n\u001b[0;32m--> 761\u001b[0;31m       \u001b[0;32mreturn\u001b[0m \u001b[0mself\u001b[0m\u001b[0;34m.\u001b[0m\u001b[0m_next_internal\u001b[0m\u001b[0;34m(\u001b[0m\u001b[0;34m)\u001b[0m\u001b[0;34m\u001b[0m\u001b[0;34m\u001b[0m\u001b[0m\n\u001b[0m\u001b[1;32m    762\u001b[0m     \u001b[0;32mexcept\u001b[0m \u001b[0merrors\u001b[0m\u001b[0;34m.\u001b[0m\u001b[0mOutOfRangeError\u001b[0m\u001b[0;34m:\u001b[0m\u001b[0;34m\u001b[0m\u001b[0;34m\u001b[0m\u001b[0m\n\u001b[1;32m    763\u001b[0m       \u001b[0;32mraise\u001b[0m \u001b[0mStopIteration\u001b[0m\u001b[0;34m\u001b[0m\u001b[0;34m\u001b[0m\u001b[0m\n",
            "\u001b[0;32m/usr/local/lib/python3.7/dist-packages/tensorflow/python/data/ops/iterator_ops.py\u001b[0m in \u001b[0;36m_next_internal\u001b[0;34m(self)\u001b[0m\n\u001b[1;32m    745\u001b[0m           \u001b[0mself\u001b[0m\u001b[0;34m.\u001b[0m\u001b[0m_iterator_resource\u001b[0m\u001b[0;34m,\u001b[0m\u001b[0;34m\u001b[0m\u001b[0;34m\u001b[0m\u001b[0m\n\u001b[1;32m    746\u001b[0m           \u001b[0moutput_types\u001b[0m\u001b[0;34m=\u001b[0m\u001b[0mself\u001b[0m\u001b[0;34m.\u001b[0m\u001b[0m_flat_output_types\u001b[0m\u001b[0;34m,\u001b[0m\u001b[0;34m\u001b[0m\u001b[0;34m\u001b[0m\u001b[0m\n\u001b[0;32m--> 747\u001b[0;31m           output_shapes=self._flat_output_shapes)\n\u001b[0m\u001b[1;32m    748\u001b[0m \u001b[0;34m\u001b[0m\u001b[0m\n\u001b[1;32m    749\u001b[0m       \u001b[0;32mtry\u001b[0m\u001b[0;34m:\u001b[0m\u001b[0;34m\u001b[0m\u001b[0;34m\u001b[0m\u001b[0m\n",
            "\u001b[0;32m/usr/local/lib/python3.7/dist-packages/tensorflow/python/ops/gen_dataset_ops.py\u001b[0m in \u001b[0;36miterator_get_next\u001b[0;34m(iterator, output_types, output_shapes, name)\u001b[0m\n\u001b[1;32m   2723\u001b[0m       _result = pywrap_tfe.TFE_Py_FastPathExecute(\n\u001b[1;32m   2724\u001b[0m         \u001b[0m_ctx\u001b[0m\u001b[0;34m,\u001b[0m \u001b[0;34m\"IteratorGetNext\"\u001b[0m\u001b[0;34m,\u001b[0m \u001b[0mname\u001b[0m\u001b[0;34m,\u001b[0m \u001b[0miterator\u001b[0m\u001b[0;34m,\u001b[0m \u001b[0;34m\"output_types\"\u001b[0m\u001b[0;34m,\u001b[0m \u001b[0moutput_types\u001b[0m\u001b[0;34m,\u001b[0m\u001b[0;34m\u001b[0m\u001b[0;34m\u001b[0m\u001b[0m\n\u001b[0;32m-> 2725\u001b[0;31m         \"output_shapes\", output_shapes)\n\u001b[0m\u001b[1;32m   2726\u001b[0m       \u001b[0;32mreturn\u001b[0m \u001b[0m_result\u001b[0m\u001b[0;34m\u001b[0m\u001b[0;34m\u001b[0m\u001b[0m\n\u001b[1;32m   2727\u001b[0m     \u001b[0;32mexcept\u001b[0m \u001b[0m_core\u001b[0m\u001b[0;34m.\u001b[0m\u001b[0m_NotOkStatusException\u001b[0m \u001b[0;32mas\u001b[0m \u001b[0me\u001b[0m\u001b[0;34m:\u001b[0m\u001b[0;34m\u001b[0m\u001b[0;34m\u001b[0m\u001b[0m\n",
            "\u001b[0;31mKeyboardInterrupt\u001b[0m: "
          ]
        }
      ]
    },
    {
      "cell_type": "code",
      "metadata": {
        "id": "Yo_aFOKnORd6"
      },
      "source": [
        "sum"
      ],
      "execution_count": null,
      "outputs": []
    },
    {
      "cell_type": "code",
      "metadata": {
        "id": "-bJKtlo-gjz0"
      },
      "source": [
        "from tensorflow.keras import models, layers\n",
        "from tensorflow.keras.models import Sequential, Model\n",
        "from tensorflow.keras.layers import Masking, LSTM, TimeDistributed, Dense, MultiHeadAttention, Input\n",
        "# from keras_self_attention import SeqSelfAttention\n",
        "\n",
        "key_dim = 10\n",
        "\n",
        "# model = tf.keras.models.Sequential(name = 'MH-LSTM')\n",
        "\n",
        "input = Input(shape=(None, mh_features_depth), name = 'input')\n",
        "mask = Masking(mask_value = -1., input_shape = (None, mh_features_depth), name = 'masking')(input)\n",
        "lstm_output = LSTM(mh_features_depth, return_sequences = True, name = 'lstm')(mask)\n",
        "attention = MultiHeadAttention(num_heads=1,key_dim=mh_features_depth, name = 'attention')(lstm_output, mask)\n",
        "# attention = \n",
        "# output = TimeDistributed(Dense(sakt_skill_depth, activation = 'sigmoid', name = 'dense'), name = 'timedistributed')(attention)\n",
        "output = Dense(mh_skill_depth, activation = 'sigmoid', name = 'dense')(attention)\n",
        "\n",
        "mh_model = Model(inputs = input, outputs = output , name = 'MH-LSTM')\n",
        "\n",
        "mh_model.compile(\n",
        "        loss = custom_loss,\n",
        "        optimizer='adam',\n",
        "        metrics=[\n",
        "            BinaryAccuracy(),\n",
        "            AUC(),\n",
        "            Precision(),\n",
        "            Recall()\n",
        "        ])\n",
        "\n",
        "mh_model.summary()"
      ],
      "execution_count": null,
      "outputs": []
    },
    {
      "cell_type": "code",
      "metadata": {
        "colab": {
          "base_uri": "https://localhost:8080/",
          "height": 466
        },
        "id": "zxVPS00kt3q3",
        "outputId": "4ed9addf-37a9-4d1b-f9cd-4597baeaaf00"
      },
      "source": [
        "tf.keras.utils.plot_model(mh_model)"
      ],
      "execution_count": null,
      "outputs": [
        {
          "output_type": "execute_result",
          "data": {
            "image/png": "[encoded data removed]",
            "text/plain": [
              "<IPython.core.display.Image object>"
            ]
          },
          "metadata": {
            "tags": []
          },
          "execution_count": 91
        }
      ]
    },
    {
      "cell_type": "code",
      "metadata": {
        "colab": {
          "base_uri": "https://localhost:8080/"
        },
        "id": "hquxWqP7pSPP",
        "outputId": "818600b5-abbf-4d13-ac2d-2c4bc92afaaa"
      },
      "source": [
        "import tensorflow as tf\n",
        "\n",
        "model_name = mh_model.name\n",
        "best_w = tf.keras.callbacks.ModelCheckpoint(os.path.join(MODELS_PATH, model_name + '_best.hdf5'),\n",
        "                                monitor='val_loss',\n",
        "                                verbose=1,\n",
        "                                save_best_only=True,\n",
        "                                save_weights_only=False,\n",
        "                                mode='auto'\n",
        "                                # save_freq = 1_000\n",
        "                                )\n",
        " \n",
        "last_w = tf.keras.callbacks.ModelCheckpoint(os.path.join(MODELS_PATH, model_name + '_last.hdf5'),\n",
        "                                monitor='val_loss',\n",
        "                                verbose=0,\n",
        "                                save_best_only=False,\n",
        "                                save_weights_only=False,\n",
        "                                mode='auto'\n",
        "                                # save_freq = 1_000\n",
        "                                )\n",
        " \n",
        "# early_stopping = tf.keras.callbacks.EarlyStopping(monitor='loss', patience=5)\n",
        " \n",
        "callbacks = [best_w, last_w]\n",
        "\n",
        "\n",
        "\n",
        "mh_history = mh_model.fit(mh_train_set,\n",
        "                    epochs = 50,\n",
        "                    verbose = 1,\n",
        "                    validation_data=mh_val_set,\n",
        "                    callbacks = callbacks)"
      ],
      "execution_count": null,
      "outputs": [
        {
          "output_type": "stream",
          "text": [
            "Epoch 1/50\n",
            "96/96 [==============================] - 27s 216ms/step - loss: 0.0897 - binary_accuracy: 0.9611 - auc_4: 0.9821 - precision_4: 0.7351 - recall_4: 0.9828 - val_loss: 0.0763 - val_binary_accuracy: 0.9651 - val_auc_4: 0.9864 - val_precision_4: 0.7284 - val_recall_4: 1.0000\n",
            "\n",
            "Epoch 00001: val_loss improved from inf to 0.07626, saving model to gdrive/MyDrive/Colab Notebooks/FQW/data/models/MH-LSTM_best.hdf5\n",
            "Epoch 2/50\n",
            "96/96 [==============================] - 13s 105ms/step - loss: 0.0840 - binary_accuracy: 0.9617 - auc_4: 0.9853 - precision_4: 0.7335 - recall_4: 0.9974 - val_loss: 0.0778 - val_binary_accuracy: 0.9652 - val_auc_4: 0.9873 - val_precision_4: 0.7329 - val_recall_4: 0.9987\n",
            "\n",
            "Epoch 00002: val_loss did not improve from 0.07626\n",
            "Epoch 3/50\n",
            "96/96 [==============================] - 13s 107ms/step - loss: 0.0824 - binary_accuracy: 0.9619 - auc_4: 0.9863 - precision_4: 0.7364 - recall_4: 0.9917 - val_loss: 0.0829 - val_binary_accuracy: 0.9618 - val_auc_4: 0.9867 - val_precision_4: 0.7416 - val_recall_4: 0.9824\n",
            "\n",
            "Epoch 00003: val_loss did not improve from 0.07626\n",
            "Epoch 4/50\n",
            "96/96 [==============================] - 13s 106ms/step - loss: 0.0811 - binary_accuracy: 0.9630 - auc_4: 0.9872 - precision_4: 0.7453 - recall_4: 0.9787 - val_loss: 0.0800 - val_binary_accuracy: 0.9629 - val_auc_4: 0.9873 - val_precision_4: 0.7461 - val_recall_4: 0.9837\n",
            "\n",
            "Epoch 00004: val_loss did not improve from 0.07626\n",
            "Epoch 5/50\n",
            "96/96 [==============================] - 14s 109ms/step - loss: 0.0763 - binary_accuracy: 0.9651 - auc_4: 0.9884 - precision_4: 0.7582 - recall_4: 0.9592 - val_loss: 0.0718 - val_binary_accuracy: 0.9669 - val_auc_4: 0.9893 - val_precision_4: 0.7635 - val_recall_4: 0.9472\n",
            "\n",
            "Epoch 00005: val_loss improved from 0.07626 to 0.07181, saving model to gdrive/MyDrive/Colab Notebooks/FQW/data/models/MH-LSTM_best.hdf5\n",
            "Epoch 6/50\n",
            "96/96 [==============================] - 13s 108ms/step - loss: 0.0772 - binary_accuracy: 0.9654 - auc_4: 0.9888 - precision_4: 0.7650 - recall_4: 0.9493 - val_loss: 0.0762 - val_binary_accuracy: 0.9662 - val_auc_4: 0.9893 - val_precision_4: 0.7686 - val_recall_4: 0.9507\n",
            "\n",
            "Epoch 00006: val_loss did not improve from 0.07181\n",
            "Epoch 7/50\n",
            "96/96 [==============================] - 14s 110ms/step - loss: 0.0740 - binary_accuracy: 0.9667 - auc_4: 0.9895 - precision_4: 0.7720 - recall_4: 0.9449 - val_loss: 0.0744 - val_binary_accuracy: 0.9665 - val_auc_4: 0.9896 - val_precision_4: 0.7757 - val_recall_4: 0.9547\n",
            "\n",
            "Epoch 00007: val_loss did not improve from 0.07181\n",
            "Epoch 8/50\n",
            "96/96 [==============================] - 13s 110ms/step - loss: 0.0736 - binary_accuracy: 0.9667 - auc_4: 0.9897 - precision_4: 0.7743 - recall_4: 0.9444 - val_loss: 0.0749 - val_binary_accuracy: 0.9661 - val_auc_4: 0.9898 - val_precision_4: 0.7716 - val_recall_4: 0.9496\n",
            "\n",
            "Epoch 00008: val_loss did not improve from 0.07181\n",
            "Epoch 9/50\n",
            "96/96 [==============================] - 13s 105ms/step - loss: 0.0761 - binary_accuracy: 0.9655 - auc_4: 0.9896 - precision_4: 0.7784 - recall_4: 0.9414 - val_loss: 0.0714 - val_binary_accuracy: 0.9679 - val_auc_4: 0.9908 - val_precision_4: 0.7755 - val_recall_4: 0.9652\n",
            "\n",
            "Epoch 00009: val_loss improved from 0.07181 to 0.07136, saving model to gdrive/MyDrive/Colab Notebooks/FQW/data/models/MH-LSTM_best.hdf5\n",
            "Epoch 10/50\n",
            "96/96 [==============================] - 13s 109ms/step - loss: 0.0733 - binary_accuracy: 0.9672 - auc_4: 0.9905 - precision_4: 0.7822 - recall_4: 0.9406 - val_loss: 0.0714 - val_binary_accuracy: 0.9665 - val_auc_4: 0.9908 - val_precision_4: 0.7838 - val_recall_4: 0.9486\n",
            "\n",
            "Epoch 00010: val_loss did not improve from 0.07136\n",
            "Epoch 11/50\n",
            "96/96 [==============================] - 14s 111ms/step - loss: 0.0725 - binary_accuracy: 0.9673 - auc_4: 0.9908 - precision_4: 0.7847 - recall_4: 0.9405 - val_loss: 0.0736 - val_binary_accuracy: 0.9670 - val_auc_4: 0.9909 - val_precision_4: 0.7818 - val_recall_4: 0.9471\n",
            "\n",
            "Epoch 00011: val_loss did not improve from 0.07136\n",
            "Epoch 12/50\n",
            "96/96 [==============================] - 13s 108ms/step - loss: 0.0703 - binary_accuracy: 0.9678 - auc_4: 0.9912 - precision_4: 0.7880 - recall_4: 0.9373 - val_loss: 0.0691 - val_binary_accuracy: 0.9681 - val_auc_4: 0.9915 - val_precision_4: 0.7878 - val_recall_4: 0.9371\n",
            "\n",
            "Epoch 00012: val_loss improved from 0.07136 to 0.06906, saving model to gdrive/MyDrive/Colab Notebooks/FQW/data/models/MH-LSTM_best.hdf5\n",
            "Epoch 13/50\n",
            "96/96 [==============================] - 13s 108ms/step - loss: 0.0703 - binary_accuracy: 0.9677 - auc_4: 0.9913 - precision_4: 0.7904 - recall_4: 0.9366 - val_loss: 0.0694 - val_binary_accuracy: 0.9677 - val_auc_4: 0.9915 - val_precision_4: 0.7910 - val_recall_4: 0.9449\n",
            "\n",
            "Epoch 00013: val_loss did not improve from 0.06906\n",
            "Epoch 14/50\n",
            "96/96 [==============================] - 13s 108ms/step - loss: 0.0707 - binary_accuracy: 0.9677 - auc_4: 0.9914 - precision_4: 0.7913 - recall_4: 0.9382 - val_loss: 0.0668 - val_binary_accuracy: 0.9698 - val_auc_4: 0.9922 - val_precision_4: 0.8088 - val_recall_4: 0.9056\n",
            "\n",
            "Epoch 00014: val_loss improved from 0.06906 to 0.06677, saving model to gdrive/MyDrive/Colab Notebooks/FQW/data/models/MH-LSTM_best.hdf5\n",
            "Epoch 15/50\n",
            "96/96 [==============================] - 13s 108ms/step - loss: 0.0707 - binary_accuracy: 0.9681 - auc_4: 0.9916 - precision_4: 0.7939 - recall_4: 0.9355 - val_loss: 0.0704 - val_binary_accuracy: 0.9691 - val_auc_4: 0.9921 - val_precision_4: 0.7927 - val_recall_4: 0.9502\n",
            "\n",
            "Epoch 00015: val_loss did not improve from 0.06677\n",
            "Epoch 16/50\n",
            "96/96 [==============================] - 13s 108ms/step - loss: 0.0714 - binary_accuracy: 0.9676 - auc_4: 0.9915 - precision_4: 0.7938 - recall_4: 0.9356 - val_loss: 0.0662 - val_binary_accuracy: 0.9696 - val_auc_4: 0.9921 - val_precision_4: 0.7941 - val_recall_4: 0.9370\n",
            "\n",
            "Epoch 00016: val_loss improved from 0.06677 to 0.06625, saving model to gdrive/MyDrive/Colab Notebooks/FQW/data/models/MH-LSTM_best.hdf5\n",
            "Epoch 17/50\n",
            "96/96 [==============================] - 13s 107ms/step - loss: 0.0701 - binary_accuracy: 0.9680 - auc_4: 0.9918 - precision_4: 0.7954 - recall_4: 0.9349 - val_loss: 0.0714 - val_binary_accuracy: 0.9671 - val_auc_4: 0.9915 - val_precision_4: 0.8038 - val_recall_4: 0.9217\n",
            "\n",
            "Epoch 00017: val_loss did not improve from 0.06625\n",
            "Epoch 18/50\n",
            "96/96 [==============================] - 14s 112ms/step - loss: 0.0670 - binary_accuracy: 0.9699 - auc_4: 0.9922 - precision_4: 0.7978 - recall_4: 0.9338 - val_loss: 0.0652 - val_binary_accuracy: 0.9696 - val_auc_4: 0.9924 - val_precision_4: 0.7886 - val_recall_4: 0.9533\n",
            "\n",
            "Epoch 00018: val_loss improved from 0.06625 to 0.06521, saving model to gdrive/MyDrive/Colab Notebooks/FQW/data/models/MH-LSTM_best.hdf5\n",
            "Epoch 19/50\n",
            "96/96 [==============================] - 14s 111ms/step - loss: 0.0668 - binary_accuracy: 0.9704 - auc_4: 0.9925 - precision_4: 0.7986 - recall_4: 0.9362 - val_loss: 0.0690 - val_binary_accuracy: 0.9678 - val_auc_4: 0.9919 - val_precision_4: 0.8063 - val_recall_4: 0.9248\n",
            "\n",
            "Epoch 00019: val_loss did not improve from 0.06521\n",
            "Epoch 20/50\n",
            "96/96 [==============================] - 13s 108ms/step - loss: 0.0677 - binary_accuracy: 0.9691 - auc_4: 0.9922 - precision_4: 0.7993 - recall_4: 0.9356 - val_loss: 0.0656 - val_binary_accuracy: 0.9686 - val_auc_4: 0.9923 - val_precision_4: 0.7852 - val_recall_4: 0.9579\n",
            "\n",
            "Epoch 00020: val_loss did not improve from 0.06521\n",
            "Epoch 21/50\n",
            "96/96 [==============================] - 13s 108ms/step - loss: 0.0692 - binary_accuracy: 0.9686 - auc_4: 0.9921 - precision_4: 0.8023 - recall_4: 0.9349 - val_loss: 0.0652 - val_binary_accuracy: 0.9714 - val_auc_4: 0.9930 - val_precision_4: 0.8042 - val_recall_4: 0.9310\n",
            "\n",
            "Epoch 00021: val_loss improved from 0.06521 to 0.06519, saving model to gdrive/MyDrive/Colab Notebooks/FQW/data/models/MH-LSTM_best.hdf5\n",
            "Epoch 22/50\n",
            "96/96 [==============================] - 14s 110ms/step - loss: 0.0662 - binary_accuracy: 0.9697 - auc_4: 0.9925 - precision_4: 0.8036 - recall_4: 0.9342 - val_loss: 0.0646 - val_binary_accuracy: 0.9704 - val_auc_4: 0.9927 - val_precision_4: 0.8045 - val_recall_4: 0.9374\n",
            "\n",
            "Epoch 00022: val_loss improved from 0.06519 to 0.06463, saving model to gdrive/MyDrive/Colab Notebooks/FQW/data/models/MH-LSTM_best.hdf5\n",
            "Epoch 23/50\n",
            "96/96 [==============================] - 14s 109ms/step - loss: 0.0674 - binary_accuracy: 0.9696 - auc_4: 0.9923 - precision_4: 0.8024 - recall_4: 0.9339 - val_loss: 0.0628 - val_binary_accuracy: 0.9719 - val_auc_4: 0.9933 - val_precision_4: 0.7956 - val_recall_4: 0.9474\n",
            "\n",
            "Epoch 00023: val_loss improved from 0.06463 to 0.06283, saving model to gdrive/MyDrive/Colab Notebooks/FQW/data/models/MH-LSTM_best.hdf5\n",
            "Epoch 24/50\n",
            "96/96 [==============================] - 14s 110ms/step - loss: 0.0664 - binary_accuracy: 0.9702 - auc_4: 0.9926 - precision_4: 0.8041 - recall_4: 0.9347 - val_loss: 0.0669 - val_binary_accuracy: 0.9696 - val_auc_4: 0.9926 - val_precision_4: 0.8068 - val_recall_4: 0.9384\n",
            "\n",
            "Epoch 00024: val_loss did not improve from 0.06283\n",
            "Epoch 25/50\n",
            "96/96 [==============================] - 13s 107ms/step - loss: 0.0675 - binary_accuracy: 0.9696 - auc_4: 0.9925 - precision_4: 0.8052 - recall_4: 0.9332 - val_loss: 0.0669 - val_binary_accuracy: 0.9698 - val_auc_4: 0.9926 - val_precision_4: 0.8027 - val_recall_4: 0.9378\n",
            "\n",
            "Epoch 00025: val_loss did not improve from 0.06283\n",
            "Epoch 26/50\n",
            "96/96 [==============================] - 14s 110ms/step - loss: 0.0658 - binary_accuracy: 0.9701 - auc_4: 0.9926 - precision_4: 0.8061 - recall_4: 0.9328 - val_loss: 0.0637 - val_binary_accuracy: 0.9715 - val_auc_4: 0.9931 - val_precision_4: 0.7807 - val_recall_4: 0.9582\n",
            "\n",
            "Epoch 00026: val_loss did not improve from 0.06283\n",
            "Epoch 27/50\n",
            "96/96 [==============================] - 14s 109ms/step - loss: 0.0684 - binary_accuracy: 0.9694 - auc_4: 0.9924 - precision_4: 0.8054 - recall_4: 0.9333 - val_loss: 0.0620 - val_binary_accuracy: 0.9724 - val_auc_4: 0.9934 - val_precision_4: 0.8060 - val_recall_4: 0.9319\n",
            "\n",
            "Epoch 00027: val_loss improved from 0.06283 to 0.06196, saving model to gdrive/MyDrive/Colab Notebooks/FQW/data/models/MH-LSTM_best.hdf5\n",
            "Epoch 28/50\n",
            "96/96 [==============================] - 14s 111ms/step - loss: 0.0649 - binary_accuracy: 0.9710 - auc_4: 0.9930 - precision_4: 0.8065 - recall_4: 0.9344 - val_loss: 0.0683 - val_binary_accuracy: 0.9693 - val_auc_4: 0.9925 - val_precision_4: 0.8008 - val_recall_4: 0.9362\n",
            "\n",
            "Epoch 00028: val_loss did not improve from 0.06196\n",
            "Epoch 29/50\n",
            "96/96 [==============================] - 14s 112ms/step - loss: 0.0646 - binary_accuracy: 0.9710 - auc_4: 0.9929 - precision_4: 0.8058 - recall_4: 0.9340 - val_loss: 0.0669 - val_binary_accuracy: 0.9706 - val_auc_4: 0.9929 - val_precision_4: 0.8195 - val_recall_4: 0.9233\n",
            "\n",
            "Epoch 00029: val_loss did not improve from 0.06196\n",
            "Epoch 30/50\n",
            "96/96 [==============================] - 15s 125ms/step - loss: 0.0634 - binary_accuracy: 0.9716 - auc_4: 0.9932 - precision_4: 0.8097 - recall_4: 0.9331 - val_loss: 0.0672 - val_binary_accuracy: 0.9697 - val_auc_4: 0.9928 - val_precision_4: 0.7941 - val_recall_4: 0.9503\n",
            "\n",
            "Epoch 00030: val_loss did not improve from 0.06196\n",
            "Epoch 31/50\n",
            "96/96 [==============================] - 13s 108ms/step - loss: 0.0652 - binary_accuracy: 0.9710 - auc_4: 0.9930 - precision_4: 0.8082 - recall_4: 0.9348 - val_loss: 0.0717 - val_binary_accuracy: 0.9682 - val_auc_4: 0.9921 - val_precision_4: 0.8293 - val_recall_4: 0.9086\n",
            "\n",
            "Epoch 00031: val_loss did not improve from 0.06196\n",
            "Epoch 32/50\n",
            "96/96 [==============================] - 14s 112ms/step - loss: 0.0634 - binary_accuracy: 0.9713 - auc_4: 0.9931 - precision_4: 0.8103 - recall_4: 0.9321 - val_loss: 0.0593 - val_binary_accuracy: 0.9735 - val_auc_4: 0.9938 - val_precision_4: 0.8017 - val_recall_4: 0.9459\n",
            "\n",
            "Epoch 00032: val_loss improved from 0.06196 to 0.05926, saving model to gdrive/MyDrive/Colab Notebooks/FQW/data/models/MH-LSTM_best.hdf5\n",
            "Epoch 33/50\n",
            "96/96 [==============================] - 13s 107ms/step - loss: 0.0656 - binary_accuracy: 0.9703 - auc_4: 0.9928 - precision_4: 0.8095 - recall_4: 0.9336 - val_loss: 0.0652 - val_binary_accuracy: 0.9704 - val_auc_4: 0.9929 - val_precision_4: 0.8129 - val_recall_4: 0.9324\n",
            "\n",
            "Epoch 00033: val_loss did not improve from 0.05926\n",
            "Epoch 34/50\n",
            "96/96 [==============================] - 13s 110ms/step - loss: 0.0646 - binary_accuracy: 0.9711 - auc_4: 0.9930 - precision_4: 0.8091 - recall_4: 0.9321 - val_loss: 0.0697 - val_binary_accuracy: 0.9688 - val_auc_4: 0.9925 - val_precision_4: 0.8084 - val_recall_4: 0.9392\n",
            "\n",
            "Epoch 00034: val_loss did not improve from 0.05926\n",
            "Epoch 35/50\n",
            "96/96 [==============================] - 13s 109ms/step - loss: 0.0652 - binary_accuracy: 0.9708 - auc_4: 0.9930 - precision_4: 0.8113 - recall_4: 0.9323 - val_loss: 0.0665 - val_binary_accuracy: 0.9696 - val_auc_4: 0.9927 - val_precision_4: 0.8266 - val_recall_4: 0.9213\n",
            "\n",
            "Epoch 00035: val_loss did not improve from 0.05926\n",
            "Epoch 36/50\n",
            "96/96 [==============================] - 13s 109ms/step - loss: 0.0639 - binary_accuracy: 0.9715 - auc_4: 0.9931 - precision_4: 0.8113 - recall_4: 0.9331 - val_loss: 0.0708 - val_binary_accuracy: 0.9677 - val_auc_4: 0.9923 - val_precision_4: 0.8147 - val_recall_4: 0.9308\n",
            "\n",
            "Epoch 00036: val_loss did not improve from 0.05926\n",
            "Epoch 37/50\n",
            "96/96 [==============================] - 14s 111ms/step - loss: 0.0636 - binary_accuracy: 0.9715 - auc_4: 0.9932 - precision_4: 0.8115 - recall_4: 0.9341 - val_loss: 0.0667 - val_binary_accuracy: 0.9711 - val_auc_4: 0.9932 - val_precision_4: 0.8236 - val_recall_4: 0.9152\n",
            "\n",
            "Epoch 00037: val_loss did not improve from 0.05926\n",
            "Epoch 38/50\n",
            "96/96 [==============================] - 13s 106ms/step - loss: 0.0662 - binary_accuracy: 0.9701 - auc_4: 0.9929 - precision_4: 0.8142 - recall_4: 0.9333 - val_loss: 0.0651 - val_binary_accuracy: 0.9719 - val_auc_4: 0.9933 - val_precision_4: 0.8144 - val_recall_4: 0.9339\n",
            "\n",
            "Epoch 00038: val_loss did not improve from 0.05926\n",
            "Epoch 39/50\n",
            "96/96 [==============================] - 13s 106ms/step - loss: 0.0662 - binary_accuracy: 0.9701 - auc_4: 0.9928 - precision_4: 0.8151 - recall_4: 0.9315 - val_loss: 0.0632 - val_binary_accuracy: 0.9713 - val_auc_4: 0.9936 - val_precision_4: 0.7997 - val_recall_4: 0.9555\n",
            "\n",
            "Epoch 00039: val_loss did not improve from 0.05926\n",
            "Epoch 40/50\n",
            "96/96 [==============================] - 13s 108ms/step - loss: 0.0672 - binary_accuracy: 0.9705 - auc_4: 0.9930 - precision_4: 0.8116 - recall_4: 0.9334 - val_loss: 0.0663 - val_binary_accuracy: 0.9708 - val_auc_4: 0.9932 - val_precision_4: 0.8162 - val_recall_4: 0.9315\n",
            "\n",
            "Epoch 00040: val_loss did not improve from 0.05926\n",
            "Epoch 41/50\n",
            "96/96 [==============================] - 13s 108ms/step - loss: 0.0638 - binary_accuracy: 0.9713 - auc_4: 0.9932 - precision_4: 0.8138 - recall_4: 0.9341 - val_loss: 0.0645 - val_binary_accuracy: 0.9707 - val_auc_4: 0.9932 - val_precision_4: 0.8143 - val_recall_4: 0.9317\n",
            "\n",
            "Epoch 00041: val_loss did not improve from 0.05926\n",
            "Epoch 42/50\n",
            "96/96 [==============================] - 13s 108ms/step - loss: 0.0643 - binary_accuracy: 0.9711 - auc_4: 0.9931 - precision_4: 0.8150 - recall_4: 0.9324 - val_loss: 0.0637 - val_binary_accuracy: 0.9720 - val_auc_4: 0.9934 - val_precision_4: 0.8179 - val_recall_4: 0.9286\n",
            "\n",
            "Epoch 00042: val_loss did not improve from 0.05926\n",
            "Epoch 43/50\n",
            "96/96 [==============================] - 14s 111ms/step - loss: 0.0639 - binary_accuracy: 0.9714 - auc_4: 0.9932 - precision_4: 0.8130 - recall_4: 0.9331 - val_loss: 0.0620 - val_binary_accuracy: 0.9728 - val_auc_4: 0.9937 - val_precision_4: 0.8226 - val_recall_4: 0.9244\n",
            "\n",
            "Epoch 00043: val_loss did not improve from 0.05926\n",
            "Epoch 44/50\n",
            "96/96 [==============================] - 13s 109ms/step - loss: 0.0651 - binary_accuracy: 0.9714 - auc_4: 0.9932 - precision_4: 0.8142 - recall_4: 0.9328 - val_loss: 0.0626 - val_binary_accuracy: 0.9712 - val_auc_4: 0.9935 - val_precision_4: 0.8118 - val_recall_4: 0.9406\n",
            "\n",
            "Epoch 00044: val_loss did not improve from 0.05926\n",
            "Epoch 45/50\n",
            "96/96 [==============================] - 14s 110ms/step - loss: 0.0631 - binary_accuracy: 0.9717 - auc_4: 0.9933 - precision_4: 0.8168 - recall_4: 0.9327 - val_loss: 0.0623 - val_binary_accuracy: 0.9717 - val_auc_4: 0.9933 - val_precision_4: 0.8202 - val_recall_4: 0.9259\n",
            "\n",
            "Epoch 00045: val_loss did not improve from 0.05926\n",
            "Epoch 46/50\n",
            "96/96 [==============================] - 13s 108ms/step - loss: 0.0659 - binary_accuracy: 0.9707 - auc_4: 0.9931 - precision_4: 0.8157 - recall_4: 0.9322 - val_loss: 0.0596 - val_binary_accuracy: 0.9732 - val_auc_4: 0.9938 - val_precision_4: 0.8216 - val_recall_4: 0.9283\n",
            "\n",
            "Epoch 00046: val_loss did not improve from 0.05926\n",
            "Epoch 47/50\n",
            "96/96 [==============================] - 13s 109ms/step - loss: 0.0646 - binary_accuracy: 0.9714 - auc_4: 0.9933 - precision_4: 0.8175 - recall_4: 0.9322 - val_loss: 0.0663 - val_binary_accuracy: 0.9700 - val_auc_4: 0.9930 - val_precision_4: 0.8204 - val_recall_4: 0.9288\n",
            "\n",
            "Epoch 00047: val_loss did not improve from 0.05926\n",
            "Epoch 48/50\n",
            "96/96 [==============================] - 13s 107ms/step - loss: 0.0633 - binary_accuracy: 0.9713 - auc_4: 0.9933 - precision_4: 0.8183 - recall_4: 0.9317 - val_loss: 0.0652 - val_binary_accuracy: 0.9726 - val_auc_4: 0.9936 - val_precision_4: 0.8263 - val_recall_4: 0.9214\n",
            "\n",
            "Epoch 00048: val_loss did not improve from 0.05926\n",
            "Epoch 49/50\n",
            "96/96 [==============================] - 13s 108ms/step - loss: 0.0658 - binary_accuracy: 0.9707 - auc_4: 0.9932 - precision_4: 0.8180 - recall_4: 0.9320 - val_loss: 0.0600 - val_binary_accuracy: 0.9734 - val_auc_4: 0.9937 - val_precision_4: 0.8313 - val_recall_4: 0.9104\n",
            "\n",
            "Epoch 00049: val_loss did not improve from 0.05926\n",
            "Epoch 50/50\n",
            "96/96 [==============================] - 13s 110ms/step - loss: 0.0629 - binary_accuracy: 0.9720 - auc_4: 0.9934 - precision_4: 0.8174 - recall_4: 0.9325 - val_loss: 0.0624 - val_binary_accuracy: 0.9721 - val_auc_4: 0.9936 - val_precision_4: 0.8274 - val_recall_4: 0.9230\n",
            "\n",
            "Epoch 00050: val_loss did not improve from 0.05926\n"
          ],
          "name": "stdout"
        }
      ]
    },
    {
      "cell_type": "code",
      "metadata": {
        "id": "v3AtdYjSYrPn"
      },
      "source": [
        "filename = os.path.join(HISTORY_PATH, 'LSTM-Multihead1.csv')\n",
        "\n",
        "history_df = pd.DataFrame(mh_history.history)\n",
        "history_df.to_csv(filename)"
      ],
      "execution_count": null,
      "outputs": []
    },
    {
      "cell_type": "code",
      "metadata": {
        "colab": {
          "base_uri": "https://localhost:8080/",
          "height": 294
        },
        "id": "VZC3ccs6R2QV",
        "outputId": "ca3a8909-c934-461e-8c57-46f12f938542"
      },
      "source": [
        "import matplotlib.pyplot as plt\n",
        "\n",
        "mh_loss = mh_history.history['loss']\n",
        "mh_val_loss = mh_history.history['val_loss']\n",
        "epochs = np.arange(len(mh_loss))\n",
        "plt.plot(epochs, mh_loss, label = 'loss')\n",
        "plt.plot(epochs, mh_val_loss, label = 'validation loss')\n",
        "plt.title('MH-LSTM')\n",
        "plt.xlabel('Epochs')\n",
        "plt.ylabel('Loss value')\n",
        "plt.legend()\n",
        "plt.grid()\n",
        "plt.show()"
      ],
      "execution_count": null,
      "outputs": [
        {
          "output_type": "display_data",
          "data": {
            "image/png": "[encoded data removed]",
            "text/plain": [
              "<Figure size 432x288 with 1 Axes>"
            ]
          },
          "metadata": {
            "tags": [],
            "needs_background": "light"
          }
        }
      ]
    },
    {
      "cell_type": "code",
      "metadata": {
        "colab": {
          "base_uri": "https://localhost:8080/"
        },
        "id": "s8J3BCupq4yn",
        "outputId": "883c98a7-d943-48af-e4bc-cf559eb2a795"
      },
      "source": [
        "import h5py\n",
        "\n",
        "file = h5py.File(os.path.join(MODELS_PATH, model_name +'_best.hdf5'),'r')\n",
        "best_mh_model = tf.keras.models.load_model(file, compile=False)\n",
        "\n",
        "best_mh_model.compile(\n",
        "        loss = custom_loss,\n",
        "        optimizer='adam',\n",
        "        metrics=[\n",
        "            BinaryAccuracy(),\n",
        "            AUC(),\n",
        "            Precision(),\n",
        "            Recall()\n",
        "        ])\n",
        "\n",
        "\n",
        "\n",
        "mh_result = mh_model.evaluate(mh_test_set, verbose=1)\n",
        "best_mh_result = best_mh_model.evaluate(mh_test_set, verbose=1)\n",
        "# 31/31 [==============================] - 4s 46ms/step - loss: 0.0628 - binary_accuracy: 0.9717 - auc_5: 0.9934 - precision_5: 0.8309 - recall_5: 0.9230\n",
        "# 31/31 [==============================] - 5s 50ms/step - loss: 0.0623 - binary_accuracy: 0.9718 - auc_7: 0.9932 - precision_7: 0.8017 - recall_7: 0.9385\n",
        "\n",
        "\n",
        "# best_mh_result = best_mh_model.evaluate(mh_test_set, verbose=1)\n",
        "# 200 dim cross features\n",
        "# 31/31 [==============================] - 4s 46ms/step - loss: 0.0628 - binary_accuracy: 0.9717 - auc_5: 0.9934 - precision_5: 0.8309 - recall_5: 0.9230\n",
        "# 31/31 [==============================] - 5s 50ms/step - loss: 0.0623 - binary_accuracy: 0.9718 - auc_7: 0.9932 - precision_7: 0.8017 - recall_7: 0.9385\n",
        "# 100 dim emb features\n",
        "# 31/31 [==============================] - 3s 28ms/step - loss: 0.0764 - binary_accuracy: 0.9649 - auc: 0.9888 - precision: 0.7569 - recall: 0.9595\n",
        "\n",
        "# 100 dim emb features 2 mh layers\n",
        "# 31/31 [==============================] - 4s 41ms/step - loss: 0.0713 - binary_accuracy: 0.9673 - auc_4: 0.9905 - precision_4: 0.7872 - recall_4: 0.9203"
      ],
      "execution_count": null,
      "outputs": [
        {
          "output_type": "stream",
          "text": [
            "31/31 [==============================] - 4s 46ms/step - loss: 0.0628 - binary_accuracy: 0.9717 - auc_5: 0.9934 - precision_5: 0.8309 - recall_5: 0.9230\n",
            "31/31 [==============================] - 5s 50ms/step - loss: 0.0623 - binary_accuracy: 0.9718 - auc_7: 0.9932 - precision_7: 0.8017 - recall_7: 0.9385\n"
          ],
          "name": "stdout"
        }
      ]
    },
    {
      "cell_type": "code",
      "metadata": {
        "colab": {
          "base_uri": "https://localhost:8080/"
        },
        "id": "-_2eZzF2XB1A",
        "outputId": "49f87511-cebb-4c1e-c437-73dca258ad04"
      },
      "source": [
        "# mh_model.evaluate(mh_dataset, verbose=1)"
      ],
      "execution_count": null,
      "outputs": [
        {
          "output_type": "stream",
          "text": [
            "151/151 [==============================] - 9s 46ms/step - loss: 0.0622 - binary_accuracy: 0.9727 - auc_4: 0.9937 - precision_4: 0.8271 - recall_4: 0.9237\n"
          ],
          "name": "stdout"
        },
        {
          "output_type": "execute_result",
          "data": {
            "text/plain": [
              "[0.06216760352253914,\n",
              " 0.972701907157898,\n",
              " 0.9936519265174866,\n",
              " 0.8271026611328125,\n",
              " 0.9237157106399536]"
            ]
          },
          "metadata": {
            "tags": []
          },
          "execution_count": 102
        }
      ]
    },
    {
      "cell_type": "markdown",
      "metadata": {
        "id": "VmL5vu95AB5_"
      },
      "source": [
        "# Luong Attention (or MultiHeadAttention), NAKTM ideas and LSTM"
      ]
    },
    {
      "cell_type": "code",
      "metadata": {
        "id": "wsizbe8kaSM5"
      },
      "source": [
        "from collections import OrderedDict\n",
        "\n",
        "word2vec, df, skill_with_answer = get_word2vec(ASSISTMENT_2015_PATH, embedding_size = 50) # TODO: Try features from EERN\n",
        "\n",
        "exercise2vec, _, _ = get_word2vec(ASSISTMENT_2015_PATH, skill_with_answer=False, embedding_size=50)\n",
        "dct = dict(zip(exercise2vec.wv.index2word, exercise2vec.wv.vectors))\n",
        "dct = {int(key.split('.')[0]):value for key, value in dct.items()}\n",
        "exercise_embeddings = tf.constant([value for key, value in sorted(dct.items())])\n",
        "exercise_embeddings = tf.transpose(exercise_embeddings)"
      ],
      "execution_count": null,
      "outputs": []
    },
    {
      "cell_type": "code",
      "metadata": {
        "id": "u6uMWFKPLT9d"
      },
      "source": [
        "add_dataset, add_features_depth, add_skill_depth, add_users = get_embedding_features(df, word2vec)\n",
        "add_dataset, add_length = get_embedding_dataset(add_dataset, add_features_depth, add_skill_depth, add_users, batch_size = 128)"
      ],
      "execution_count": null,
      "outputs": []
    },
    {
      "cell_type": "code",
      "metadata": {
        "colab": {
          "base_uri": "https://localhost:8080/"
        },
        "id": "gtnsq8dkc3qm",
        "outputId": "7458ba09-bb35-42a9-c93a-b973824f12a1"
      },
      "source": [
        "exercise_embeddings"
      ],
      "execution_count": null,
      "outputs": [
        {
          "output_type": "execute_result",
          "data": {
            "text/plain": [
              "<tf.Tensor: shape=(50, 100), dtype=float32, numpy=\n",
              "array([[-7.1410299e-03, -3.3162264e-03,  1.5530504e-04, ...,\n",
              "         2.3312345e-03, -3.5033314e-05,  5.4590902e-03],\n",
              "       [-1.1535767e-03,  3.0849740e-04,  2.6931241e-03, ...,\n",
              "        -1.7220899e-03,  8.9401063e-03,  7.1384674e-03],\n",
              "       [ 5.0916034e-03,  3.9116442e-03, -3.7266975e-03, ...,\n",
              "        -5.2722581e-03,  8.7316381e-03, -4.6918471e-05],\n",
              "       ...,\n",
              "       [ 3.4763832e-03,  4.5990320e-03, -5.1660766e-03, ...,\n",
              "        -7.6644802e-03,  9.3122143e-03,  1.4779369e-03],\n",
              "       [ 4.8438259e-03,  5.3139403e-03,  8.7451050e-03, ...,\n",
              "        -8.1054997e-03, -5.1104561e-03, -5.0650425e-03],\n",
              "       [-8.8605436e-04,  3.5724856e-03,  2.5606758e-03, ...,\n",
              "        -1.4190958e-03,  9.1143902e-03, -3.8014769e-04]], dtype=float32)>"
            ]
          },
          "metadata": {
            "tags": []
          },
          "execution_count": 41
        }
      ]
    },
    {
      "cell_type": "code",
      "metadata": {
        "id": "A_e_R_pYZvAY"
      },
      "source": [
        "# nakt_dataset, nakt_length, nakt_features_depth, nakt_skill_depth = get_dataset(ASSISTMENT_2015_PATH, batch_size = 32, features_func=get_cross_features)"
      ],
      "execution_count": null,
      "outputs": []
    },
    {
      "cell_type": "code",
      "metadata": {
        "id": "RGIsQexB4PdD"
      },
      "source": [
        "# help(get_embedding_dataset)"
      ],
      "execution_count": null,
      "outputs": []
    },
    {
      "cell_type": "code",
      "metadata": {
        "colab": {
          "base_uri": "https://localhost:8080/"
        },
        "id": "SMcvN8g5LT9e",
        "outputId": "2c9188e1-1dd2-4e41-f920-61f89412408b"
      },
      "source": [
        "add_length, add_features_depth, add_skill_depth"
      ],
      "execution_count": null,
      "outputs": [
        {
          "output_type": "execute_result",
          "data": {
            "text/plain": [
              "(151, 50, 100)"
            ]
          },
          "metadata": {
            "tags": []
          },
          "execution_count": 45
        }
      ]
    },
    {
      "cell_type": "code",
      "metadata": {
        "id": "em3e0QUpLT9g"
      },
      "source": [
        "add_train_set, add_test_set, add_val_set = split_dataset(add_dataset, add_length, 0.2, 0.2)"
      ],
      "execution_count": null,
      "outputs": []
    },
    {
      "cell_type": "code",
      "metadata": {
        "id": "yP2HFz7_F25i"
      },
      "source": [
        "# sum = 0\n",
        "# for batch in add_test_set:\n",
        "#   sum += batch[0].shape[0]"
      ],
      "execution_count": null,
      "outputs": []
    },
    {
      "cell_type": "code",
      "metadata": {
        "id": "3gJNGD1lhdPA"
      },
      "source": [
        "# # 3968, 12288, 3072\n",
        "# sum"
      ],
      "execution_count": null,
      "outputs": []
    },
    {
      "cell_type": "code",
      "metadata": {
        "id": "47hp5DHs9_H9"
      },
      "source": [
        "class Bilinear(tf.keras.layers.Layer):\n",
        "    def __init__(self, embeddings_tensor, states_dim=10, name = None, **kwargs):\n",
        "      super(Bilinear, self).__init__()      \n",
        "      self.embeddings_tensor = tf.identity(embeddings_tensor)\n",
        "      # self.embeddings_tensor = embeddings_tensor\n",
        "      self.states_dim = states_dim\n",
        "      w_init = tf.random_normal_initializer()\n",
        "      self.B = tf.Variable(\n",
        "            initial_value=w_init(shape=(states_dim, self.embeddings_tensor.shape[0]), dtype=\"float32\"),\n",
        "            trainable=True,\n",
        "        )\n",
        "      super(Bilinear, self).__init__(**kwargs)\n",
        "\n",
        "    def call(self, inputs):\n",
        "      # inputs = tf.keras.backend.transpose(inputs)\n",
        "      matmul1 = tf.matmul(inputs, self.B)\n",
        "      matmul2 = tf.matmul(matmul1, self.embeddings_tensor)\n",
        "      return matmul2\n",
        "    def get_config(self):\n",
        "      config = super().get_config().copy()\n",
        "      config.update({\n",
        "            'embeddings_tensor': self.embeddings_tensor.numpy(),\n",
        "            'states_dim': self.states_dim\n",
        "            # 'B': self.B.numpy()\n",
        "        })\n",
        "      return config"
      ],
      "execution_count": null,
      "outputs": []
    },
    {
      "cell_type": "code",
      "metadata": {
        "id": "Ykuj67VnBrmT"
      },
      "source": [
        "class Interpolation(tf.keras.layers.Layer):\n",
        "    def __init__(self, alpha = 0.45, name = None, **kwargs):\n",
        "        super(Interpolation, self).__init__()\n",
        "        # w_init = tf.random_normal_initializer()\n",
        "        self.alpha = alpha\n",
        "        super(Interpolation, self).__init__()\n",
        "\n",
        "    def call(self, inputs):\n",
        "      term1 = tf.math.multiply(self.alpha, inputs[0])\n",
        "      term2 = tf.math.multiply(1 - self.alpha, inputs[1])\n",
        "      return tf.math.add(term1, term2)\n",
        "\n",
        "    def get_config(self):\n",
        "      config = super().get_config().copy()\n",
        "      config.update({\n",
        "            'alpha': self.alpha\n",
        "        })\n",
        "      return config"
      ],
      "execution_count": null,
      "outputs": []
    },
    {
      "cell_type": "code",
      "metadata": {
        "colab": {
          "base_uri": "https://localhost:8080/"
        },
        "id": "Iy0G4CHMAE8C",
        "outputId": "2e6fb003-04cf-4380-fc82-3a8743e2ea3e"
      },
      "source": [
        "from tensorflow.keras import models, layers\n",
        "from tensorflow.keras.models import Sequential, Model\n",
        "from tensorflow.keras.layers import Masking, LSTM, Attention,TimeDistributed, Dense, MultiHeadAttention, Input, AdditiveAttention, Embedding, AveragePooling1D, Softmax, Lambda, Permute\n",
        "# from keras_self_attention import SeqSelfAttention\n",
        "from tensorflow.keras.activations import sigmoid\n",
        "\n",
        "\n",
        "inp = Input(shape=(None, add_features_depth), name = 'input')\n",
        "\n",
        "# It should be vector of skills embedding\n",
        "mask = Masking(mask_value = -1., input_shape = (None, add_features_depth), name = 'masking')(inp)\n",
        "\n",
        "lstm_output = LSTM(add_features_depth, return_sequences = True, name = 'lstm')(mask)\n",
        "# attention = AdditiveAttention(causal = True, name = 'attention')([lstm_output, lstm_output]) # query and value respectively\n",
        "# attention = MultiHeadAttention(num_heads=1,key_dim = add_features_depth, name = 'attention')(lstm_output, lstm_output)\n",
        "attention = Attention(causal = True, name = 'attention')([lstm_output, lstm_output]) # query and value respectively\n",
        "\n",
        "\n",
        "interpolation = Interpolation(0.45)([attention, lstm_output])\n",
        "decoder = Bilinear(exercise_embeddings, states_dim = add_features_depth)(interpolation)\n",
        "\n",
        "\n",
        "sigm = Lambda(lambda x: tf.sigmoid(x), name = 'sigmoid')(decoder)\n",
        "\n",
        "\n",
        "add_model = Model(inputs = inp, outputs = sigm, name = 'AD-LSTM')\n",
        "\n",
        "\n",
        "\n",
        "\n",
        "add_model.compile(\n",
        "        loss = custom_loss,\n",
        "        optimizer='adam',\n",
        "        metrics=[\n",
        "            BinaryAccuracy(),\n",
        "            AUC(),\n",
        "            Precision(),\n",
        "            Recall()\n",
        "        ])\n",
        "\n",
        "add_model.summary()"
      ],
      "execution_count": null,
      "outputs": [
        {
          "output_type": "stream",
          "text": [
            "Model: \"AD-LSTM\"\n",
            "__________________________________________________________________________________________________\n",
            "Layer (type)                    Output Shape         Param #     Connected to                     \n",
            "==================================================================================================\n",
            "input (InputLayer)              [(None, None, 50)]   0                                            \n",
            "__________________________________________________________________________________________________\n",
            "masking (Masking)               (None, None, 50)     0           input[0][0]                      \n",
            "__________________________________________________________________________________________________\n",
            "lstm (LSTM)                     (None, None, 50)     20200       masking[0][0]                    \n",
            "__________________________________________________________________________________________________\n",
            "attention (Attention)           (None, None, 50)     0           lstm[0][0]                       \n",
            "                                                                 lstm[0][0]                       \n",
            "__________________________________________________________________________________________________\n",
            "interpolation_1 (Interpolation) (None, None, 50)     0           attention[0][0]                  \n",
            "                                                                 lstm[0][0]                       \n",
            "__________________________________________________________________________________________________\n",
            "bilinear_3 (Bilinear)           (None, None, 100)    2500        interpolation_1[0][0]            \n",
            "__________________________________________________________________________________________________\n",
            "sigmoid (Lambda)                (None, None, 100)    0           bilinear_3[0][0]                 \n",
            "==================================================================================================\n",
            "Total params: 22,700\n",
            "Trainable params: 22,700\n",
            "Non-trainable params: 0\n",
            "__________________________________________________________________________________________________\n"
          ],
          "name": "stdout"
        }
      ]
    },
    {
      "cell_type": "code",
      "metadata": {
        "id": "KK9blo1mTh46",
        "colab": {
          "base_uri": "https://localhost:8080/",
          "height": 661
        },
        "outputId": "f1d99fe6-991e-47d4-fb98-94f558a850c4"
      },
      "source": [
        "tf.keras.utils.plot_model(add_model)"
      ],
      "execution_count": null,
      "outputs": [
        {
          "output_type": "execute_result",
          "data": {
            "image/png": "[encoded data removed]",
            "text/plain": [
              "<IPython.core.display.Image object>"
            ]
          },
          "metadata": {
            "tags": []
          },
          "execution_count": 53
        }
      ]
    },
    {
      "cell_type": "code",
      "metadata": {
        "colab": {
          "base_uri": "https://localhost:8080/"
        },
        "id": "cWp_4__-Th5C",
        "outputId": "5401e632-cf47-4204-e144-284241808c15"
      },
      "source": [
        "import tensorflow as tf\n",
        "\n",
        "model_name = add_model.name\n",
        "\n",
        "best_w = tf.keras.callbacks.ModelCheckpoint(os.path.join(MODELS_PATH, model_name + '_best.hdf5'),\n",
        "                                monitor='val_loss',\n",
        "                                verbose=1,\n",
        "                                save_best_only=True,\n",
        "                                save_weights_only=False,\n",
        "                                mode='auto'\n",
        "                                # save_freq = 1_000\n",
        "                                )\n",
        " \n",
        "last_w = tf.keras.callbacks.ModelCheckpoint(os.path.join(MODELS_PATH, model_name + '_last.hdf5'),\n",
        "                                monitor='val_loss',\n",
        "                                verbose=0,\n",
        "                                save_best_only=False,\n",
        "                                save_weights_only=False,\n",
        "                                mode='auto'\n",
        "                                # save_freq = 1_000\n",
        "                                )\n",
        " \n",
        "# early_stopping = tf.keras.callbacks.EarlyStopping(monitor='loss', patience=5)\n",
        " \n",
        "callbacks = [best_w, last_w]\n",
        "\n",
        "\n",
        "\n",
        "add_history = add_model.fit(add_train_set,\n",
        "                    epochs = 50,\n",
        "                    verbose = 1,\n",
        "                    validation_data=add_val_set)\n",
        "                    # callbacks = callbacks)"
      ],
      "execution_count": null,
      "outputs": [
        {
          "output_type": "stream",
          "text": [
            "Epoch 1/50\n",
            "96/96 [==============================] - 18s 87ms/step - loss: 0.0988 - binary_accuracy: 0.9503 - auc: 0.9810 - precision: 0.7422 - recall: 0.7542 - val_loss: 0.0980 - val_binary_accuracy: 0.9516 - val_auc: 0.9812 - val_precision: 0.7531 - val_recall: 0.7904\n",
            "Epoch 2/50\n",
            "96/96 [==============================] - 10s 73ms/step - loss: 0.0984 - binary_accuracy: 0.9518 - auc: 0.9807 - precision: 0.7429 - recall: 0.8031 - val_loss: 0.0972 - val_binary_accuracy: 0.9513 - val_auc: 0.9806 - val_precision: 0.7456 - val_recall: 0.8143\n",
            "Epoch 3/50\n",
            "96/96 [==============================] - 10s 73ms/step - loss: 0.0972 - binary_accuracy: 0.9527 - auc: 0.9808 - precision: 0.7371 - recall: 0.8333 - val_loss: 0.0996 - val_binary_accuracy: 0.9517 - val_auc: 0.9802 - val_precision: 0.7435 - val_recall: 0.8459\n",
            "Epoch 4/50\n",
            "96/96 [==============================] - 10s 74ms/step - loss: 0.0963 - binary_accuracy: 0.9532 - auc: 0.9808 - precision: 0.7367 - recall: 0.8482 - val_loss: 0.0938 - val_binary_accuracy: 0.9541 - val_auc: 0.9812 - val_precision: 0.7368 - val_recall: 0.8478\n",
            "Epoch 5/50\n",
            "96/96 [==============================] - 10s 74ms/step - loss: 0.0940 - binary_accuracy: 0.9541 - auc: 0.9814 - precision: 0.7383 - recall: 0.8469 - val_loss: 0.0974 - val_binary_accuracy: 0.9525 - val_auc: 0.9809 - val_precision: 0.7427 - val_recall: 0.8428\n",
            "Epoch 6/50\n",
            "96/96 [==============================] - 10s 76ms/step - loss: 0.0938 - binary_accuracy: 0.9538 - auc: 0.9814 - precision: 0.7380 - recall: 0.8476 - val_loss: 0.0976 - val_binary_accuracy: 0.9550 - val_auc: 0.9813 - val_precision: 0.7352 - val_recall: 0.8665\n",
            "Epoch 7/50\n",
            "96/96 [==============================] - 10s 74ms/step - loss: 0.0924 - binary_accuracy: 0.9552 - auc: 0.9816 - precision: 0.7368 - recall: 0.8638 - val_loss: 0.0892 - val_binary_accuracy: 0.9565 - val_auc: 0.9821 - val_precision: 0.7322 - val_recall: 0.8644\n",
            "Epoch 8/50\n",
            "96/96 [==============================] - 10s 75ms/step - loss: 0.0892 - binary_accuracy: 0.9568 - auc: 0.9823 - precision: 0.7381 - recall: 0.8651 - val_loss: 0.0974 - val_binary_accuracy: 0.9524 - val_auc: 0.9804 - val_precision: 0.7400 - val_recall: 0.8672\n",
            "Epoch 9/50\n",
            "96/96 [==============================] - 10s 74ms/step - loss: 0.0921 - binary_accuracy: 0.9555 - auc: 0.9818 - precision: 0.7391 - recall: 0.8664 - val_loss: 0.0976 - val_binary_accuracy: 0.9550 - val_auc: 0.9814 - val_precision: 0.7403 - val_recall: 0.8716\n",
            "Epoch 10/50\n",
            "96/96 [==============================] - 10s 72ms/step - loss: 0.0933 - binary_accuracy: 0.9555 - auc: 0.9814 - precision: 0.7351 - recall: 0.8804 - val_loss: 0.0920 - val_binary_accuracy: 0.9550 - val_auc: 0.9811 - val_precision: 0.7361 - val_recall: 0.8908\n",
            "Epoch 11/50\n",
            "96/96 [==============================] - 10s 73ms/step - loss: 0.0908 - binary_accuracy: 0.9563 - auc: 0.9817 - precision: 0.7349 - recall: 0.8870 - val_loss: 0.0877 - val_binary_accuracy: 0.9591 - val_auc: 0.9829 - val_precision: 0.7325 - val_recall: 0.8947\n",
            "Epoch 12/50\n",
            "96/96 [==============================] - 10s 73ms/step - loss: 0.0930 - binary_accuracy: 0.9559 - auc: 0.9815 - precision: 0.7356 - recall: 0.8887 - val_loss: 0.0976 - val_binary_accuracy: 0.9538 - val_auc: 0.9807 - val_precision: 0.7374 - val_recall: 0.8894\n",
            "Epoch 13/50\n",
            "96/96 [==============================] - 10s 72ms/step - loss: 0.0949 - binary_accuracy: 0.9548 - auc: 0.9811 - precision: 0.7371 - recall: 0.8875 - val_loss: 0.0979 - val_binary_accuracy: 0.9511 - val_auc: 0.9792 - val_precision: 0.7342 - val_recall: 0.8888\n",
            "Epoch 14/50\n",
            "96/96 [==============================] - 10s 73ms/step - loss: 0.0922 - binary_accuracy: 0.9560 - auc: 0.9817 - precision: 0.7329 - recall: 0.8863 - val_loss: 0.0887 - val_binary_accuracy: 0.9578 - val_auc: 0.9828 - val_precision: 0.7331 - val_recall: 0.8902\n",
            "Epoch 15/50\n",
            "96/96 [==============================] - 10s 74ms/step - loss: 0.0918 - binary_accuracy: 0.9563 - auc: 0.9818 - precision: 0.7354 - recall: 0.8903 - val_loss: 0.0891 - val_binary_accuracy: 0.9580 - val_auc: 0.9821 - val_precision: 0.7369 - val_recall: 0.9039\n",
            "Epoch 16/50\n",
            "96/96 [==============================] - 10s 74ms/step - loss: 0.0933 - binary_accuracy: 0.9568 - auc: 0.9815 - precision: 0.7336 - recall: 0.9008 - val_loss: 0.0852 - val_binary_accuracy: 0.9621 - val_auc: 0.9840 - val_precision: 0.7334 - val_recall: 0.9100\n",
            "Epoch 17/50\n",
            "96/96 [==============================] - 10s 75ms/step - loss: 0.0925 - binary_accuracy: 0.9567 - auc: 0.9816 - precision: 0.7357 - recall: 0.9035 - val_loss: 0.0960 - val_binary_accuracy: 0.9564 - val_auc: 0.9814 - val_precision: 0.7365 - val_recall: 0.9076\n",
            "Epoch 18/50\n",
            "96/96 [==============================] - 10s 73ms/step - loss: 0.0932 - binary_accuracy: 0.9561 - auc: 0.9812 - precision: 0.7355 - recall: 0.9060 - val_loss: 0.0875 - val_binary_accuracy: 0.9572 - val_auc: 0.9818 - val_precision: 0.7365 - val_recall: 0.9046\n",
            "Epoch 19/50\n",
            "96/96 [==============================] - 10s 72ms/step - loss: 0.0937 - binary_accuracy: 0.9567 - auc: 0.9815 - precision: 0.7334 - recall: 0.9074 - val_loss: 0.0931 - val_binary_accuracy: 0.9558 - val_auc: 0.9811 - val_precision: 0.7386 - val_recall: 0.9069\n",
            "Epoch 20/50\n",
            "96/96 [==============================] - 10s 71ms/step - loss: 0.0928 - binary_accuracy: 0.9561 - auc: 0.9813 - precision: 0.7359 - recall: 0.9067 - val_loss: 0.0989 - val_binary_accuracy: 0.9535 - val_auc: 0.9802 - val_precision: 0.7395 - val_recall: 0.9055\n",
            "Epoch 21/50\n",
            "96/96 [==============================] - 10s 72ms/step - loss: 0.0937 - binary_accuracy: 0.9563 - auc: 0.9813 - precision: 0.7333 - recall: 0.9060 - val_loss: 0.0853 - val_binary_accuracy: 0.9603 - val_auc: 0.9835 - val_precision: 0.7443 - val_recall: 0.9019\n",
            "Epoch 22/50\n",
            "96/96 [==============================] - 10s 72ms/step - loss: 0.0913 - binary_accuracy: 0.9571 - auc: 0.9818 - precision: 0.7339 - recall: 0.9073 - val_loss: 0.0920 - val_binary_accuracy: 0.9584 - val_auc: 0.9826 - val_precision: 0.7387 - val_recall: 0.9022\n",
            "Epoch 23/50\n",
            "96/96 [==============================] - 10s 74ms/step - loss: 0.0888 - binary_accuracy: 0.9584 - auc: 0.9824 - precision: 0.7356 - recall: 0.9059 - val_loss: 0.0929 - val_binary_accuracy: 0.9550 - val_auc: 0.9808 - val_precision: 0.7339 - val_recall: 0.9042\n",
            "Epoch 24/50\n",
            "96/96 [==============================] - 10s 72ms/step - loss: 0.0916 - binary_accuracy: 0.9568 - auc: 0.9816 - precision: 0.7342 - recall: 0.9058 - val_loss: 0.0978 - val_binary_accuracy: 0.9541 - val_auc: 0.9802 - val_precision: 0.7352 - val_recall: 0.9087\n",
            "Epoch 25/50\n",
            "96/96 [==============================] - 10s 75ms/step - loss: 0.0914 - binary_accuracy: 0.9573 - auc: 0.9819 - precision: 0.7354 - recall: 0.9067 - val_loss: 0.0879 - val_binary_accuracy: 0.9602 - val_auc: 0.9832 - val_precision: 0.7326 - val_recall: 0.9065\n",
            "Epoch 26/50\n",
            "96/96 [==============================] - 10s 72ms/step - loss: 0.0917 - binary_accuracy: 0.9570 - auc: 0.9817 - precision: 0.7367 - recall: 0.9090 - val_loss: 0.0964 - val_binary_accuracy: 0.9555 - val_auc: 0.9809 - val_precision: 0.7353 - val_recall: 0.9096\n",
            "Epoch 27/50\n",
            "96/96 [==============================] - 10s 71ms/step - loss: 0.0928 - binary_accuracy: 0.9562 - auc: 0.9814 - precision: 0.7351 - recall: 0.9043 - val_loss: 0.0958 - val_binary_accuracy: 0.9544 - val_auc: 0.9808 - val_precision: 0.7370 - val_recall: 0.9049\n",
            "Epoch 28/50\n",
            "96/96 [==============================] - 10s 73ms/step - loss: 0.0916 - binary_accuracy: 0.9566 - auc: 0.9817 - precision: 0.7359 - recall: 0.9065 - val_loss: 0.0926 - val_binary_accuracy: 0.9566 - val_auc: 0.9814 - val_precision: 0.7275 - val_recall: 0.9065\n",
            "Epoch 29/50\n",
            "96/96 [==============================] - 10s 72ms/step - loss: 0.0894 - binary_accuracy: 0.9583 - auc: 0.9824 - precision: 0.7346 - recall: 0.9053 - val_loss: 0.0894 - val_binary_accuracy: 0.9579 - val_auc: 0.9824 - val_precision: 0.7327 - val_recall: 0.9035\n",
            "Epoch 30/50\n",
            "96/96 [==============================] - 10s 75ms/step - loss: 0.0906 - binary_accuracy: 0.9574 - auc: 0.9820 - precision: 0.7355 - recall: 0.9053 - val_loss: 0.0882 - val_binary_accuracy: 0.9576 - val_auc: 0.9820 - val_precision: 0.7330 - val_recall: 0.9080\n",
            "Epoch 31/50\n",
            "96/96 [==============================] - 12s 92ms/step - loss: 0.0914 - binary_accuracy: 0.9570 - auc: 0.9818 - precision: 0.7341 - recall: 0.9056 - val_loss: 0.0924 - val_binary_accuracy: 0.9560 - val_auc: 0.9811 - val_precision: 0.7305 - val_recall: 0.9031\n",
            "Epoch 32/50\n",
            "96/96 [==============================] - 10s 71ms/step - loss: 0.0955 - binary_accuracy: 0.9555 - auc: 0.9811 - precision: 0.7351 - recall: 0.9045 - val_loss: 0.0985 - val_binary_accuracy: 0.9528 - val_auc: 0.9798 - val_precision: 0.7366 - val_recall: 0.9053\n",
            "Epoch 33/50\n",
            "96/96 [==============================] - 10s 73ms/step - loss: 0.0929 - binary_accuracy: 0.9567 - auc: 0.9817 - precision: 0.7346 - recall: 0.9051 - val_loss: 0.0837 - val_binary_accuracy: 0.9618 - val_auc: 0.9839 - val_precision: 0.7269 - val_recall: 0.9042\n",
            "Epoch 34/50\n",
            "96/96 [==============================] - 10s 71ms/step - loss: 0.0908 - binary_accuracy: 0.9572 - auc: 0.9820 - precision: 0.7352 - recall: 0.9058 - val_loss: 0.0960 - val_binary_accuracy: 0.9560 - val_auc: 0.9810 - val_precision: 0.7278 - val_recall: 0.9094\n",
            "Epoch 35/50\n",
            "96/96 [==============================] - 10s 74ms/step - loss: 0.0915 - binary_accuracy: 0.9570 - auc: 0.9818 - precision: 0.7342 - recall: 0.9058 - val_loss: 0.0897 - val_binary_accuracy: 0.9573 - val_auc: 0.9820 - val_precision: 0.7349 - val_recall: 0.9077\n",
            "Epoch 36/50\n",
            "96/96 [==============================] - 10s 71ms/step - loss: 0.0939 - binary_accuracy: 0.9555 - auc: 0.9811 - precision: 0.7357 - recall: 0.9049 - val_loss: 0.0885 - val_binary_accuracy: 0.9575 - val_auc: 0.9819 - val_precision: 0.7331 - val_recall: 0.9061\n",
            "Epoch 37/50\n",
            "96/96 [==============================] - 10s 76ms/step - loss: 0.0898 - binary_accuracy: 0.9578 - auc: 0.9822 - precision: 0.7335 - recall: 0.9064 - val_loss: 0.0902 - val_binary_accuracy: 0.9567 - val_auc: 0.9817 - val_precision: 0.7323 - val_recall: 0.9049\n",
            "Epoch 38/50\n",
            "96/96 [==============================] - 10s 73ms/step - loss: 0.0918 - binary_accuracy: 0.9564 - auc: 0.9815 - precision: 0.7339 - recall: 0.9058 - val_loss: 0.0890 - val_binary_accuracy: 0.9576 - val_auc: 0.9821 - val_precision: 0.7385 - val_recall: 0.9042\n",
            "Epoch 39/50\n",
            "96/96 [==============================] - 10s 74ms/step - loss: 0.0911 - binary_accuracy: 0.9577 - auc: 0.9822 - precision: 0.7354 - recall: 0.9052 - val_loss: 0.0906 - val_binary_accuracy: 0.9563 - val_auc: 0.9819 - val_precision: 0.7354 - val_recall: 0.9030\n",
            "Epoch 40/50\n",
            "96/96 [==============================] - 10s 74ms/step - loss: 0.0877 - binary_accuracy: 0.9581 - auc: 0.9825 - precision: 0.7356 - recall: 0.9004 - val_loss: 0.0963 - val_binary_accuracy: 0.9536 - val_auc: 0.9806 - val_precision: 0.7323 - val_recall: 0.8963\n",
            "Epoch 41/50\n",
            "96/96 [==============================] - 10s 76ms/step - loss: 0.0913 - binary_accuracy: 0.9569 - auc: 0.9821 - precision: 0.7337 - recall: 0.8988 - val_loss: 0.0857 - val_binary_accuracy: 0.9591 - val_auc: 0.9832 - val_precision: 0.7317 - val_recall: 0.8935\n",
            "Epoch 42/50\n",
            "96/96 [==============================] - 10s 72ms/step - loss: 0.0916 - binary_accuracy: 0.9566 - auc: 0.9820 - precision: 0.7375 - recall: 0.8960 - val_loss: 0.0993 - val_binary_accuracy: 0.9524 - val_auc: 0.9797 - val_precision: 0.7364 - val_recall: 0.8971\n",
            "Epoch 43/50\n",
            "96/96 [==============================] - 10s 75ms/step - loss: 0.0899 - binary_accuracy: 0.9574 - auc: 0.9823 - precision: 0.7329 - recall: 0.8969 - val_loss: 0.1016 - val_binary_accuracy: 0.9531 - val_auc: 0.9804 - val_precision: 0.7368 - val_recall: 0.8958\n",
            "Epoch 44/50\n",
            "96/96 [==============================] - 10s 72ms/step - loss: 0.0931 - binary_accuracy: 0.9559 - auc: 0.9817 - precision: 0.7361 - recall: 0.8970 - val_loss: 0.0846 - val_binary_accuracy: 0.9599 - val_auc: 0.9834 - val_precision: 0.7292 - val_recall: 0.8934\n",
            "Epoch 45/50\n",
            "96/96 [==============================] - 10s 73ms/step - loss: 0.0908 - binary_accuracy: 0.9566 - auc: 0.9819 - precision: 0.7344 - recall: 0.8970 - val_loss: 0.0906 - val_binary_accuracy: 0.9563 - val_auc: 0.9812 - val_precision: 0.7277 - val_recall: 0.9028\n",
            "Epoch 46/50\n",
            "96/96 [==============================] - 10s 74ms/step - loss: 0.0936 - binary_accuracy: 0.9562 - auc: 0.9815 - precision: 0.7339 - recall: 0.9022 - val_loss: 0.0960 - val_binary_accuracy: 0.9536 - val_auc: 0.9805 - val_precision: 0.7328 - val_recall: 0.8962\n",
            "Epoch 47/50\n",
            "96/96 [==============================] - 10s 73ms/step - loss: 0.0914 - binary_accuracy: 0.9557 - auc: 0.9815 - precision: 0.7347 - recall: 0.8965 - val_loss: 0.0902 - val_binary_accuracy: 0.9589 - val_auc: 0.9828 - val_precision: 0.7364 - val_recall: 0.8998\n",
            "Epoch 48/50\n",
            "96/96 [==============================] - 10s 75ms/step - loss: 0.0932 - binary_accuracy: 0.9561 - auc: 0.9816 - precision: 0.7331 - recall: 0.8988 - val_loss: 0.0853 - val_binary_accuracy: 0.9602 - val_auc: 0.9835 - val_precision: 0.7343 - val_recall: 0.8999\n",
            "Epoch 49/50\n",
            "96/96 [==============================] - 12s 93ms/step - loss: 0.0910 - binary_accuracy: 0.9571 - auc: 0.9822 - precision: 0.7361 - recall: 0.8965 - val_loss: 0.0899 - val_binary_accuracy: 0.9579 - val_auc: 0.9824 - val_precision: 0.7353 - val_recall: 0.9004\n",
            "Epoch 50/50\n",
            "96/96 [==============================] - 10s 75ms/step - loss: 0.0923 - binary_accuracy: 0.9563 - auc: 0.9817 - precision: 0.7357 - recall: 0.8993 - val_loss: 0.0923 - val_binary_accuracy: 0.9559 - val_auc: 0.9818 - val_precision: 0.7367 - val_recall: 0.8930\n"
          ],
          "name": "stdout"
        }
      ]
    },
    {
      "cell_type": "code",
      "metadata": {
        "id": "HoSH_isEYdBb"
      },
      "source": [
        "filename = os.path.join(HISTORY_PATH, 'NAKTM-LSTM-Multihead3.csv')\n",
        "\n",
        "history_df = pd.DataFrame(add_history.history)\n",
        "history_df.to_csv(filename)"
      ],
      "execution_count": null,
      "outputs": []
    },
    {
      "cell_type": "markdown",
      "metadata": {
        "id": "wDufGEEwLfgS"
      },
      "source": [
        "Causal = False"
      ]
    },
    {
      "cell_type": "code",
      "metadata": {
        "colab": {
          "base_uri": "https://localhost:8080/",
          "height": 295
        },
        "id": "jbE7u7KDLd2G",
        "outputId": "d36db09b-2eea-41da-e830-1a27157933a1"
      },
      "source": [
        "import matplotlib.pyplot as plt\n",
        "\n",
        "add_loss = add_history.history['loss']\n",
        "add_val_loss = add_history.history['val_loss']\n",
        "epochs = np.arange(len(add_loss))\n",
        "plt.plot(epochs, add_loss, label = 'loss')\n",
        "plt.plot(epochs, add_val_loss, label = 'validation loss')\n",
        "plt.title('Luoung Attention, идеи из NAKTM, LSTM')\n",
        "plt.xlabel('Epochs')\n",
        "plt.ylabel('Loss value')\n",
        "plt.legend()\n",
        "plt.grid()\n",
        "plt.show()"
      ],
      "execution_count": null,
      "outputs": [
        {
          "output_type": "display_data",
          "data": {
            "image/png": "[encoded data removed]",
            "text/plain": [
              "<Figure size 432x288 with 1 Axes>"
            ]
          },
          "metadata": {
            "tags": [],
            "needs_background": "light"
          }
        }
      ]
    },
    {
      "cell_type": "code",
      "metadata": {
        "colab": {
          "base_uri": "https://localhost:8080/"
        },
        "id": "VZ7lqBnHLd2H",
        "outputId": "11eb6de1-fe04-40bd-8fce-12865549d87d"
      },
      "source": [
        "# import h5py\n",
        "# with h5py.File(os.path.join(MODELS_PATH, model_name +'_best.hdf5'),'r') as f:\n",
        "#   best_add_model = tf.keras.models.load_model(f, compile=False, custom_objects = {'Interpolation':Interpolation, 'Bilinear': Bilinear})\n",
        "\n",
        "\n",
        "# best_add_model.compile(\n",
        "#         loss = custom_loss,\n",
        "#         optimizer='adam',\n",
        "#         metrics=[\n",
        "#             BinaryAccuracy(),\n",
        "#             AUC(),\n",
        "#             Precision(),\n",
        "#             Recall()\n",
        "#         ])\n",
        "\n",
        "\n",
        "\n",
        "add_result = add_model.evaluate(add_test_set, verbose=1)\n",
        "# best_add_result = best_add_model.evaluate(add_test_set, verbose=1)\n",
        "\n",
        "# 31/31 [==============================] - 3s 30ms/step - loss: 0.0906 - binary_accuracy: 0.9562 - auc: 0.9818 - precision: 0.7394 - recall: 0.8991"
      ],
      "execution_count": null,
      "outputs": [
        {
          "output_type": "stream",
          "text": [
            "31/31 [==============================] - 3s 30ms/step - loss: 0.0906 - binary_accuracy: 0.9562 - auc: 0.9818 - precision: 0.7394 - recall: 0.8991\n"
          ],
          "name": "stdout"
        }
      ]
    },
    {
      "cell_type": "markdown",
      "metadata": {
        "id": "1XFGDu6fLZCc"
      },
      "source": [
        "Causal = True"
      ]
    },
    {
      "cell_type": "code",
      "metadata": {
        "colab": {
          "base_uri": "https://localhost:8080/",
          "height": 295
        },
        "id": "F18bwuQsTh5C",
        "outputId": "521a135b-b176-4d34-88ae-5b5b4ee38545"
      },
      "source": [
        "import matplotlib.pyplot as plt\n",
        "\n",
        "add_loss = add_history.history['loss']\n",
        "add_val_loss = add_history.history['val_loss']\n",
        "epochs = np.arange(len(add_loss))\n",
        "plt.plot(epochs, add_loss, label = 'loss')\n",
        "plt.plot(epochs, add_val_loss, label = 'validation loss')\n",
        "plt.title('Luoung Attention, NAKTM ideas and LSTM')\n",
        "plt.xlabel('Epochs')\n",
        "plt.ylabel('Loss value')\n",
        "plt.legend()\n",
        "plt.grid()\n",
        "plt.show()"
      ],
      "execution_count": null,
      "outputs": [
        {
          "output_type": "display_data",
          "data": {
            "image/png": "[encoded data removed]",
            "text/plain": [
              "<Figure size 432x288 with 1 Axes>"
            ]
          },
          "metadata": {
            "tags": [],
            "needs_background": "light"
          }
        }
      ]
    },
    {
      "cell_type": "code",
      "metadata": {
        "colab": {
          "base_uri": "https://localhost:8080/"
        },
        "id": "8oR0g7EWSEQF",
        "outputId": "412ce798-efdc-4bdf-8a6f-a421a8c8541f"
      },
      "source": [
        "import h5py\n",
        "with h5py.File(os.path.join(MODELS_PATH, model_name +'_best.hdf5'),'r') as f:\n",
        "  best_add_model = tf.keras.models.load_model(f, compile=False, custom_objects = {'Interpolation':Interpolation, 'Bilinear': Bilinear})\n",
        "\n",
        "\n",
        "best_add_model.compile(\n",
        "        loss = custom_loss,\n",
        "        optimizer='adam',\n",
        "        metrics=[\n",
        "            BinaryAccuracy(),\n",
        "            AUC(),\n",
        "            Precision(),\n",
        "            Recall()\n",
        "        ])\n",
        "\n",
        "\n",
        "\n",
        "add_result = add_model.evaluate(add_test_set, verbose=1)\n",
        "best_add_result = best_add_model.evaluate(add_test_set, verbose=1)\n",
        "\n",
        "# 31/31 [==============================] - 3s 33ms/step - loss: 0.0901 - binary_accuracy: 0.9576 - auc_16: 0.9819 - precision_16: 0.7311 - recall_16: 0.9097\n",
        "# 31/31 [==============================] - 5s 32ms/step - loss: 0.0906 - binary_accuracy: 0.9582 - auc_18: 0.9823 - precision_18: 0.7324 - recall_18: 0.9092"
      ],
      "execution_count": null,
      "outputs": [
        {
          "output_type": "stream",
          "text": [
            "31/31 [==============================] - 3s 33ms/step - loss: 0.0901 - binary_accuracy: 0.9576 - auc_16: 0.9819 - precision_16: 0.7311 - recall_16: 0.9097\n",
            "31/31 [==============================] - 5s 32ms/step - loss: 0.0906 - binary_accuracy: 0.9582 - auc_18: 0.9823 - precision_18: 0.7324 - recall_18: 0.9092\n"
          ],
          "name": "stdout"
        }
      ]
    },
    {
      "cell_type": "markdown",
      "metadata": {
        "id": "e0lN92YJ39qe"
      },
      "source": [
        "# MultiHeadAttention, NAKTM ideas and LSTM"
      ]
    },
    {
      "cell_type": "code",
      "metadata": {
        "colab": {
          "base_uri": "https://localhost:8080/"
        },
        "id": "TM1X4UaCPv1s",
        "outputId": "ad4eb5d7-fd55-4f24-b6d1-f932909f6ec9"
      },
      "source": [
        "from tensorflow.keras import models, layers\n",
        "from tensorflow.keras.models import Sequential, Model\n",
        "from tensorflow.keras.layers import Masking, LSTM, Attention,TimeDistributed, Dense, MultiHeadAttention, Input, AdditiveAttention, Embedding, AveragePooling1D, Softmax, Lambda, Permute\n",
        "# from keras_self_attention import SeqSelfAttention\n",
        "from tensorflow.keras.activations import sigmoid\n",
        "\n",
        "# model = tf.keras.models.Sequential(name = 'SAKT')\n",
        "\n",
        "inp = Input(shape=(None, add_features_depth), name = 'input')\n",
        "\n",
        "mask = Masking(mask_value = -1., input_shape = (None, add_features_depth), name = 'masking')(inp)\n",
        "\n",
        "\n",
        "lstm_output = LSTM(add_features_depth, return_sequences = True, name = 'lstm')(mask)\n",
        "# attention = AdditiveAttention(causal = True, name = 'attention')([lstm_output, lstm_output]) # query and value respectively\n",
        "attention = MultiHeadAttention(num_heads=3,key_dim = add_features_depth, name = 'attention')(lstm_output, lstm_output)\n",
        "# attention = Attention(causal = True, name = 'attention')([lstm_output, lstm_output]) # query and value respectively\n",
        "\n",
        "\n",
        "interpolation = Interpolation(0.45)([attention, lstm_output])\n",
        "decoder = Bilinear(exercise_embeddings, states_dim = add_features_depth)(interpolation)\n",
        "\n",
        "\n",
        "sigm = Lambda(lambda x: tf.sigmoid(x), name = 'sigmoid')(decoder)\n",
        "\n",
        "\n",
        "add_model = Model(inputs = inp, outputs = sigm, name = 'AD-LSTM')\n",
        "\n",
        "\n",
        "\n",
        "\n",
        "add_model.compile(\n",
        "        loss = custom_loss,\n",
        "        optimizer='adam',\n",
        "        metrics=[\n",
        "            BinaryAccuracy(),\n",
        "            AUC(),\n",
        "            Precision(),\n",
        "            Recall()\n",
        "        ])\n",
        "\n",
        "add_model.summary()"
      ],
      "execution_count": null,
      "outputs": [
        {
          "output_type": "stream",
          "text": [
            "Model: \"AD-LSTM\"\n",
            "__________________________________________________________________________________________________\n",
            "Layer (type)                    Output Shape         Param #     Connected to                     \n",
            "==================================================================================================\n",
            "input (InputLayer)              [(None, None, 50)]   0                                            \n",
            "__________________________________________________________________________________________________\n",
            "masking (Masking)               (None, None, 50)     0           input[0][0]                      \n",
            "__________________________________________________________________________________________________\n",
            "lstm (LSTM)                     (None, None, 50)     20200       masking[0][0]                    \n",
            "__________________________________________________________________________________________________\n",
            "attention (MultiHeadAttention)  (None, None, 50)     30500       lstm[0][0]                       \n",
            "                                                                 lstm[0][0]                       \n",
            "__________________________________________________________________________________________________\n",
            "interpolation_13 (Interpolation (None, None, 50)     0           attention[0][0]                  \n",
            "                                                                 lstm[0][0]                       \n",
            "__________________________________________________________________________________________________\n",
            "bilinear_15 (Bilinear)          (None, None, 100)    2500        interpolation_13[0][0]           \n",
            "__________________________________________________________________________________________________\n",
            "sigmoid (Lambda)                (None, None, 100)    0           bilinear_15[0][0]                \n",
            "==================================================================================================\n",
            "Total params: 53,200\n",
            "Trainable params: 53,200\n",
            "Non-trainable params: 0\n",
            "__________________________________________________________________________________________________\n"
          ],
          "name": "stdout"
        }
      ]
    },
    {
      "cell_type": "code",
      "metadata": {
        "colab": {
          "base_uri": "https://localhost:8080/"
        },
        "id": "wf8n9MuaPsVU",
        "outputId": "6864ce8d-9eee-4684-fe2b-1320096a3ca3"
      },
      "source": [
        "import tensorflow as tf\n",
        "\n",
        "# model_name = add_model.name + '(MultiHead)'\n",
        "\n",
        "model_name = add_model.name + '(MultiHead_3_heads)'\n",
        "\n",
        "best_w = tf.keras.callbacks.ModelCheckpoint(os.path.join(MODELS_PATH, model_name + '_best.hdf5'),\n",
        "                                monitor='val_loss',\n",
        "                                verbose=1,\n",
        "                                save_best_only=True,\n",
        "                                save_weights_only=False,\n",
        "                                mode='auto'\n",
        "                                # save_freq = 1_000\n",
        "                                )\n",
        " \n",
        "last_w = tf.keras.callbacks.ModelCheckpoint(os.path.join(MODELS_PATH, model_name + '_last.hdf5'),\n",
        "                                monitor='val_loss',\n",
        "                                verbose=0,\n",
        "                                save_best_only=False,\n",
        "                                save_weights_only=False,\n",
        "                                mode='auto'\n",
        "                                # save_freq = 1_000\n",
        "                                )\n",
        " \n",
        "# early_stopping = tf.keras.callbacks.EarlyStopping(monitor='loss', patience=5)\n",
        " \n",
        "callbacks = [best_w, last_w]\n",
        "\n",
        "\n",
        "\n",
        "add_history = add_model.fit(add_train_set,\n",
        "                    epochs = 50,\n",
        "                    verbose = 1,\n",
        "                    validation_data=add_val_set,\n",
        "                    callbacks = callbacks)"
      ],
      "execution_count": null,
      "outputs": [
        {
          "output_type": "stream",
          "text": [
            "Epoch 1/50\n",
            "96/96 [==============================] - 16s 101ms/step - loss: 0.1016 - binary_accuracy: 0.9479 - auc_6: 0.9802 - precision_6: 0.7433 - recall_6: 0.7323 - val_loss: 0.0987 - val_binary_accuracy: 0.9523 - val_auc_6: 0.9803 - val_precision_6: 0.7422 - val_recall_6: 0.8467\n",
            "\n",
            "Epoch 00001: val_loss improved from inf to 0.09867, saving model to gdrive/MyDrive/Colab Notebooks/FQW/data/models/AD-LSTM(MultiHead_3_heads)_best.hdf5\n",
            "Epoch 2/50\n",
            "96/96 [==============================] - 11s 89ms/step - loss: 0.0929 - binary_accuracy: 0.9551 - auc_6: 0.9814 - precision_6: 0.7362 - recall_6: 0.8744 - val_loss: 0.0967 - val_binary_accuracy: 0.9534 - val_auc_6: 0.9801 - val_precision_6: 0.7374 - val_recall_6: 0.8959\n",
            "\n",
            "Epoch 00002: val_loss improved from 0.09867 to 0.09671, saving model to gdrive/MyDrive/Colab Notebooks/FQW/data/models/AD-LSTM(MultiHead_3_heads)_best.hdf5\n",
            "Epoch 3/50\n",
            "96/96 [==============================] - 11s 90ms/step - loss: 0.0927 - binary_accuracy: 0.9564 - auc_6: 0.9818 - precision_6: 0.7351 - recall_6: 0.8952 - val_loss: 0.0900 - val_binary_accuracy: 0.9575 - val_auc_6: 0.9823 - val_precision_6: 0.7356 - val_recall_6: 0.8974\n",
            "\n",
            "Epoch 00003: val_loss improved from 0.09671 to 0.09001, saving model to gdrive/MyDrive/Colab Notebooks/FQW/data/models/AD-LSTM(MultiHead_3_heads)_best.hdf5\n",
            "Epoch 4/50\n",
            "96/96 [==============================] - 11s 90ms/step - loss: 0.0892 - binary_accuracy: 0.9580 - auc_6: 0.9824 - precision_6: 0.7358 - recall_6: 0.8998 - val_loss: 0.0894 - val_binary_accuracy: 0.9564 - val_auc_6: 0.9822 - val_precision_6: 0.7313 - val_recall_6: 0.8930\n",
            "\n",
            "Epoch 00004: val_loss improved from 0.09001 to 0.08941, saving model to gdrive/MyDrive/Colab Notebooks/FQW/data/models/AD-LSTM(MultiHead_3_heads)_best.hdf5\n",
            "Epoch 5/50\n",
            "96/96 [==============================] - 11s 86ms/step - loss: 0.0945 - binary_accuracy: 0.9547 - auc_6: 0.9810 - precision_6: 0.7348 - recall_6: 0.8963 - val_loss: 0.0905 - val_binary_accuracy: 0.9564 - val_auc_6: 0.9815 - val_precision_6: 0.7321 - val_recall_6: 0.9097\n",
            "\n",
            "Epoch 00005: val_loss did not improve from 0.08941\n",
            "Epoch 6/50\n",
            "96/96 [==============================] - 11s 89ms/step - loss: 0.0913 - binary_accuracy: 0.9574 - auc_6: 0.9822 - precision_6: 0.7338 - recall_6: 0.9015 - val_loss: 0.0919 - val_binary_accuracy: 0.9557 - val_auc_6: 0.9816 - val_precision_6: 0.7361 - val_recall_6: 0.8946\n",
            "\n",
            "Epoch 00006: val_loss did not improve from 0.08941\n",
            "Epoch 7/50\n",
            "96/96 [==============================] - 11s 89ms/step - loss: 0.0939 - binary_accuracy: 0.9560 - auc_6: 0.9815 - precision_6: 0.7349 - recall_6: 0.9004 - val_loss: 0.0848 - val_binary_accuracy: 0.9597 - val_auc_6: 0.9832 - val_precision_6: 0.7368 - val_recall_6: 0.8972\n",
            "\n",
            "Epoch 00007: val_loss improved from 0.08941 to 0.08485, saving model to gdrive/MyDrive/Colab Notebooks/FQW/data/models/AD-LSTM(MultiHead_3_heads)_best.hdf5\n",
            "Epoch 8/50\n",
            "96/96 [==============================] - 12s 90ms/step - loss: 0.0927 - binary_accuracy: 0.9560 - auc_6: 0.9816 - precision_6: 0.7332 - recall_6: 0.8972 - val_loss: 0.0913 - val_binary_accuracy: 0.9558 - val_auc_6: 0.9817 - val_precision_6: 0.7347 - val_recall_6: 0.8958\n",
            "\n",
            "Epoch 00008: val_loss did not improve from 0.08485\n",
            "Epoch 9/50\n",
            "96/96 [==============================] - 12s 91ms/step - loss: 0.0921 - binary_accuracy: 0.9565 - auc_6: 0.9819 - precision_6: 0.7334 - recall_6: 0.8949 - val_loss: 0.0885 - val_binary_accuracy: 0.9588 - val_auc_6: 0.9830 - val_precision_6: 0.7354 - val_recall_6: 0.8938\n",
            "\n",
            "Epoch 00009: val_loss did not improve from 0.08485\n",
            "Epoch 10/50\n",
            "96/96 [==============================] - 12s 92ms/step - loss: 0.0922 - binary_accuracy: 0.9571 - auc_6: 0.9820 - precision_6: 0.7345 - recall_6: 0.8984 - val_loss: 0.0875 - val_binary_accuracy: 0.9584 - val_auc_6: 0.9829 - val_precision_6: 0.7393 - val_recall_6: 0.8970\n",
            "\n",
            "Epoch 00010: val_loss did not improve from 0.08485\n",
            "Epoch 11/50\n",
            "96/96 [==============================] - 12s 89ms/step - loss: 0.0913 - binary_accuracy: 0.9563 - auc_6: 0.9820 - precision_6: 0.7351 - recall_6: 0.8929 - val_loss: 0.0997 - val_binary_accuracy: 0.9523 - val_auc_6: 0.9802 - val_precision_6: 0.7357 - val_recall_6: 0.8888\n",
            "\n",
            "Epoch 00011: val_loss did not improve from 0.08485\n",
            "Epoch 12/50\n",
            "96/96 [==============================] - 12s 90ms/step - loss: 0.0915 - binary_accuracy: 0.9557 - auc_6: 0.9816 - precision_6: 0.7347 - recall_6: 0.8941 - val_loss: 0.0931 - val_binary_accuracy: 0.9555 - val_auc_6: 0.9815 - val_precision_6: 0.7382 - val_recall_6: 0.8980\n",
            "\n",
            "Epoch 00012: val_loss did not improve from 0.08485\n",
            "Epoch 13/50\n",
            "96/96 [==============================] - 11s 88ms/step - loss: 0.0936 - binary_accuracy: 0.9554 - auc_6: 0.9813 - precision_6: 0.7362 - recall_6: 0.8981 - val_loss: 0.0972 - val_binary_accuracy: 0.9548 - val_auc_6: 0.9811 - val_precision_6: 0.7333 - val_recall_6: 0.9008\n",
            "\n",
            "Epoch 00013: val_loss did not improve from 0.08485\n",
            "Epoch 14/50\n",
            "96/96 [==============================] - 12s 90ms/step - loss: 0.0903 - binary_accuracy: 0.9572 - auc_6: 0.9821 - precision_6: 0.7348 - recall_6: 0.8981 - val_loss: 0.0917 - val_binary_accuracy: 0.9551 - val_auc_6: 0.9815 - val_precision_6: 0.7367 - val_recall_6: 0.8939\n",
            "\n",
            "Epoch 00014: val_loss did not improve from 0.08485\n",
            "Epoch 15/50\n",
            "96/96 [==============================] - 11s 88ms/step - loss: 0.0932 - binary_accuracy: 0.9554 - auc_6: 0.9815 - precision_6: 0.7346 - recall_6: 0.8925 - val_loss: 0.0893 - val_binary_accuracy: 0.9567 - val_auc_6: 0.9819 - val_precision_6: 0.7348 - val_recall_6: 0.8967\n",
            "\n",
            "Epoch 00015: val_loss did not improve from 0.08485\n",
            "Epoch 16/50\n",
            "96/96 [==============================] - 11s 90ms/step - loss: 0.0903 - binary_accuracy: 0.9569 - auc_6: 0.9820 - precision_6: 0.7368 - recall_6: 0.8980 - val_loss: 0.0890 - val_binary_accuracy: 0.9573 - val_auc_6: 0.9822 - val_precision_6: 0.7438 - val_recall_6: 0.8993\n",
            "\n",
            "Epoch 00016: val_loss did not improve from 0.08485\n",
            "Epoch 17/50\n",
            "96/96 [==============================] - 12s 90ms/step - loss: 0.0901 - binary_accuracy: 0.9574 - auc_6: 0.9822 - precision_6: 0.7355 - recall_6: 0.8998 - val_loss: 0.0853 - val_binary_accuracy: 0.9574 - val_auc_6: 0.9829 - val_precision_6: 0.7359 - val_recall_6: 0.8877\n",
            "\n",
            "Epoch 00017: val_loss did not improve from 0.08485\n",
            "Epoch 18/50\n",
            "96/96 [==============================] - 11s 89ms/step - loss: 0.0961 - binary_accuracy: 0.9550 - auc_6: 0.9811 - precision_6: 0.7322 - recall_6: 0.8978 - val_loss: 0.0867 - val_binary_accuracy: 0.9578 - val_auc_6: 0.9822 - val_precision_6: 0.7335 - val_recall_6: 0.8933\n",
            "\n",
            "Epoch 00018: val_loss did not improve from 0.08485\n",
            "Epoch 19/50\n",
            "96/96 [==============================] - 11s 89ms/step - loss: 0.0930 - binary_accuracy: 0.9563 - auc_6: 0.9818 - precision_6: 0.7353 - recall_6: 0.8968 - val_loss: 0.0918 - val_binary_accuracy: 0.9556 - val_auc_6: 0.9814 - val_precision_6: 0.7280 - val_recall_6: 0.8957\n",
            "\n",
            "Epoch 00019: val_loss did not improve from 0.08485\n",
            "Epoch 20/50\n",
            "96/96 [==============================] - 11s 89ms/step - loss: 0.0923 - binary_accuracy: 0.9565 - auc_6: 0.9819 - precision_6: 0.7344 - recall_6: 0.8963 - val_loss: 0.0996 - val_binary_accuracy: 0.9527 - val_auc_6: 0.9801 - val_precision_6: 0.7392 - val_recall_6: 0.8954\n",
            "\n",
            "Epoch 00020: val_loss did not improve from 0.08485\n",
            "Epoch 21/50\n",
            "96/96 [==============================] - 12s 92ms/step - loss: 0.0907 - binary_accuracy: 0.9577 - auc_6: 0.9824 - precision_6: 0.7343 - recall_6: 0.8985 - val_loss: 0.0988 - val_binary_accuracy: 0.9522 - val_auc_6: 0.9797 - val_precision_6: 0.7362 - val_recall_6: 0.9004\n",
            "\n",
            "Epoch 00021: val_loss did not improve from 0.08485\n",
            "Epoch 22/50\n",
            "96/96 [==============================] - 11s 89ms/step - loss: 0.0940 - binary_accuracy: 0.9555 - auc_6: 0.9813 - precision_6: 0.7331 - recall_6: 0.8994 - val_loss: 0.0936 - val_binary_accuracy: 0.9563 - val_auc_6: 0.9819 - val_precision_6: 0.7343 - val_recall_6: 0.8985\n",
            "\n",
            "Epoch 00022: val_loss did not improve from 0.08485\n",
            "Epoch 23/50\n",
            "96/96 [==============================] - 11s 90ms/step - loss: 0.0908 - binary_accuracy: 0.9567 - auc_6: 0.9820 - precision_6: 0.7353 - recall_6: 0.8973 - val_loss: 0.0940 - val_binary_accuracy: 0.9561 - val_auc_6: 0.9816 - val_precision_6: 0.7268 - val_recall_6: 0.9140\n",
            "\n",
            "Epoch 00023: val_loss did not improve from 0.08485\n",
            "Epoch 24/50\n",
            "96/96 [==============================] - 12s 91ms/step - loss: 0.0919 - binary_accuracy: 0.9567 - auc_6: 0.9821 - precision_6: 0.7363 - recall_6: 0.8937 - val_loss: 0.0919 - val_binary_accuracy: 0.9558 - val_auc_6: 0.9817 - val_precision_6: 0.7332 - val_recall_6: 0.8956\n",
            "\n",
            "Epoch 00024: val_loss did not improve from 0.08485\n",
            "Epoch 25/50\n",
            "96/96 [==============================] - 12s 91ms/step - loss: 0.0905 - binary_accuracy: 0.9572 - auc_6: 0.9821 - precision_6: 0.7343 - recall_6: 0.9013 - val_loss: 0.0966 - val_binary_accuracy: 0.9564 - val_auc_6: 0.9817 - val_precision_6: 0.7354 - val_recall_6: 0.8948\n",
            "\n",
            "Epoch 00025: val_loss did not improve from 0.08485\n",
            "Epoch 26/50\n",
            "96/96 [==============================] - 12s 92ms/step - loss: 0.0922 - binary_accuracy: 0.9562 - auc_6: 0.9818 - precision_6: 0.7335 - recall_6: 0.8965 - val_loss: 0.0860 - val_binary_accuracy: 0.9600 - val_auc_6: 0.9834 - val_precision_6: 0.7326 - val_recall_6: 0.9002\n",
            "\n",
            "Epoch 00026: val_loss did not improve from 0.08485\n",
            "Epoch 27/50\n",
            "96/96 [==============================] - 11s 89ms/step - loss: 0.0959 - binary_accuracy: 0.9548 - auc_6: 0.9810 - precision_6: 0.7341 - recall_6: 0.9012 - val_loss: 0.0888 - val_binary_accuracy: 0.9599 - val_auc_6: 0.9835 - val_precision_6: 0.7356 - val_recall_6: 0.8970\n",
            "\n",
            "Epoch 00027: val_loss did not improve from 0.08485\n",
            "Epoch 28/50\n",
            "96/96 [==============================] - 12s 91ms/step - loss: 0.0912 - binary_accuracy: 0.9573 - auc_6: 0.9822 - precision_6: 0.7360 - recall_6: 0.8977 - val_loss: 0.0966 - val_binary_accuracy: 0.9549 - val_auc_6: 0.9812 - val_precision_6: 0.7340 - val_recall_6: 0.8928\n",
            "\n",
            "Epoch 00028: val_loss did not improve from 0.08485\n",
            "Epoch 29/50\n",
            "96/96 [==============================] - 12s 93ms/step - loss: 0.0897 - binary_accuracy: 0.9580 - auc_6: 0.9824 - precision_6: 0.7347 - recall_6: 0.8987 - val_loss: 0.0885 - val_binary_accuracy: 0.9586 - val_auc_6: 0.9830 - val_precision_6: 0.7361 - val_recall_6: 0.8984\n",
            "\n",
            "Epoch 00029: val_loss did not improve from 0.08485\n",
            "Epoch 30/50\n",
            "96/96 [==============================] - 12s 91ms/step - loss: 0.0908 - binary_accuracy: 0.9571 - auc_6: 0.9821 - precision_6: 0.7344 - recall_6: 0.9032 - val_loss: 0.0901 - val_binary_accuracy: 0.9577 - val_auc_6: 0.9824 - val_precision_6: 0.7373 - val_recall_6: 0.8963\n",
            "\n",
            "Epoch 00030: val_loss did not improve from 0.08485\n",
            "Epoch 31/50\n",
            "96/96 [==============================] - 11s 87ms/step - loss: 0.0953 - binary_accuracy: 0.9545 - auc_6: 0.9809 - precision_6: 0.7353 - recall_6: 0.8982 - val_loss: 0.0953 - val_binary_accuracy: 0.9548 - val_auc_6: 0.9814 - val_precision_6: 0.7347 - val_recall_6: 0.8981\n",
            "\n",
            "Epoch 00031: val_loss did not improve from 0.08485\n",
            "Epoch 32/50\n",
            "96/96 [==============================] - 12s 93ms/step - loss: 0.0927 - binary_accuracy: 0.9556 - auc_6: 0.9815 - precision_6: 0.7345 - recall_6: 0.8944 - val_loss: 0.0860 - val_binary_accuracy: 0.9591 - val_auc_6: 0.9829 - val_precision_6: 0.7379 - val_recall_6: 0.9020\n",
            "\n",
            "Epoch 00032: val_loss did not improve from 0.08485\n",
            "Epoch 33/50\n",
            "96/96 [==============================] - 12s 93ms/step - loss: 0.0902 - binary_accuracy: 0.9578 - auc_6: 0.9824 - precision_6: 0.7342 - recall_6: 0.8988 - val_loss: 0.0915 - val_binary_accuracy: 0.9576 - val_auc_6: 0.9823 - val_precision_6: 0.7332 - val_recall_6: 0.8973\n",
            "\n",
            "Epoch 00033: val_loss did not improve from 0.08485\n",
            "Epoch 34/50\n",
            "96/96 [==============================] - 12s 92ms/step - loss: 0.0892 - binary_accuracy: 0.9576 - auc_6: 0.9822 - precision_6: 0.7335 - recall_6: 0.9006 - val_loss: 0.0963 - val_binary_accuracy: 0.9543 - val_auc_6: 0.9810 - val_precision_6: 0.7335 - val_recall_6: 0.8970\n",
            "\n",
            "Epoch 00034: val_loss did not improve from 0.08485\n",
            "Epoch 35/50\n",
            "96/96 [==============================] - 11s 89ms/step - loss: 0.0931 - binary_accuracy: 0.9555 - auc_6: 0.9814 - precision_6: 0.7354 - recall_6: 0.8974 - val_loss: 0.0970 - val_binary_accuracy: 0.9529 - val_auc_6: 0.9804 - val_precision_6: 0.7331 - val_recall_6: 0.8964\n",
            "\n",
            "Epoch 00035: val_loss did not improve from 0.08485\n",
            "Epoch 36/50\n",
            "96/96 [==============================] - 11s 90ms/step - loss: 0.0908 - binary_accuracy: 0.9567 - auc_6: 0.9820 - precision_6: 0.7343 - recall_6: 0.8970 - val_loss: 0.0941 - val_binary_accuracy: 0.9554 - val_auc_6: 0.9812 - val_precision_6: 0.7358 - val_recall_6: 0.9041\n",
            "\n",
            "Epoch 00036: val_loss did not improve from 0.08485\n",
            "Epoch 37/50\n",
            "96/96 [==============================] - 12s 91ms/step - loss: 0.0913 - binary_accuracy: 0.9570 - auc_6: 0.9822 - precision_6: 0.7340 - recall_6: 0.8967 - val_loss: 0.0905 - val_binary_accuracy: 0.9576 - val_auc_6: 0.9821 - val_precision_6: 0.7281 - val_recall_6: 0.8988\n",
            "\n",
            "Epoch 00037: val_loss did not improve from 0.08485\n",
            "Epoch 38/50\n",
            "96/96 [==============================] - 11s 90ms/step - loss: 0.0942 - binary_accuracy: 0.9549 - auc_6: 0.9813 - precision_6: 0.7349 - recall_6: 0.8957 - val_loss: 0.0923 - val_binary_accuracy: 0.9554 - val_auc_6: 0.9816 - val_precision_6: 0.7372 - val_recall_6: 0.8985\n",
            "\n",
            "Epoch 00038: val_loss did not improve from 0.08485\n",
            "Epoch 39/50\n",
            "96/96 [==============================] - 11s 89ms/step - loss: 0.0925 - binary_accuracy: 0.9564 - auc_6: 0.9818 - precision_6: 0.7350 - recall_6: 0.9025 - val_loss: 0.0880 - val_binary_accuracy: 0.9570 - val_auc_6: 0.9824 - val_precision_6: 0.7350 - val_recall_6: 0.8935\n",
            "\n",
            "Epoch 00039: val_loss did not improve from 0.08485\n",
            "Epoch 40/50\n",
            "96/96 [==============================] - 12s 91ms/step - loss: 0.0911 - binary_accuracy: 0.9568 - auc_6: 0.9820 - precision_6: 0.7341 - recall_6: 0.8973 - val_loss: 0.0916 - val_binary_accuracy: 0.9562 - val_auc_6: 0.9817 - val_precision_6: 0.7327 - val_recall_6: 0.8967\n",
            "\n",
            "Epoch 00040: val_loss did not improve from 0.08485\n",
            "Epoch 41/50\n",
            "96/96 [==============================] - 12s 91ms/step - loss: 0.0901 - binary_accuracy: 0.9575 - auc_6: 0.9823 - precision_6: 0.7346 - recall_6: 0.8969 - val_loss: 0.0923 - val_binary_accuracy: 0.9550 - val_auc_6: 0.9812 - val_precision_6: 0.7338 - val_recall_6: 0.8975\n",
            "\n",
            "Epoch 00041: val_loss did not improve from 0.08485\n",
            "Epoch 42/50\n",
            "96/96 [==============================] - 12s 91ms/step - loss: 0.0927 - binary_accuracy: 0.9567 - auc_6: 0.9819 - precision_6: 0.7342 - recall_6: 0.8978 - val_loss: 0.0879 - val_binary_accuracy: 0.9592 - val_auc_6: 0.9832 - val_precision_6: 0.7349 - val_recall_6: 0.8932\n",
            "\n",
            "Epoch 00042: val_loss did not improve from 0.08485\n",
            "Epoch 43/50\n",
            "96/96 [==============================] - 11s 90ms/step - loss: 0.0905 - binary_accuracy: 0.9561 - auc_6: 0.9817 - precision_6: 0.7337 - recall_6: 0.8961 - val_loss: 0.0907 - val_binary_accuracy: 0.9580 - val_auc_6: 0.9830 - val_precision_6: 0.7400 - val_recall_6: 0.8953\n",
            "\n",
            "Epoch 00043: val_loss did not improve from 0.08485\n",
            "Epoch 44/50\n",
            "96/96 [==============================] - 11s 90ms/step - loss: 0.0903 - binary_accuracy: 0.9566 - auc_6: 0.9819 - precision_6: 0.7353 - recall_6: 0.8972 - val_loss: 0.1004 - val_binary_accuracy: 0.9530 - val_auc_6: 0.9803 - val_precision_6: 0.7394 - val_recall_6: 0.8941\n",
            "\n",
            "Epoch 00044: val_loss did not improve from 0.08485\n",
            "Epoch 45/50\n",
            "96/96 [==============================] - 11s 91ms/step - loss: 0.0933 - binary_accuracy: 0.9558 - auc_6: 0.9815 - precision_6: 0.7352 - recall_6: 0.8964 - val_loss: 0.0862 - val_binary_accuracy: 0.9597 - val_auc_6: 0.9830 - val_precision_6: 0.7309 - val_recall_6: 0.9002\n",
            "\n",
            "Epoch 00045: val_loss did not improve from 0.08485\n",
            "Epoch 46/50\n",
            "96/96 [==============================] - 12s 92ms/step - loss: 0.0890 - binary_accuracy: 0.9578 - auc_6: 0.9825 - precision_6: 0.7341 - recall_6: 0.8984 - val_loss: 0.0913 - val_binary_accuracy: 0.9555 - val_auc_6: 0.9815 - val_precision_6: 0.7386 - val_recall_6: 0.8958\n",
            "\n",
            "Epoch 00046: val_loss did not improve from 0.08485\n",
            "Epoch 47/50\n",
            "96/96 [==============================] - 11s 89ms/step - loss: 0.0892 - binary_accuracy: 0.9567 - auc_6: 0.9819 - precision_6: 0.7338 - recall_6: 0.8982 - val_loss: 0.1018 - val_binary_accuracy: 0.9507 - val_auc_6: 0.9793 - val_precision_6: 0.7376 - val_recall_6: 0.8983\n",
            "\n",
            "Epoch 00047: val_loss did not improve from 0.08485\n",
            "Epoch 48/50\n",
            "96/96 [==============================] - 12s 93ms/step - loss: 0.0904 - binary_accuracy: 0.9570 - auc_6: 0.9821 - precision_6: 0.7349 - recall_6: 0.8969 - val_loss: 0.0834 - val_binary_accuracy: 0.9600 - val_auc_6: 0.9836 - val_precision_6: 0.7313 - val_recall_6: 0.8954\n",
            "\n",
            "Epoch 00048: val_loss improved from 0.08485 to 0.08339, saving model to gdrive/MyDrive/Colab Notebooks/FQW/data/models/AD-LSTM(MultiHead_3_heads)_best.hdf5\n",
            "Epoch 49/50\n",
            "96/96 [==============================] - 11s 88ms/step - loss: 0.0916 - binary_accuracy: 0.9566 - auc_6: 0.9819 - precision_6: 0.7347 - recall_6: 0.8980 - val_loss: 0.0989 - val_binary_accuracy: 0.9519 - val_auc_6: 0.9799 - val_precision_6: 0.7322 - val_recall_6: 0.8998\n",
            "\n",
            "Epoch 00049: val_loss did not improve from 0.08339\n",
            "Epoch 50/50\n",
            "96/96 [==============================] - 12s 95ms/step - loss: 0.0922 - binary_accuracy: 0.9563 - auc_6: 0.9818 - precision_6: 0.7338 - recall_6: 0.8973 - val_loss: 0.0881 - val_binary_accuracy: 0.9566 - val_auc_6: 0.9819 - val_precision_6: 0.7339 - val_recall_6: 0.8986\n",
            "\n",
            "Epoch 00050: val_loss did not improve from 0.08339\n"
          ],
          "name": "stdout"
        }
      ]
    },
    {
      "cell_type": "code",
      "metadata": {
        "id": "IEJcwxtzVoQs"
      },
      "source": [
        "filename = os.path.join(HISTORY_PATH, 'NAKTM-LSTM-Multihead3.csv')\n",
        "# with open(filename, 'wb') as file_pi:\n",
        "#   pickle.dump(add_history.history, file_pi)\n",
        "\n",
        "history_df = pd.DataFrame(add_history.history)\n",
        "history_df.to_csv(filename)"
      ],
      "execution_count": null,
      "outputs": []
    },
    {
      "cell_type": "code",
      "metadata": {
        "colab": {
          "base_uri": "https://localhost:8080/",
          "height": 295
        },
        "id": "VOsDuf7-TN1p",
        "outputId": "d27addd0-abe1-430b-a8b9-d7d7768ceffb"
      },
      "source": [
        "import matplotlib.pyplot as plt\n",
        "\n",
        "add_loss = add_history.history['loss']\n",
        "add_val_loss = add_history.history['val_loss']\n",
        "epochs = np.arange(len(add_loss))\n",
        "plt.plot(epochs, add_loss, label = 'loss')\n",
        "plt.plot(epochs, add_val_loss, label = 'validation loss')\n",
        "plt.title('NAKTM, LSTM, Multihead Attention')\n",
        "plt.xlabel('Epochs')\n",
        "plt.ylabel('Loss value')\n",
        "plt.legend()\n",
        "plt.grid()\n",
        "plt.show()"
      ],
      "execution_count": null,
      "outputs": [
        {
          "output_type": "display_data",
          "data": {
            "image/png": "[encoded data removed]",
            "text/plain": [
              "<Figure size 432x288 with 1 Axes>"
            ]
          },
          "metadata": {
            "tags": [],
            "needs_background": "light"
          }
        }
      ]
    },
    {
      "cell_type": "markdown",
      "metadata": {
        "id": "Hhj97l7pTlQv"
      },
      "source": [
        "Три головы"
      ]
    },
    {
      "cell_type": "code",
      "metadata": {
        "colab": {
          "base_uri": "https://localhost:8080/"
        },
        "id": "JnUiXpz2TN1z",
        "outputId": "b58cf40f-d86f-47f6-ecab-39a67081df0a"
      },
      "source": [
        "import h5py\n",
        "with h5py.File(os.path.join(MODELS_PATH, model_name +'_best.hdf5'),'r') as f:\n",
        "  best_add_model = tf.keras.models.load_model(f, compile=False, custom_objects = {'Interpolation':Interpolation, 'Bilinear': Bilinear})\n",
        "\n",
        "\n",
        "best_add_model.compile(\n",
        "        loss = custom_loss,\n",
        "        optimizer='adam',\n",
        "        metrics=[\n",
        "            BinaryAccuracy(),\n",
        "            AUC(),\n",
        "            Precision(),\n",
        "            Recall()\n",
        "        ])\n",
        "\n",
        "\n",
        "\n",
        "add_result = add_model.evaluate(add_test_set, verbose=1)\n",
        "best_add_result = best_add_model.evaluate(add_test_set, verbose=1)\n",
        "\n",
        "# 31/31 [==============================] - 4s 36ms/step - loss: 0.0930 - binary_accuracy: 0.9555 - auc_6: 0.9814 - precision_6: 0.7332 - recall_6: 0.8990\n",
        "# 31/31 [==============================] - 5s 38ms/step - loss: 0.0854 - binary_accuracy: 0.9580 - auc_7: 0.9825 - precision_7: 0.7301 - recall_7: 0.8967"
      ],
      "execution_count": null,
      "outputs": [
        {
          "output_type": "stream",
          "text": [
            "31/31 [==============================] - 4s 36ms/step - loss: 0.0930 - binary_accuracy: 0.9555 - auc_6: 0.9814 - precision_6: 0.7332 - recall_6: 0.8990\n",
            "31/31 [==============================] - 5s 38ms/step - loss: 0.0854 - binary_accuracy: 0.9580 - auc_7: 0.9825 - precision_7: 0.7301 - recall_7: 0.8967\n"
          ],
          "name": "stdout"
        }
      ]
    },
    {
      "cell_type": "markdown",
      "metadata": {
        "id": "7Mrwcvc0VfWu"
      },
      "source": [
        "# Сross признаки"
      ]
    },
    {
      "cell_type": "code",
      "metadata": {
        "id": "eQR6ayQTVfWv"
      },
      "source": [
        "dataset, length, features_depth, skill_depth = get_dataset(ASSISTMENT_2015_PATH, batch_size = 128,\n",
        "                                                           features_func=get_cross_features)"
      ],
      "execution_count": null,
      "outputs": []
    },
    {
      "cell_type": "code",
      "metadata": {
        "id": "tCZgBOZwVfWv"
      },
      "source": [
        "train_set, test_set, val_set = split_dataset(dataset, length, 0.2, 0.2)"
      ],
      "execution_count": null,
      "outputs": []
    },
    {
      "cell_type": "code",
      "metadata": {
        "colab": {
          "base_uri": "https://localhost:8080/"
        },
        "id": "DV2yEBBHVfWv",
        "outputId": "1bfde5d9-2af8-4da0-9cae-c4f636856614"
      },
      "source": [
        "from tensorflow.keras import models, layers\n",
        "from tensorflow.keras.models import Sequential\n",
        "from tensorflow.keras.layers import Masking, LSTM, TimeDistributed, Dense\n",
        "\n",
        "model = tf.keras.models.Sequential(name = 'LSTM-Cross')\n",
        "\n",
        "model.add(Masking(mask_value = -1., input_shape = (None, features_depth), name = 'masking'))\n",
        "model.add(LSTM(features_depth, return_sequences = True, name = 'lstm_1'))\n",
        "model.add(LSTM(features_depth, return_sequences = True, name = 'lstm_2'))\n",
        "# model.add(LSTM(features_depth + 30, return_sequences = True, name = 'lstm_3'))\n",
        "model.add(TimeDistributed(Dense(200, activation = 'relu', name = 'dense_1'), name = 'timedistributed_1'))\n",
        "model.add(TimeDistributed(Dense(200, activation = 'relu', name = 'dense_2'), name = 'timedistributed_2'))\n",
        "model.add(TimeDistributed(Dense(200, activation = 'relu', name = 'dense_3'), name = 'timedistributed_3'))\n",
        "model.add(TimeDistributed(Dense(skill_depth, activation = 'sigmoid', name = 'dense'), name = 'timedistributed'))\n",
        "\n",
        "\n",
        "\n",
        "\n",
        "# d_model = tf.keras.models.Sequential(name = 'LSTM-Default')\n",
        "\n",
        "# d_model.add(Masking(mask_value = -1., input_shape = (None, d_features_depth), name = 'masking'))\n",
        "# d_model.add(LSTM(200, return_sequences = True, name = 'lstm_1'))\n",
        "# d_model.add(LSTM(200, return_sequences = True, name = 'lstm_2'))\n",
        "# # d_model.add(LSTM(200, return_sequences = True, name = 'lstm_3'))\n",
        "# d_model.add(TimeDistributed(Dense(200, activation = 'relu', name = 'dense')))\n",
        "# d_model.add(TimeDistributed(Dense(200, activation = 'relu', name = 'dense')))\n",
        "# d_model.add(TimeDistributed(Dense(200, activation = 'relu', name = 'dense')))\n",
        "# d_model.add(TimeDistributed(Dense(d_skill_depth, activation = 'sigmoid', name = 'dense')))\n",
        "\n",
        "\n",
        "\n",
        "model.compile(\n",
        "        loss = custom_loss,\n",
        "        optimizer='adam',\n",
        "        metrics=[\n",
        "            BinaryAccuracy(),\n",
        "            AUC(),\n",
        "            Precision(),\n",
        "            Recall()\n",
        "        ])\n",
        "\n",
        "model.summary()"
      ],
      "execution_count": null,
      "outputs": [
        {
          "output_type": "stream",
          "text": [
            "Model: \"LSTM-Cross\"\n",
            "_________________________________________________________________\n",
            "Layer (type)                 Output Shape              Param #   \n",
            "=================================================================\n",
            "masking (Masking)            (None, None, 200)         0         \n",
            "_________________________________________________________________\n",
            "lstm_1 (LSTM)                (None, None, 200)         320800    \n",
            "_________________________________________________________________\n",
            "lstm_2 (LSTM)                (None, None, 200)         320800    \n",
            "_________________________________________________________________\n",
            "timedistributed_1 (TimeDistr (None, None, 200)         40200     \n",
            "_________________________________________________________________\n",
            "timedistributed_2 (TimeDistr (None, None, 200)         40200     \n",
            "_________________________________________________________________\n",
            "timedistributed_3 (TimeDistr (None, None, 200)         40200     \n",
            "_________________________________________________________________\n",
            "timedistributed (TimeDistrib (None, None, 100)         20100     \n",
            "=================================================================\n",
            "Total params: 782,300\n",
            "Trainable params: 782,300\n",
            "Non-trainable params: 0\n",
            "_________________________________________________________________\n"
          ],
          "name": "stdout"
        }
      ]
    },
    {
      "cell_type": "code",
      "metadata": {
        "colab": {
          "base_uri": "https://localhost:8080/"
        },
        "id": "vQidmjfOVfWv",
        "outputId": "f75b068e-0112-4636-fcf8-35a1b56a935b"
      },
      "source": [
        "import tensorflow as tf\n",
        "\n",
        "model_name = model.name\n",
        "\n",
        "best_w = tf.keras.callbacks.ModelCheckpoint(os.path.join(MODELS_PATH, model_name + '_best.hdf5'),\n",
        "                                monitor='val_loss',\n",
        "                                verbose=1,\n",
        "                                save_best_only=True,\n",
        "                                save_weights_only=False,\n",
        "                                mode='auto'\n",
        "                                # save_freq = 1_000\n",
        "                                )\n",
        " \n",
        "last_w = tf.keras.callbacks.ModelCheckpoint(os.path.join(MODELS_PATH, model_name + '_last.hdf5'),\n",
        "                                monitor='val_loss',\n",
        "                                verbose=0,\n",
        "                                save_best_only=False,\n",
        "                                save_weights_only=False,\n",
        "                                mode='auto'\n",
        "                                # save_freq = 1_000\n",
        "                                )\n",
        " \n",
        "# early_stopping = tf.keras.callbacks.EarlyStopping(monitor='loss', patience=5)\n",
        " \n",
        "callbacks = [best_w, last_w]\n",
        "\n",
        "\n",
        "\n",
        "history = model.fit(train_set,\n",
        "                    epochs = 50,\n",
        "                    verbose = 1,\n",
        "                    validation_data=val_set,\n",
        "                    callbacks = callbacks)"
      ],
      "execution_count": null,
      "outputs": [
        {
          "output_type": "stream",
          "text": [
            "Epoch 1/50\n",
            "96/96 [==============================] - 23s 138ms/step - loss: 0.0855 - binary_accuracy: 0.7214 - auc_40: 0.6129 - precision_40: 0.7349 - recall_40: 0.9693 - val_loss: 0.0835 - val_binary_accuracy: 0.7380 - val_auc_40: 0.6832 - val_precision_40: 0.7421 - val_recall_40: 0.9861\n",
            "\n",
            "Epoch 00001: val_loss improved from inf to 0.08346, saving model to gdrive/MyDrive/Colab Notebooks/FQW/data/models/LSTM-Cross_best.hdf5\n",
            "Epoch 2/50\n",
            "96/96 [==============================] - 14s 117ms/step - loss: 0.0825 - binary_accuracy: 0.7405 - auc_40: 0.6918 - precision_40: 0.7478 - recall_40: 0.9736 - val_loss: 0.0816 - val_binary_accuracy: 0.7465 - val_auc_40: 0.7027 - val_precision_40: 0.7526 - val_recall_40: 0.9772\n",
            "\n",
            "Epoch 00002: val_loss improved from 0.08346 to 0.08159, saving model to gdrive/MyDrive/Colab Notebooks/FQW/data/models/LSTM-Cross_best.hdf5\n",
            "Epoch 3/50\n",
            "96/96 [==============================] - 14s 116ms/step - loss: 0.0822 - binary_accuracy: 0.7458 - auc_40: 0.7047 - precision_40: 0.7574 - recall_40: 0.9598 - val_loss: 0.0771 - val_binary_accuracy: 0.7471 - val_auc_40: 0.7126 - val_precision_40: 0.7556 - val_recall_40: 0.9643\n",
            "\n",
            "Epoch 00003: val_loss improved from 0.08159 to 0.07713, saving model to gdrive/MyDrive/Colab Notebooks/FQW/data/models/LSTM-Cross_best.hdf5\n",
            "Epoch 4/50\n",
            "96/96 [==============================] - 15s 120ms/step - loss: 0.0780 - binary_accuracy: 0.7486 - auc_40: 0.7123 - precision_40: 0.7617 - recall_40: 0.9551 - val_loss: 0.0796 - val_binary_accuracy: 0.7510 - val_auc_40: 0.7185 - val_precision_40: 0.7619 - val_recall_40: 0.9599\n",
            "\n",
            "Epoch 00004: val_loss did not improve from 0.07713\n",
            "Epoch 5/50\n",
            "96/96 [==============================] - 15s 118ms/step - loss: 0.0775 - binary_accuracy: 0.7484 - auc_40: 0.7159 - precision_40: 0.7631 - recall_40: 0.9511 - val_loss: 0.0798 - val_binary_accuracy: 0.7471 - val_auc_40: 0.7258 - val_precision_40: 0.7622 - val_recall_40: 0.9481\n",
            "\n",
            "Epoch 00005: val_loss did not improve from 0.07713\n",
            "Epoch 6/50\n",
            "96/96 [==============================] - 15s 117ms/step - loss: 0.0768 - binary_accuracy: 0.7509 - auc_40: 0.7194 - precision_40: 0.7654 - recall_40: 0.9529 - val_loss: 0.0813 - val_binary_accuracy: 0.7518 - val_auc_40: 0.7256 - val_precision_40: 0.7648 - val_recall_40: 0.9542\n",
            "\n",
            "Epoch 00006: val_loss did not improve from 0.07713\n",
            "Epoch 7/50\n",
            "96/96 [==============================] - 14s 117ms/step - loss: 0.0768 - binary_accuracy: 0.7517 - auc_40: 0.7235 - precision_40: 0.7669 - recall_40: 0.9502 - val_loss: 0.0819 - val_binary_accuracy: 0.7513 - val_auc_40: 0.7276 - val_precision_40: 0.7641 - val_recall_40: 0.9545\n",
            "\n",
            "Epoch 00007: val_loss did not improve from 0.07713\n",
            "Epoch 8/50\n",
            "96/96 [==============================] - 14s 116ms/step - loss: 0.0793 - binary_accuracy: 0.7516 - auc_40: 0.7248 - precision_40: 0.7668 - recall_40: 0.9495 - val_loss: 0.0823 - val_binary_accuracy: 0.7507 - val_auc_40: 0.7285 - val_precision_40: 0.7621 - val_recall_40: 0.9568\n",
            "\n",
            "Epoch 00008: val_loss did not improve from 0.07713\n",
            "Epoch 9/50\n",
            "96/96 [==============================] - 15s 120ms/step - loss: 0.0769 - binary_accuracy: 0.7517 - auc_40: 0.7267 - precision_40: 0.7676 - recall_40: 0.9480 - val_loss: 0.0739 - val_binary_accuracy: 0.7477 - val_auc_40: 0.7272 - val_precision_40: 0.7660 - val_recall_40: 0.9403\n",
            "\n",
            "Epoch 00009: val_loss improved from 0.07713 to 0.07386, saving model to gdrive/MyDrive/Colab Notebooks/FQW/data/models/LSTM-Cross_best.hdf5\n",
            "Epoch 10/50\n",
            "96/96 [==============================] - 14s 116ms/step - loss: 0.0781 - binary_accuracy: 0.7521 - auc_40: 0.7267 - precision_40: 0.7680 - recall_40: 0.9483 - val_loss: 0.0797 - val_binary_accuracy: 0.7523 - val_auc_40: 0.7280 - val_precision_40: 0.7678 - val_recall_40: 0.9492\n",
            "\n",
            "Epoch 00010: val_loss did not improve from 0.07386\n",
            "Epoch 11/50\n",
            "96/96 [==============================] - 15s 120ms/step - loss: 0.0758 - binary_accuracy: 0.7530 - auc_40: 0.7288 - precision_40: 0.7686 - recall_40: 0.9479 - val_loss: 0.0713 - val_binary_accuracy: 0.7537 - val_auc_40: 0.7306 - val_precision_40: 0.7684 - val_recall_40: 0.9508\n",
            "\n",
            "Epoch 00011: val_loss improved from 0.07386 to 0.07134, saving model to gdrive/MyDrive/Colab Notebooks/FQW/data/models/LSTM-Cross_best.hdf5\n",
            "Epoch 12/50\n",
            "96/96 [==============================] - 14s 117ms/step - loss: 0.0757 - binary_accuracy: 0.7532 - auc_40: 0.7304 - precision_40: 0.7691 - recall_40: 0.9479 - val_loss: 0.0728 - val_binary_accuracy: 0.7529 - val_auc_40: 0.7337 - val_precision_40: 0.7663 - val_recall_40: 0.9519\n",
            "\n",
            "Epoch 00012: val_loss did not improve from 0.07134\n",
            "Epoch 13/50\n",
            "96/96 [==============================] - 14s 118ms/step - loss: 0.0742 - binary_accuracy: 0.7545 - auc_40: 0.7334 - precision_40: 0.7710 - recall_40: 0.9457 - val_loss: 0.0733 - val_binary_accuracy: 0.7543 - val_auc_40: 0.7361 - val_precision_40: 0.7733 - val_recall_40: 0.9391\n",
            "\n",
            "Epoch 00013: val_loss did not improve from 0.07134\n",
            "Epoch 14/50\n",
            "96/96 [==============================] - 14s 118ms/step - loss: 0.0759 - binary_accuracy: 0.7543 - auc_40: 0.7329 - precision_40: 0.7709 - recall_40: 0.9457 - val_loss: 0.0763 - val_binary_accuracy: 0.7542 - val_auc_40: 0.7321 - val_precision_40: 0.7698 - val_recall_40: 0.9494\n",
            "\n",
            "Epoch 00014: val_loss did not improve from 0.07134\n",
            "Epoch 15/50\n",
            "96/96 [==============================] - 15s 118ms/step - loss: 0.0766 - binary_accuracy: 0.7539 - auc_40: 0.7344 - precision_40: 0.7707 - recall_40: 0.9443 - val_loss: 0.0823 - val_binary_accuracy: 0.7567 - val_auc_40: 0.7383 - val_precision_40: 0.7759 - val_recall_40: 0.9390\n",
            "\n",
            "Epoch 00015: val_loss did not improve from 0.07134\n",
            "Epoch 16/50\n",
            "96/96 [==============================] - 15s 121ms/step - loss: 0.0737 - binary_accuracy: 0.7543 - auc_40: 0.7342 - precision_40: 0.7709 - recall_40: 0.9451 - val_loss: 0.0721 - val_binary_accuracy: 0.7550 - val_auc_40: 0.7371 - val_precision_40: 0.7712 - val_recall_40: 0.9448\n",
            "\n",
            "Epoch 00016: val_loss did not improve from 0.07134\n",
            "Epoch 17/50\n",
            "96/96 [==============================] - 15s 119ms/step - loss: 0.0751 - binary_accuracy: 0.7555 - auc_40: 0.7352 - precision_40: 0.7722 - recall_40: 0.9450 - val_loss: 0.0689 - val_binary_accuracy: 0.7529 - val_auc_40: 0.7388 - val_precision_40: 0.7689 - val_recall_40: 0.9454\n",
            "\n",
            "Epoch 00017: val_loss improved from 0.07134 to 0.06886, saving model to gdrive/MyDrive/Colab Notebooks/FQW/data/models/LSTM-Cross_best.hdf5\n",
            "Epoch 18/50\n",
            "96/96 [==============================] - 14s 115ms/step - loss: 0.0791 - binary_accuracy: 0.7555 - auc_40: 0.7367 - precision_40: 0.7723 - recall_40: 0.9441 - val_loss: 0.0696 - val_binary_accuracy: 0.7583 - val_auc_40: 0.7443 - val_precision_40: 0.7738 - val_recall_40: 0.9471\n",
            "\n",
            "Epoch 00018: val_loss did not improve from 0.06886\n",
            "Epoch 19/50\n",
            "96/96 [==============================] - 14s 116ms/step - loss: 0.0754 - binary_accuracy: 0.7557 - auc_40: 0.7386 - precision_40: 0.7730 - recall_40: 0.9435 - val_loss: 0.0730 - val_binary_accuracy: 0.7563 - val_auc_40: 0.7471 - val_precision_40: 0.7702 - val_recall_40: 0.9487\n",
            "\n",
            "Epoch 00019: val_loss did not improve from 0.06886\n",
            "Epoch 20/50\n",
            "96/96 [==============================] - 15s 118ms/step - loss: 0.0760 - binary_accuracy: 0.7556 - auc_40: 0.7403 - precision_40: 0.7730 - recall_40: 0.9422 - val_loss: 0.0727 - val_binary_accuracy: 0.7610 - val_auc_40: 0.7465 - val_precision_40: 0.7732 - val_recall_40: 0.9541\n",
            "\n",
            "Epoch 00020: val_loss did not improve from 0.06886\n",
            "Epoch 21/50\n",
            "96/96 [==============================] - 14s 119ms/step - loss: 0.0756 - binary_accuracy: 0.7561 - auc_40: 0.7401 - precision_40: 0.7731 - recall_40: 0.9442 - val_loss: 0.0771 - val_binary_accuracy: 0.7640 - val_auc_40: 0.7468 - val_precision_40: 0.7819 - val_recall_40: 0.9447\n",
            "\n",
            "Epoch 00021: val_loss did not improve from 0.06886\n",
            "Epoch 22/50\n",
            "96/96 [==============================] - 15s 120ms/step - loss: 0.0775 - binary_accuracy: 0.7567 - auc_40: 0.7426 - precision_40: 0.7748 - recall_40: 0.9411 - val_loss: 0.0720 - val_binary_accuracy: 0.7586 - val_auc_40: 0.7460 - val_precision_40: 0.7826 - val_recall_40: 0.9279\n",
            "\n",
            "Epoch 00022: val_loss did not improve from 0.06886\n",
            "Epoch 23/50\n",
            "96/96 [==============================] - 15s 119ms/step - loss: 0.0736 - binary_accuracy: 0.7577 - auc_40: 0.7430 - precision_40: 0.7750 - recall_40: 0.9430 - val_loss: 0.0770 - val_binary_accuracy: 0.7625 - val_auc_40: 0.7509 - val_precision_40: 0.7818 - val_recall_40: 0.9386\n",
            "\n",
            "Epoch 00023: val_loss did not improve from 0.06886\n",
            "Epoch 24/50\n",
            "96/96 [==============================] - 15s 117ms/step - loss: 0.0752 - binary_accuracy: 0.7588 - auc_40: 0.7468 - precision_40: 0.7764 - recall_40: 0.9414 - val_loss: 0.0756 - val_binary_accuracy: 0.7598 - val_auc_40: 0.7527 - val_precision_40: 0.7800 - val_recall_40: 0.9356\n",
            "\n",
            "Epoch 00024: val_loss did not improve from 0.06886\n",
            "Epoch 25/50\n",
            "96/96 [==============================] - 14s 116ms/step - loss: 0.0756 - binary_accuracy: 0.7590 - auc_40: 0.7468 - precision_40: 0.7769 - recall_40: 0.9412 - val_loss: 0.0723 - val_binary_accuracy: 0.7641 - val_auc_40: 0.7527 - val_precision_40: 0.7827 - val_recall_40: 0.9400\n",
            "\n",
            "Epoch 00025: val_loss did not improve from 0.06886\n",
            "Epoch 26/50\n",
            "96/96 [==============================] - 15s 118ms/step - loss: 0.0738 - binary_accuracy: 0.7584 - auc_40: 0.7476 - precision_40: 0.7765 - recall_40: 0.9402 - val_loss: 0.0684 - val_binary_accuracy: 0.7649 - val_auc_40: 0.7548 - val_precision_40: 0.7837 - val_recall_40: 0.9416\n",
            "\n",
            "Epoch 00026: val_loss improved from 0.06886 to 0.06840, saving model to gdrive/MyDrive/Colab Notebooks/FQW/data/models/LSTM-Cross_best.hdf5\n",
            "Epoch 27/50\n",
            "96/96 [==============================] - 15s 119ms/step - loss: 0.0736 - binary_accuracy: 0.7616 - auc_40: 0.7513 - precision_40: 0.7789 - recall_40: 0.9421 - val_loss: 0.0781 - val_binary_accuracy: 0.7665 - val_auc_40: 0.7606 - val_precision_40: 0.7850 - val_recall_40: 0.9403\n",
            "\n",
            "Epoch 00027: val_loss did not improve from 0.06840\n",
            "Epoch 28/50\n",
            "96/96 [==============================] - 14s 117ms/step - loss: 0.0731 - binary_accuracy: 0.7609 - auc_40: 0.7520 - precision_40: 0.7794 - recall_40: 0.9396 - val_loss: 0.0773 - val_binary_accuracy: 0.7631 - val_auc_40: 0.7555 - val_precision_40: 0.7809 - val_recall_40: 0.9414\n",
            "\n",
            "Epoch 00028: val_loss did not improve from 0.06840\n",
            "Epoch 29/50\n",
            "96/96 [==============================] - 15s 119ms/step - loss: 0.0743 - binary_accuracy: 0.7620 - auc_40: 0.7542 - precision_40: 0.7802 - recall_40: 0.9400 - val_loss: 0.0722 - val_binary_accuracy: 0.7627 - val_auc_40: 0.7596 - val_precision_40: 0.7807 - val_recall_40: 0.9395\n",
            "\n",
            "Epoch 00029: val_loss did not improve from 0.06840\n",
            "Epoch 30/50\n",
            "96/96 [==============================] - 14s 114ms/step - loss: 0.0764 - binary_accuracy: 0.7635 - auc_40: 0.7567 - precision_40: 0.7815 - recall_40: 0.9406 - val_loss: 0.0789 - val_binary_accuracy: 0.7697 - val_auc_40: 0.7645 - val_precision_40: 0.7840 - val_recall_40: 0.9494\n",
            "\n",
            "Epoch 00030: val_loss did not improve from 0.06840\n",
            "Epoch 31/50\n",
            "96/96 [==============================] - 14s 118ms/step - loss: 0.0748 - binary_accuracy: 0.7651 - auc_40: 0.7610 - precision_40: 0.7835 - recall_40: 0.9391 - val_loss: 0.0731 - val_binary_accuracy: 0.7621 - val_auc_40: 0.7667 - val_precision_40: 0.7809 - val_recall_40: 0.9347\n",
            "\n",
            "Epoch 00031: val_loss did not improve from 0.06840\n",
            "Epoch 32/50\n",
            "96/96 [==============================] - 15s 120ms/step - loss: 0.0711 - binary_accuracy: 0.7652 - auc_40: 0.7622 - precision_40: 0.7840 - recall_40: 0.9379 - val_loss: 0.0706 - val_binary_accuracy: 0.7696 - val_auc_40: 0.7704 - val_precision_40: 0.7885 - val_recall_40: 0.9386\n",
            "\n",
            "Epoch 00032: val_loss did not improve from 0.06840\n",
            "Epoch 33/50\n",
            "96/96 [==============================] - 15s 125ms/step - loss: 0.0713 - binary_accuracy: 0.7656 - auc_40: 0.7642 - precision_40: 0.7842 - recall_40: 0.9378 - val_loss: 0.0725 - val_binary_accuracy: 0.7701 - val_auc_40: 0.7741 - val_precision_40: 0.7885 - val_recall_40: 0.9369\n",
            "\n",
            "Epoch 00033: val_loss did not improve from 0.06840\n",
            "Epoch 34/50\n",
            "96/96 [==============================] - 14s 117ms/step - loss: 0.0737 - binary_accuracy: 0.7665 - auc_40: 0.7684 - precision_40: 0.7854 - recall_40: 0.9369 - val_loss: 0.0764 - val_binary_accuracy: 0.7704 - val_auc_40: 0.7758 - val_precision_40: 0.7917 - val_recall_40: 0.9322\n",
            "\n",
            "Epoch 00034: val_loss did not improve from 0.06840\n",
            "Epoch 35/50\n",
            "96/96 [==============================] - 15s 120ms/step - loss: 0.0706 - binary_accuracy: 0.7692 - auc_40: 0.7722 - precision_40: 0.7885 - recall_40: 0.9357 - val_loss: 0.0718 - val_binary_accuracy: 0.7679 - val_auc_40: 0.7777 - val_precision_40: 0.7867 - val_recall_40: 0.9340\n",
            "\n",
            "Epoch 00035: val_loss did not improve from 0.06840\n",
            "Epoch 36/50\n",
            "96/96 [==============================] - 15s 121ms/step - loss: 0.0681 - binary_accuracy: 0.7704 - auc_40: 0.7758 - precision_40: 0.7898 - recall_40: 0.9347 - val_loss: 0.0670 - val_binary_accuracy: 0.7743 - val_auc_40: 0.7804 - val_precision_40: 0.7936 - val_recall_40: 0.9364\n",
            "\n",
            "Epoch 00036: val_loss improved from 0.06840 to 0.06700, saving model to gdrive/MyDrive/Colab Notebooks/FQW/data/models/LSTM-Cross_best.hdf5\n",
            "Epoch 37/50\n",
            "96/96 [==============================] - 15s 122ms/step - loss: 0.0698 - binary_accuracy: 0.7714 - auc_40: 0.7791 - precision_40: 0.7911 - recall_40: 0.9337 - val_loss: 0.0672 - val_binary_accuracy: 0.7752 - val_auc_40: 0.7855 - val_precision_40: 0.7967 - val_recall_40: 0.9288\n",
            "\n",
            "Epoch 00037: val_loss did not improve from 0.06700\n",
            "Epoch 38/50\n",
            "96/96 [==============================] - 15s 121ms/step - loss: 0.0702 - binary_accuracy: 0.7735 - auc_40: 0.7798 - precision_40: 0.7928 - recall_40: 0.9353 - val_loss: 0.0675 - val_binary_accuracy: 0.7785 - val_auc_40: 0.7921 - val_precision_40: 0.7949 - val_recall_40: 0.9401\n",
            "\n",
            "Epoch 00038: val_loss did not improve from 0.06700\n",
            "Epoch 39/50\n",
            "96/96 [==============================] - 14s 117ms/step - loss: 0.0707 - binary_accuracy: 0.7754 - auc_40: 0.7846 - precision_40: 0.7948 - recall_40: 0.9352 - val_loss: 0.0704 - val_binary_accuracy: 0.7801 - val_auc_40: 0.7917 - val_precision_40: 0.7994 - val_recall_40: 0.9352\n",
            "\n",
            "Epoch 00039: val_loss did not improve from 0.06700\n",
            "Epoch 40/50\n",
            "96/96 [==============================] - 15s 121ms/step - loss: 0.0681 - binary_accuracy: 0.7770 - auc_40: 0.7901 - precision_40: 0.7972 - recall_40: 0.9325 - val_loss: 0.0678 - val_binary_accuracy: 0.7817 - val_auc_40: 0.7962 - val_precision_40: 0.8039 - val_recall_40: 0.9304\n",
            "\n",
            "Epoch 00040: val_loss did not improve from 0.06700\n",
            "Epoch 41/50\n",
            "96/96 [==============================] - 14s 118ms/step - loss: 0.0691 - binary_accuracy: 0.7783 - auc_40: 0.7919 - precision_40: 0.7984 - recall_40: 0.9326 - val_loss: 0.0713 - val_binary_accuracy: 0.7831 - val_auc_40: 0.7995 - val_precision_40: 0.8048 - val_recall_40: 0.9315\n",
            "\n",
            "Epoch 00041: val_loss did not improve from 0.06700\n",
            "Epoch 42/50\n",
            "96/96 [==============================] - 14s 115ms/step - loss: 0.0710 - binary_accuracy: 0.7809 - auc_40: 0.7955 - precision_40: 0.8010 - recall_40: 0.9330 - val_loss: 0.0708 - val_binary_accuracy: 0.7839 - val_auc_40: 0.7999 - val_precision_40: 0.8059 - val_recall_40: 0.9325\n",
            "\n",
            "Epoch 00042: val_loss did not improve from 0.06700\n",
            "Epoch 43/50\n",
            "96/96 [==============================] - 15s 118ms/step - loss: 0.0682 - binary_accuracy: 0.7829 - auc_40: 0.8007 - precision_40: 0.8033 - recall_40: 0.9321 - val_loss: 0.0664 - val_binary_accuracy: 0.7876 - val_auc_40: 0.8097 - val_precision_40: 0.8061 - val_recall_40: 0.9358\n",
            "\n",
            "Epoch 00043: val_loss improved from 0.06700 to 0.06640, saving model to gdrive/MyDrive/Colab Notebooks/FQW/data/models/LSTM-Cross_best.hdf5\n",
            "Epoch 44/50\n",
            "96/96 [==============================] - 14s 118ms/step - loss: 0.0680 - binary_accuracy: 0.7849 - auc_40: 0.8052 - precision_40: 0.8055 - recall_40: 0.9318 - val_loss: 0.0704 - val_binary_accuracy: 0.7916 - val_auc_40: 0.8155 - val_precision_40: 0.8078 - val_recall_40: 0.9388\n",
            "\n",
            "Epoch 00044: val_loss did not improve from 0.06640\n",
            "Epoch 45/50\n",
            "96/96 [==============================] - 14s 119ms/step - loss: 0.0669 - binary_accuracy: 0.7858 - auc_40: 0.8091 - precision_40: 0.8064 - recall_40: 0.9302 - val_loss: 0.0701 - val_binary_accuracy: 0.7932 - val_auc_40: 0.8188 - val_precision_40: 0.8139 - val_recall_40: 0.9317\n",
            "\n",
            "Epoch 00045: val_loss did not improve from 0.06640\n",
            "Epoch 46/50\n",
            "96/96 [==============================] - 15s 119ms/step - loss: 0.0669 - binary_accuracy: 0.7879 - auc_40: 0.8129 - precision_40: 0.8089 - recall_40: 0.9299 - val_loss: 0.0686 - val_binary_accuracy: 0.7931 - val_auc_40: 0.8217 - val_precision_40: 0.8080 - val_recall_40: 0.9417\n",
            "\n",
            "Epoch 00046: val_loss did not improve from 0.06640\n",
            "Epoch 47/50\n",
            "96/96 [==============================] - 14s 119ms/step - loss: 0.0671 - binary_accuracy: 0.7903 - auc_40: 0.8168 - precision_40: 0.8108 - recall_40: 0.9301 - val_loss: 0.0602 - val_binary_accuracy: 0.7920 - val_auc_40: 0.8204 - val_precision_40: 0.8141 - val_recall_40: 0.9272\n",
            "\n",
            "Epoch 00047: val_loss improved from 0.06640 to 0.06018, saving model to gdrive/MyDrive/Colab Notebooks/FQW/data/models/LSTM-Cross_best.hdf5\n",
            "Epoch 48/50\n",
            "96/96 [==============================] - 15s 120ms/step - loss: 0.0643 - binary_accuracy: 0.7939 - auc_40: 0.8211 - precision_40: 0.8148 - recall_40: 0.9306 - val_loss: 0.0600 - val_binary_accuracy: 0.7998 - val_auc_40: 0.8326 - val_precision_40: 0.8200 - val_recall_40: 0.9304\n",
            "\n",
            "Epoch 00048: val_loss improved from 0.06018 to 0.05998, saving model to gdrive/MyDrive/Colab Notebooks/FQW/data/models/LSTM-Cross_best.hdf5\n",
            "Epoch 49/50\n",
            "96/96 [==============================] - 15s 120ms/step - loss: 0.0637 - binary_accuracy: 0.7953 - auc_40: 0.8256 - precision_40: 0.8163 - recall_40: 0.9288 - val_loss: 0.0621 - val_binary_accuracy: 0.7997 - val_auc_40: 0.8359 - val_precision_40: 0.8223 - val_recall_40: 0.9244\n",
            "\n",
            "Epoch 00049: val_loss did not improve from 0.05998\n",
            "Epoch 50/50\n",
            "96/96 [==============================] - 14s 117ms/step - loss: 0.0645 - binary_accuracy: 0.7978 - auc_40: 0.8292 - precision_40: 0.8194 - recall_40: 0.9289 - val_loss: 0.0629 - val_binary_accuracy: 0.8049 - val_auc_40: 0.8400 - val_precision_40: 0.8229 - val_recall_40: 0.9362\n",
            "\n",
            "Epoch 00050: val_loss did not improve from 0.05998\n"
          ],
          "name": "stdout"
        }
      ]
    },
    {
      "cell_type": "code",
      "metadata": {
        "id": "1uvt56ncZNDB"
      },
      "source": [
        "filename = os.path.join(HISTORY_PATH, 'LSTM-Cross.csv')\n",
        "# with open(filename, 'wb') as file_pi:\n",
        "#   pickle.dump(add_history.history, file_pi)\n",
        "\n",
        "history_df = pd.DataFrame(history.history)\n",
        "history_df.to_csv(filename)"
      ],
      "execution_count": null,
      "outputs": []
    },
    {
      "cell_type": "code",
      "metadata": {
        "colab": {
          "base_uri": "https://localhost:8080/",
          "height": 295
        },
        "id": "SdP-c7vyVfWw",
        "outputId": "3cdaf8e6-3600-4011-b106-f6c55c915881"
      },
      "source": [
        "# Используем cross features\n",
        "import matplotlib.pyplot as plt\n",
        "\n",
        "loss = history.history['loss']\n",
        "val_loss = history.history['val_loss']\n",
        "epochs = np.arange(len(loss))\n",
        "plt.plot(epochs, loss, label = 'loss')\n",
        "plt.plot(epochs, val_loss, label = 'validation loss')\n",
        "plt.title('Model with cross features')\n",
        "plt.xlabel('Epochs')\n",
        "plt.ylabel('Loss value')\n",
        "plt.legend()\n",
        "plt.grid()\n",
        "plt.show()"
      ],
      "execution_count": null,
      "outputs": [
        {
          "output_type": "display_data",
          "data": {
            "image/png": "[encoded data removed]",
            "text/plain": [
              "<Figure size 432x288 with 1 Axes>"
            ]
          },
          "metadata": {
            "tags": [],
            "needs_background": "light"
          }
        }
      ]
    },
    {
      "cell_type": "code",
      "metadata": {
        "colab": {
          "base_uri": "https://localhost:8080/"
        },
        "id": "9zm2NDgSv7nW",
        "outputId": "05d534ca-4331-40bf-8c05-4b12892ee1e2"
      },
      "source": [
        "import h5py\n",
        "with h5py.File(os.path.join(MODELS_PATH, model_name +'_best.hdf5'),'r') as f:\n",
        "  best_model = tf.keras.models.load_model(f, compile=False)\n",
        "\n",
        "\n",
        "best_model.compile(\n",
        "        loss = custom_loss,\n",
        "        optimizer='adam',\n",
        "        metrics=[\n",
        "            BinaryAccuracy(),\n",
        "            AUC(),\n",
        "            Precision(),\n",
        "            Recall()\n",
        "        ])\n",
        "\n",
        "\n",
        "\n",
        "\n",
        "cross_result = model.evaluate(test_set, verbose=1)\n",
        "best_cross_result = best_model.evaluate(test_set, verbose=1)\n",
        "\n",
        "# 31/31 [==============================] - 4s 52ms/step - loss: 0.0633 - binary_accuracy: 0.8014 - auc_40: 0.8366 - precision_40: 0.8197 - recall_40: 0.9348\n",
        "# 31/31 [==============================] - 6s 50ms/step - loss: 0.0648 - binary_accuracy: 0.8000 - auc_41: 0.8326 - precision_41: 0.8214 - recall_41: 0.9298"
      ],
      "execution_count": null,
      "outputs": [
        {
          "output_type": "stream",
          "text": [
            "31/31 [==============================] - 4s 52ms/step - loss: 0.0633 - binary_accuracy: 0.8014 - auc_40: 0.8366 - precision_40: 0.8197 - recall_40: 0.9348\n",
            "31/31 [==============================] - 6s 50ms/step - loss: 0.0648 - binary_accuracy: 0.8000 - auc_41: 0.8326 - precision_41: 0.8214 - recall_41: 0.9298\n"
          ],
          "name": "stdout"
        }
      ]
    },
    {
      "cell_type": "markdown",
      "metadata": {
        "id": "HI-iCdjlVfWw"
      },
      "source": [
        "# Обычные признаки"
      ]
    },
    {
      "cell_type": "code",
      "metadata": {
        "id": "9121fpqiVfWw"
      },
      "source": [
        "d_dataset, d_length, d_features_depth, d_skill_depth = get_dataset(ASSISTMENT_2015_PATH, batch_size = 128,\n",
        "                                                           features_func=get_default_features)"
      ],
      "execution_count": null,
      "outputs": []
    },
    {
      "cell_type": "code",
      "metadata": {
        "id": "kRycK0WBVfWw",
        "colab": {
          "base_uri": "https://localhost:8080/"
        },
        "outputId": "d05b9e55-a263-4a3d-8c00-5600a408d97f"
      },
      "source": [
        "d_length, d_features_depth, d_skill_depth"
      ],
      "execution_count": null,
      "outputs": [
        {
          "output_type": "execute_result",
          "data": {
            "text/plain": [
              "(151, 102, 100)"
            ]
          },
          "metadata": {
            "tags": []
          },
          "execution_count": 196
        }
      ]
    },
    {
      "cell_type": "code",
      "metadata": {
        "id": "apKmGkF5VfWx"
      },
      "source": [
        "d_train_set, d_test_set, d_val_set = split_dataset(d_dataset, length, 0.2, 0.2)"
      ],
      "execution_count": null,
      "outputs": []
    },
    {
      "cell_type": "code",
      "metadata": {
        "scrolled": true,
        "id": "exYZ7ElvVfWx",
        "colab": {
          "base_uri": "https://localhost:8080/"
        },
        "outputId": "41bc7e98-79da-4fa0-b144-0a519b6aeadb"
      },
      "source": [
        "from tensorflow.keras import models, layers\n",
        "from tensorflow.keras.models import Sequential\n",
        "from tensorflow.keras.layers import Masking, LSTM, TimeDistributed, Dense\n",
        "\n",
        "d_model = tf.keras.models.Sequential(name = 'LSTM-Default')\n",
        "\n",
        "d_model.add(Masking(mask_value = -1., input_shape = (None, d_features_depth), name = 'masking'))\n",
        "d_model.add(LSTM(200, return_sequences = True, name = 'lstm_1'))\n",
        "d_model.add(LSTM(200, return_sequences = True, name = 'lstm_2'))\n",
        "# d_model.add(LSTM(200, return_sequences = True, name = 'lstm_3'))\n",
        "d_model.add(TimeDistributed(Dense(200, activation = 'relu', name = 'dense'), name = 'timedistributed_1'))\n",
        "d_model.add(TimeDistributed(Dense(200, activation = 'relu', name = 'dense'), name = 'timedistributed_2'))\n",
        "d_model.add(TimeDistributed(Dense(200, activation = 'relu', name = 'dense'), name = 'timedistributed_3'))\n",
        "d_model.add(TimeDistributed(Dense(d_skill_depth, activation = 'sigmoid', name = 'dense'), name = 'timedistributed'))\n",
        "\n",
        "\n",
        "# Не забыть поменять custom_loss\n",
        "d_model.compile(\n",
        "        loss = custom_loss,\n",
        "        optimizer='adam',\n",
        "        metrics=[\n",
        "            BinaryAccuracy(),\n",
        "            AUC(),\n",
        "            Precision(),\n",
        "            Recall()\n",
        "        ])\n",
        "\n",
        "d_model.summary()"
      ],
      "execution_count": null,
      "outputs": [
        {
          "output_type": "stream",
          "text": [
            "Model: \"LSTM-Default\"\n",
            "_________________________________________________________________\n",
            "Layer (type)                 Output Shape              Param #   \n",
            "=================================================================\n",
            "masking (Masking)            (None, None, 102)         0         \n",
            "_________________________________________________________________\n",
            "lstm_1 (LSTM)                (None, None, 200)         242400    \n",
            "_________________________________________________________________\n",
            "lstm_2 (LSTM)                (None, None, 200)         320800    \n",
            "_________________________________________________________________\n",
            "time_distributed_50 (TimeDis (None, None, 200)         40200     \n",
            "_________________________________________________________________\n",
            "time_distributed_51 (TimeDis (None, None, 200)         40200     \n",
            "_________________________________________________________________\n",
            "time_distributed_52 (TimeDis (None, None, 200)         40200     \n",
            "_________________________________________________________________\n",
            "time_distributed_53 (TimeDis (None, None, 100)         20100     \n",
            "=================================================================\n",
            "Total params: 703,900\n",
            "Trainable params: 703,900\n",
            "Non-trainable params: 0\n",
            "_________________________________________________________________\n"
          ],
          "name": "stdout"
        }
      ]
    },
    {
      "cell_type": "code",
      "metadata": {
        "id": "1VeGB9RJVfWx",
        "colab": {
          "base_uri": "https://localhost:8080/"
        },
        "outputId": "29190814-b00c-429a-e63f-613f289b0e41"
      },
      "source": [
        "import tensorflow as tf\n",
        "\n",
        "model_name = d_model.name\n",
        "\n",
        "best_w = tf.keras.callbacks.ModelCheckpoint(os.path.join(MODELS_PATH, model_name + '_best.hdf5'),\n",
        "                                monitor='val_loss',\n",
        "                                verbose=1,\n",
        "                                save_best_only=True,\n",
        "                                save_weights_only=False,\n",
        "                                mode='auto'\n",
        "                                # save_freq = 1_000\n",
        "                                )\n",
        " \n",
        "last_w = tf.keras.callbacks.ModelCheckpoint(os.path.join(MODELS_PATH, model_name + '_last.hdf5'),\n",
        "                                monitor='val_loss',\n",
        "                                verbose=0,\n",
        "                                save_best_only=False,\n",
        "                                save_weights_only=False,\n",
        "                                mode='auto'\n",
        "                                # save_freq = 1_000\n",
        "                                )\n",
        " \n",
        "# early_stopping = tf.keras.callbacks.EarlyStopping(monitor='loss', patience=5)\n",
        " \n",
        "callbacks = [best_w, last_w]\n",
        "\n",
        "\n",
        "\n",
        "d_history = d_model.fit(d_train_set,\n",
        "                    epochs = 50,\n",
        "                    verbose = 1,\n",
        "                    validation_data=d_val_set,\n",
        "                    callbacks = callbacks)"
      ],
      "execution_count": null,
      "outputs": [
        {
          "output_type": "stream",
          "text": [
            "Epoch 1/50\n",
            "96/96 [==============================] - 25s 145ms/step - loss: 0.0820 - binary_accuracy: 0.7210 - auc_56: 0.6191 - precision_56: 0.7358 - recall_56: 0.9653 - val_loss: 0.0784 - val_binary_accuracy: 0.7400 - val_auc_56: 0.6810 - val_precision_56: 0.7436 - val_recall_56: 0.9884\n",
            "\n",
            "Epoch 00001: val_loss improved from inf to 0.07845, saving model to gdrive/MyDrive/Colab Notebooks/FQW/data/models/LSTM-Default_best.hdf5\n",
            "Epoch 2/50\n",
            "96/96 [==============================] - 15s 114ms/step - loss: 0.0803 - binary_accuracy: 0.7391 - auc_56: 0.6899 - precision_56: 0.7459 - recall_56: 0.9752 - val_loss: 0.0796 - val_binary_accuracy: 0.7441 - val_auc_56: 0.6921 - val_precision_56: 0.7592 - val_recall_56: 0.9549\n",
            "\n",
            "Epoch 00002: val_loss did not improve from 0.07845\n",
            "Epoch 3/50\n",
            "96/96 [==============================] - 14s 115ms/step - loss: 0.0801 - binary_accuracy: 0.7435 - auc_56: 0.6995 - precision_56: 0.7555 - recall_56: 0.9601 - val_loss: 0.0818 - val_binary_accuracy: 0.7502 - val_auc_56: 0.7006 - val_precision_56: 0.7606 - val_recall_56: 0.9654\n",
            "\n",
            "Epoch 00003: val_loss did not improve from 0.07845\n",
            "Epoch 4/50\n",
            "96/96 [==============================] - 15s 116ms/step - loss: 0.0794 - binary_accuracy: 0.7472 - auc_56: 0.7085 - precision_56: 0.7600 - recall_56: 0.9564 - val_loss: 0.0772 - val_binary_accuracy: 0.7505 - val_auc_56: 0.7142 - val_precision_56: 0.7624 - val_recall_56: 0.9581\n",
            "\n",
            "Epoch 00004: val_loss improved from 0.07845 to 0.07717, saving model to gdrive/MyDrive/Colab Notebooks/FQW/data/models/LSTM-Default_best.hdf5\n",
            "Epoch 5/50\n",
            "96/96 [==============================] - 15s 116ms/step - loss: 0.0778 - binary_accuracy: 0.7488 - auc_56: 0.7124 - precision_56: 0.7621 - recall_56: 0.9551 - val_loss: 0.0803 - val_binary_accuracy: 0.7503 - val_auc_56: 0.7172 - val_precision_56: 0.7632 - val_recall_56: 0.9575\n",
            "\n",
            "Epoch 00005: val_loss did not improve from 0.07717\n",
            "Epoch 6/50\n",
            "96/96 [==============================] - 15s 117ms/step - loss: 0.0777 - binary_accuracy: 0.7494 - auc_56: 0.7184 - precision_56: 0.7640 - recall_56: 0.9520 - val_loss: 0.0810 - val_binary_accuracy: 0.7471 - val_auc_56: 0.7178 - val_precision_56: 0.7605 - val_recall_56: 0.9548\n",
            "\n",
            "Epoch 00006: val_loss did not improve from 0.07717\n",
            "Epoch 7/50\n",
            "96/96 [==============================] - 15s 116ms/step - loss: 0.0765 - binary_accuracy: 0.7504 - auc_56: 0.7222 - precision_56: 0.7662 - recall_56: 0.9479 - val_loss: 0.0737 - val_binary_accuracy: 0.7509 - val_auc_56: 0.7295 - val_precision_56: 0.7639 - val_recall_56: 0.9524\n",
            "\n",
            "Epoch 00007: val_loss improved from 0.07717 to 0.07366, saving model to gdrive/MyDrive/Colab Notebooks/FQW/data/models/LSTM-Default_best.hdf5\n",
            "Epoch 8/50\n",
            "96/96 [==============================] - 15s 117ms/step - loss: 0.0742 - binary_accuracy: 0.7499 - auc_56: 0.7217 - precision_56: 0.7656 - recall_56: 0.9491 - val_loss: 0.0809 - val_binary_accuracy: 0.7520 - val_auc_56: 0.7233 - val_precision_56: 0.7667 - val_recall_56: 0.9523\n",
            "\n",
            "Epoch 00008: val_loss did not improve from 0.07366\n",
            "Epoch 9/50\n",
            "96/96 [==============================] - 14s 114ms/step - loss: 0.0764 - binary_accuracy: 0.7517 - auc_56: 0.7253 - precision_56: 0.7676 - recall_56: 0.9487 - val_loss: 0.0806 - val_binary_accuracy: 0.7538 - val_auc_56: 0.7264 - val_precision_56: 0.7695 - val_recall_56: 0.9494\n",
            "\n",
            "Epoch 00009: val_loss did not improve from 0.07366\n",
            "Epoch 10/50\n",
            "96/96 [==============================] - 14s 114ms/step - loss: 0.0775 - binary_accuracy: 0.7505 - auc_56: 0.7257 - precision_56: 0.7668 - recall_56: 0.9467 - val_loss: 0.0766 - val_binary_accuracy: 0.7516 - val_auc_56: 0.7278 - val_precision_56: 0.7679 - val_recall_56: 0.9480\n",
            "\n",
            "Epoch 00010: val_loss did not improve from 0.07366\n",
            "Epoch 11/50\n",
            "96/96 [==============================] - 14s 114ms/step - loss: 0.0754 - binary_accuracy: 0.7518 - auc_56: 0.7286 - precision_56: 0.7685 - recall_56: 0.9460 - val_loss: 0.0727 - val_binary_accuracy: 0.7531 - val_auc_56: 0.7336 - val_precision_56: 0.7666 - val_recall_56: 0.9520\n",
            "\n",
            "Epoch 00011: val_loss improved from 0.07366 to 0.07272, saving model to gdrive/MyDrive/Colab Notebooks/FQW/data/models/LSTM-Default_best.hdf5\n",
            "Epoch 12/50\n",
            "96/96 [==============================] - 14s 113ms/step - loss: 0.0773 - binary_accuracy: 0.7533 - auc_56: 0.7299 - precision_56: 0.7693 - recall_56: 0.9475 - val_loss: 0.0816 - val_binary_accuracy: 0.7528 - val_auc_56: 0.7264 - val_precision_56: 0.7654 - val_recall_56: 0.9567\n",
            "\n",
            "Epoch 00012: val_loss did not improve from 0.07272\n",
            "Epoch 13/50\n",
            "96/96 [==============================] - 14s 110ms/step - loss: 0.0787 - binary_accuracy: 0.7532 - auc_56: 0.7289 - precision_56: 0.7692 - recall_56: 0.9488 - val_loss: 0.0817 - val_binary_accuracy: 0.7515 - val_auc_56: 0.7285 - val_precision_56: 0.7719 - val_recall_56: 0.9371\n",
            "\n",
            "Epoch 00013: val_loss did not improve from 0.07272\n",
            "Epoch 14/50\n",
            "96/96 [==============================] - 14s 114ms/step - loss: 0.0766 - binary_accuracy: 0.7523 - auc_56: 0.7321 - precision_56: 0.7696 - recall_56: 0.9430 - val_loss: 0.0734 - val_binary_accuracy: 0.7544 - val_auc_56: 0.7400 - val_precision_56: 0.7649 - val_recall_56: 0.9580\n",
            "\n",
            "Epoch 00014: val_loss did not improve from 0.07272\n",
            "Epoch 15/50\n",
            "96/96 [==============================] - 14s 114ms/step - loss: 0.0761 - binary_accuracy: 0.7541 - auc_56: 0.7329 - precision_56: 0.7701 - recall_56: 0.9472 - val_loss: 0.0737 - val_binary_accuracy: 0.7555 - val_auc_56: 0.7338 - val_precision_56: 0.7713 - val_recall_56: 0.9477\n",
            "\n",
            "Epoch 00015: val_loss did not improve from 0.07272\n",
            "Epoch 16/50\n",
            "96/96 [==============================] - 14s 114ms/step - loss: 0.0774 - binary_accuracy: 0.7533 - auc_56: 0.7326 - precision_56: 0.7701 - recall_56: 0.9443 - val_loss: 0.0705 - val_binary_accuracy: 0.7545 - val_auc_56: 0.7379 - val_precision_56: 0.7725 - val_recall_56: 0.9416\n",
            "\n",
            "Epoch 00016: val_loss improved from 0.07272 to 0.07047, saving model to gdrive/MyDrive/Colab Notebooks/FQW/data/models/LSTM-Default_best.hdf5\n",
            "Epoch 17/50\n",
            "96/96 [==============================] - 14s 113ms/step - loss: 0.0765 - binary_accuracy: 0.7552 - auc_56: 0.7350 - precision_56: 0.7715 - recall_56: 0.9462 - val_loss: 0.0789 - val_binary_accuracy: 0.7556 - val_auc_56: 0.7378 - val_precision_56: 0.7756 - val_recall_56: 0.9385\n",
            "\n",
            "Epoch 00017: val_loss did not improve from 0.07047\n",
            "Epoch 18/50\n",
            "96/96 [==============================] - 14s 112ms/step - loss: 0.0772 - binary_accuracy: 0.7542 - auc_56: 0.7348 - precision_56: 0.7707 - recall_56: 0.9458 - val_loss: 0.0720 - val_binary_accuracy: 0.7581 - val_auc_56: 0.7406 - val_precision_56: 0.7785 - val_recall_56: 0.9366\n",
            "\n",
            "Epoch 00018: val_loss did not improve from 0.07047\n",
            "Epoch 19/50\n",
            "96/96 [==============================] - 14s 111ms/step - loss: 0.0776 - binary_accuracy: 0.7539 - auc_56: 0.7363 - precision_56: 0.7712 - recall_56: 0.9433 - val_loss: 0.0760 - val_binary_accuracy: 0.7609 - val_auc_56: 0.7428 - val_precision_56: 0.7759 - val_recall_56: 0.9496\n",
            "\n",
            "Epoch 00019: val_loss did not improve from 0.07047\n",
            "Epoch 20/50\n",
            "96/96 [==============================] - 14s 109ms/step - loss: 0.0767 - binary_accuracy: 0.7554 - auc_56: 0.7365 - precision_56: 0.7724 - recall_56: 0.9448 - val_loss: 0.0809 - val_binary_accuracy: 0.7591 - val_auc_56: 0.7448 - val_precision_56: 0.7749 - val_recall_56: 0.9481\n",
            "\n",
            "Epoch 00020: val_loss did not improve from 0.07047\n",
            "Epoch 21/50\n",
            "96/96 [==============================] - 14s 111ms/step - loss: 0.0773 - binary_accuracy: 0.7548 - auc_56: 0.7396 - precision_56: 0.7720 - recall_56: 0.9427 - val_loss: 0.0695 - val_binary_accuracy: 0.7626 - val_auc_56: 0.7427 - val_precision_56: 0.7806 - val_recall_56: 0.9455\n",
            "\n",
            "Epoch 00021: val_loss improved from 0.07047 to 0.06952, saving model to gdrive/MyDrive/Colab Notebooks/FQW/data/models/LSTM-Default_best.hdf5\n",
            "Epoch 22/50\n",
            "96/96 [==============================] - 14s 113ms/step - loss: 0.0751 - binary_accuracy: 0.7568 - auc_56: 0.7426 - precision_56: 0.7739 - recall_56: 0.9430 - val_loss: 0.0750 - val_binary_accuracy: 0.7617 - val_auc_56: 0.7467 - val_precision_56: 0.7786 - val_recall_56: 0.9446\n",
            "\n",
            "Epoch 00022: val_loss did not improve from 0.06952\n",
            "Epoch 23/50\n",
            "96/96 [==============================] - 14s 114ms/step - loss: 0.0726 - binary_accuracy: 0.7592 - auc_56: 0.7447 - precision_56: 0.7766 - recall_56: 0.9427 - val_loss: 0.0760 - val_binary_accuracy: 0.7578 - val_auc_56: 0.7439 - val_precision_56: 0.7737 - val_recall_56: 0.9456\n",
            "\n",
            "Epoch 00023: val_loss did not improve from 0.06952\n",
            "Epoch 24/50\n",
            "96/96 [==============================] - 14s 112ms/step - loss: 0.0751 - binary_accuracy: 0.7573 - auc_56: 0.7437 - precision_56: 0.7750 - recall_56: 0.9412 - val_loss: 0.0795 - val_binary_accuracy: 0.7591 - val_auc_56: 0.7495 - val_precision_56: 0.7750 - val_recall_56: 0.9457\n",
            "\n",
            "Epoch 00024: val_loss did not improve from 0.06952\n",
            "Epoch 25/50\n",
            "96/96 [==============================] - 14s 114ms/step - loss: 0.0749 - binary_accuracy: 0.7588 - auc_56: 0.7462 - precision_56: 0.7765 - recall_56: 0.9418 - val_loss: 0.0715 - val_binary_accuracy: 0.7595 - val_auc_56: 0.7512 - val_precision_56: 0.7752 - val_recall_56: 0.9445\n",
            "\n",
            "Epoch 00025: val_loss did not improve from 0.06952\n",
            "Epoch 26/50\n",
            "96/96 [==============================] - 14s 111ms/step - loss: 0.0747 - binary_accuracy: 0.7610 - auc_56: 0.7492 - precision_56: 0.7788 - recall_56: 0.9418 - val_loss: 0.0775 - val_binary_accuracy: 0.7631 - val_auc_56: 0.7548 - val_precision_56: 0.7793 - val_recall_56: 0.9443\n",
            "\n",
            "Epoch 00026: val_loss did not improve from 0.06952\n",
            "Epoch 27/50\n",
            "96/96 [==============================] - 14s 112ms/step - loss: 0.0753 - binary_accuracy: 0.7603 - auc_56: 0.7501 - precision_56: 0.7781 - recall_56: 0.9411 - val_loss: 0.0769 - val_binary_accuracy: 0.7653 - val_auc_56: 0.7615 - val_precision_56: 0.7816 - val_recall_56: 0.9437\n",
            "\n",
            "Epoch 00027: val_loss did not improve from 0.06952\n",
            "Epoch 28/50\n",
            "96/96 [==============================] - 14s 112ms/step - loss: 0.0741 - binary_accuracy: 0.7621 - auc_56: 0.7535 - precision_56: 0.7803 - recall_56: 0.9403 - val_loss: 0.0744 - val_binary_accuracy: 0.7603 - val_auc_56: 0.7603 - val_precision_56: 0.7767 - val_recall_56: 0.9392\n",
            "\n",
            "Epoch 00028: val_loss did not improve from 0.06952\n",
            "Epoch 29/50\n",
            "96/96 [==============================] - 14s 114ms/step - loss: 0.0721 - binary_accuracy: 0.7616 - auc_56: 0.7560 - precision_56: 0.7800 - recall_56: 0.9390 - val_loss: 0.0717 - val_binary_accuracy: 0.7631 - val_auc_56: 0.7597 - val_precision_56: 0.7796 - val_recall_56: 0.9417\n",
            "\n",
            "Epoch 00029: val_loss did not improve from 0.06952\n",
            "Epoch 30/50\n",
            "96/96 [==============================] - 14s 114ms/step - loss: 0.0726 - binary_accuracy: 0.7643 - auc_56: 0.7590 - precision_56: 0.7822 - recall_56: 0.9401 - val_loss: 0.0702 - val_binary_accuracy: 0.7640 - val_auc_56: 0.7654 - val_precision_56: 0.7860 - val_recall_56: 0.9301\n",
            "\n",
            "Epoch 00030: val_loss did not improve from 0.06952\n",
            "Epoch 31/50\n",
            "96/96 [==============================] - 14s 114ms/step - loss: 0.0733 - binary_accuracy: 0.7643 - auc_56: 0.7602 - precision_56: 0.7828 - recall_56: 0.9381 - val_loss: 0.0728 - val_binary_accuracy: 0.7660 - val_auc_56: 0.7704 - val_precision_56: 0.7874 - val_recall_56: 0.9301\n",
            "\n",
            "Epoch 00031: val_loss did not improve from 0.06952\n",
            "Epoch 32/50\n",
            "96/96 [==============================] - 14s 111ms/step - loss: 0.0759 - binary_accuracy: 0.7657 - auc_56: 0.7639 - precision_56: 0.7843 - recall_56: 0.9380 - val_loss: 0.0770 - val_binary_accuracy: 0.7723 - val_auc_56: 0.7763 - val_precision_56: 0.7917 - val_recall_56: 0.9362\n",
            "\n",
            "Epoch 00032: val_loss did not improve from 0.06952\n",
            "Epoch 33/50\n",
            "96/96 [==============================] - 15s 119ms/step - loss: 0.0737 - binary_accuracy: 0.7663 - auc_56: 0.7670 - precision_56: 0.7848 - recall_56: 0.9378 - val_loss: 0.0658 - val_binary_accuracy: 0.7651 - val_auc_56: 0.7762 - val_precision_56: 0.7871 - val_recall_56: 0.9260\n",
            "\n",
            "Epoch 00033: val_loss improved from 0.06952 to 0.06578, saving model to gdrive/MyDrive/Colab Notebooks/FQW/data/models/LSTM-Default_best.hdf5\n",
            "Epoch 34/50\n",
            "96/96 [==============================] - 15s 116ms/step - loss: 0.0715 - binary_accuracy: 0.7695 - auc_56: 0.7716 - precision_56: 0.7886 - recall_56: 0.9364 - val_loss: 0.0743 - val_binary_accuracy: 0.7701 - val_auc_56: 0.7823 - val_precision_56: 0.7883 - val_recall_56: 0.9338\n",
            "\n",
            "Epoch 00034: val_loss did not improve from 0.06578\n",
            "Epoch 35/50\n",
            "96/96 [==============================] - 14s 113ms/step - loss: 0.0715 - binary_accuracy: 0.7713 - auc_56: 0.7762 - precision_56: 0.7902 - recall_56: 0.9358 - val_loss: 0.0687 - val_binary_accuracy: 0.7755 - val_auc_56: 0.7888 - val_precision_56: 0.7895 - val_recall_56: 0.9451\n",
            "\n",
            "Epoch 00035: val_loss did not improve from 0.06578\n",
            "Epoch 36/50\n",
            "96/96 [==============================] - 14s 111ms/step - loss: 0.0726 - binary_accuracy: 0.7732 - auc_56: 0.7800 - precision_56: 0.7922 - recall_56: 0.9360 - val_loss: 0.0676 - val_binary_accuracy: 0.7753 - val_auc_56: 0.7900 - val_precision_56: 0.7927 - val_recall_56: 0.9374\n",
            "\n",
            "Epoch 00036: val_loss did not improve from 0.06578\n",
            "Epoch 37/50\n",
            "96/96 [==============================] - 15s 115ms/step - loss: 0.0692 - binary_accuracy: 0.7738 - auc_56: 0.7840 - precision_56: 0.7936 - recall_56: 0.9331 - val_loss: 0.0679 - val_binary_accuracy: 0.7803 - val_auc_56: 0.7977 - val_precision_56: 0.7957 - val_recall_56: 0.9401\n",
            "\n",
            "Epoch 00037: val_loss did not improve from 0.06578\n",
            "Epoch 38/50\n",
            "96/96 [==============================] - 14s 113ms/step - loss: 0.0699 - binary_accuracy: 0.7777 - auc_56: 0.7909 - precision_56: 0.7975 - recall_56: 0.9330 - val_loss: 0.0663 - val_binary_accuracy: 0.7838 - val_auc_56: 0.8003 - val_precision_56: 0.8027 - val_recall_56: 0.9364\n",
            "\n",
            "Epoch 00038: val_loss did not improve from 0.06578\n",
            "Epoch 39/50\n",
            "96/96 [==============================] - 15s 120ms/step - loss: 0.0691 - binary_accuracy: 0.7793 - auc_56: 0.7921 - precision_56: 0.7991 - recall_56: 0.9336 - val_loss: 0.0676 - val_binary_accuracy: 0.7844 - val_auc_56: 0.8054 - val_precision_56: 0.8036 - val_recall_56: 0.9336\n",
            "\n",
            "Epoch 00039: val_loss did not improve from 0.06578\n",
            "Epoch 40/50\n",
            "96/96 [==============================] - 15s 119ms/step - loss: 0.0655 - binary_accuracy: 0.7826 - auc_56: 0.8003 - precision_56: 0.8024 - recall_56: 0.9329 - val_loss: 0.0702 - val_binary_accuracy: 0.7877 - val_auc_56: 0.8120 - val_precision_56: 0.8092 - val_recall_56: 0.9287\n",
            "\n",
            "Epoch 00040: val_loss did not improve from 0.06578\n",
            "Epoch 41/50\n",
            "96/96 [==============================] - 15s 118ms/step - loss: 0.0678 - binary_accuracy: 0.7842 - auc_56: 0.8039 - precision_56: 0.8043 - recall_56: 0.9317 - val_loss: 0.0625 - val_binary_accuracy: 0.7866 - val_auc_56: 0.8137 - val_precision_56: 0.8064 - val_recall_56: 0.9309\n",
            "\n",
            "Epoch 00041: val_loss improved from 0.06578 to 0.06254, saving model to gdrive/MyDrive/Colab Notebooks/FQW/data/models/LSTM-Default_best.hdf5\n",
            "Epoch 42/50\n",
            "96/96 [==============================] - 14s 115ms/step - loss: 0.0672 - binary_accuracy: 0.7880 - auc_56: 0.8083 - precision_56: 0.8079 - recall_56: 0.9332 - val_loss: 0.0712 - val_binary_accuracy: 0.7944 - val_auc_56: 0.8205 - val_precision_56: 0.8123 - val_recall_56: 0.9355\n",
            "\n",
            "Epoch 00042: val_loss did not improve from 0.06254\n",
            "Epoch 43/50\n",
            "96/96 [==============================] - 15s 116ms/step - loss: 0.0655 - binary_accuracy: 0.7883 - auc_56: 0.8128 - precision_56: 0.8086 - recall_56: 0.9304 - val_loss: 0.0720 - val_binary_accuracy: 0.7974 - val_auc_56: 0.8253 - val_precision_56: 0.8216 - val_recall_56: 0.9248\n",
            "\n",
            "Epoch 00043: val_loss did not improve from 0.06254\n",
            "Epoch 44/50\n",
            "96/96 [==============================] - 14s 114ms/step - loss: 0.0671 - binary_accuracy: 0.7925 - auc_56: 0.8169 - precision_56: 0.8127 - recall_56: 0.9320 - val_loss: 0.0597 - val_binary_accuracy: 0.7943 - val_auc_56: 0.8285 - val_precision_56: 0.8076 - val_recall_56: 0.9410\n",
            "\n",
            "Epoch 00044: val_loss improved from 0.06254 to 0.05972, saving model to gdrive/MyDrive/Colab Notebooks/FQW/data/models/LSTM-Default_best.hdf5\n",
            "Epoch 45/50\n",
            "96/96 [==============================] - 14s 115ms/step - loss: 0.0645 - binary_accuracy: 0.7953 - auc_56: 0.8233 - precision_56: 0.8152 - recall_56: 0.9318 - val_loss: 0.0629 - val_binary_accuracy: 0.7986 - val_auc_56: 0.8345 - val_precision_56: 0.8170 - val_recall_56: 0.9309\n",
            "\n",
            "Epoch 00045: val_loss did not improve from 0.05972\n",
            "Epoch 46/50\n",
            "96/96 [==============================] - 14s 113ms/step - loss: 0.0658 - binary_accuracy: 0.7978 - auc_56: 0.8282 - precision_56: 0.8179 - recall_56: 0.9309 - val_loss: 0.0662 - val_binary_accuracy: 0.8015 - val_auc_56: 0.8364 - val_precision_56: 0.8196 - val_recall_56: 0.9338\n",
            "\n",
            "Epoch 00046: val_loss did not improve from 0.05972\n",
            "Epoch 47/50\n",
            "96/96 [==============================] - 15s 123ms/step - loss: 0.0632 - binary_accuracy: 0.8012 - auc_56: 0.8348 - precision_56: 0.8216 - recall_56: 0.9308 - val_loss: 0.0604 - val_binary_accuracy: 0.8077 - val_auc_56: 0.8444 - val_precision_56: 0.8277 - val_recall_56: 0.9321\n",
            "\n",
            "Epoch 00047: val_loss did not improve from 0.05972\n",
            "Epoch 48/50\n",
            "96/96 [==============================] - 14s 114ms/step - loss: 0.0639 - binary_accuracy: 0.8022 - auc_56: 0.8364 - precision_56: 0.8231 - recall_56: 0.9291 - val_loss: 0.0572 - val_binary_accuracy: 0.8096 - val_auc_56: 0.8482 - val_precision_56: 0.8299 - val_recall_56: 0.9302\n",
            "\n",
            "Epoch 00048: val_loss improved from 0.05972 to 0.05717, saving model to gdrive/MyDrive/Colab Notebooks/FQW/data/models/LSTM-Default_best.hdf5\n",
            "Epoch 49/50\n",
            "96/96 [==============================] - 15s 125ms/step - loss: 0.0614 - binary_accuracy: 0.8080 - auc_56: 0.8438 - precision_56: 0.8277 - recall_56: 0.9321 - val_loss: 0.0582 - val_binary_accuracy: 0.8178 - val_auc_56: 0.8598 - val_precision_56: 0.8374 - val_recall_56: 0.9316\n",
            "\n",
            "Epoch 00049: val_loss did not improve from 0.05717\n",
            "Epoch 50/50\n",
            "96/96 [==============================] - 14s 113ms/step - loss: 0.0615 - binary_accuracy: 0.8108 - auc_56: 0.8486 - precision_56: 0.8309 - recall_56: 0.9314 - val_loss: 0.0598 - val_binary_accuracy: 0.8154 - val_auc_56: 0.8580 - val_precision_56: 0.8353 - val_recall_56: 0.9325\n",
            "\n",
            "Epoch 00050: val_loss did not improve from 0.05717\n"
          ],
          "name": "stdout"
        }
      ]
    },
    {
      "cell_type": "code",
      "metadata": {
        "id": "3dXOJt_Wh1Rp"
      },
      "source": [
        "filename = os.path.join(HISTORY_PATH, 'LSTM-Default.csv')\n",
        "# with open(filename, 'wb') as file_pi:\n",
        "#   pickle.dump(add_history.history, file_pi)\n",
        "\n",
        "history_df = pd.DataFrame(history.history)\n",
        "history_df.to_csv(filename)"
      ],
      "execution_count": null,
      "outputs": []
    },
    {
      "cell_type": "code",
      "metadata": {
        "id": "oXiJ5PXTVfWx",
        "colab": {
          "base_uri": "https://localhost:8080/",
          "height": 295
        },
        "outputId": "75b51627-9fc2-4555-de66-2198db1a604d"
      },
      "source": [
        "# Используем cross features\n",
        "import matplotlib.pyplot as plt\n",
        "\n",
        "default_loss = d_history.history['loss']\n",
        "default_val_loss = d_history.history['val_loss']\n",
        "epochs = np.arange(len(default_loss))\n",
        "plt.plot(epochs, default_loss, label = 'loss')\n",
        "plt.plot(epochs, default_val_loss, label = 'validation loss')\n",
        "plt.title('Model with default features')\n",
        "plt.xlabel('Epochs')\n",
        "plt.ylabel('Loss value')\n",
        "plt.legend()\n",
        "plt.grid()\n",
        "plt.show()"
      ],
      "execution_count": null,
      "outputs": [
        {
          "output_type": "display_data",
          "data": {
            "image/png": "[encoded data removed]",
            "text/plain": [
              "<Figure size 432x288 with 1 Axes>"
            ]
          },
          "metadata": {
            "tags": [],
            "needs_background": "light"
          }
        }
      ]
    },
    {
      "cell_type": "code",
      "metadata": {
        "colab": {
          "base_uri": "https://localhost:8080/"
        },
        "id": "s4QrUVY4p_YU",
        "outputId": "7117df97-b818-4193-f25b-573d176fff09"
      },
      "source": [
        "import h5py\n",
        "with h5py.File(os.path.join(MODELS_PATH, model_name +'_best.hdf5'),'r') as f:\n",
        "  d_best_model = tf.keras.models.load_model(f, compile=False)\n",
        "\n",
        "\n",
        "d_best_model.compile(\n",
        "        loss = custom_loss,\n",
        "        optimizer='adam',\n",
        "        metrics=[\n",
        "            BinaryAccuracy(),\n",
        "            AUC(),\n",
        "            Precision(),\n",
        "            Recall()\n",
        "        ])\n",
        "\n",
        "\n",
        "\n",
        "\n",
        "default_result = d_model.evaluate(d_test_set, verbose=1)\n",
        "d_best_result = d_best_model.evaluate(d_test_set, verbose=1)\n",
        "\n",
        "# 31/31 [==============================] - 4s 47ms/step - loss: 0.0603 - binary_accuracy: 0.8132 - auc_23: 0.8537 - precision_23: 0.8295 - recall_23: 0.9371\n",
        "# 31/31 [==============================] - 7s 45ms/step - loss: 0.0606 - binary_accuracy: 0.8098 - auc_25: 0.8507 - precision_25: 0.8278 - recall_25: 0.9347"
      ],
      "execution_count": null,
      "outputs": [
        {
          "output_type": "stream",
          "text": [
            "31/31 [==============================] - 4s 45ms/step - loss: 0.0584 - binary_accuracy: 0.8188 - auc_56: 0.8611 - precision_56: 0.8370 - recall_56: 0.9362\n",
            "31/31 [==============================] - 6s 46ms/step - loss: 0.0638 - binary_accuracy: 0.8118 - auc_57: 0.8500 - precision_57: 0.8309 - recall_57: 0.9331\n"
          ],
          "name": "stdout"
        }
      ]
    },
    {
      "cell_type": "markdown",
      "metadata": {
        "id": "KhHDLltaVfWy"
      },
      "source": [
        "# Embedding признаки"
      ]
    },
    {
      "cell_type": "code",
      "metadata": {
        "id": "MXEA9-2026CO"
      },
      "source": [
        "from collections import OrderedDict\n",
        "\n",
        "word2vec, df, skill_with_answer = get_word2vec(ASSISTMENT_2015_PATH, embedding_size = 100) # TODO: Try features from EERN"
      ],
      "execution_count": null,
      "outputs": []
    },
    {
      "cell_type": "code",
      "metadata": {
        "id": "Pa6pG0Qz26CQ"
      },
      "source": [
        "e_dataset, e_features_depth, e_skill_depth, e_users = get_embedding_features(df, word2vec)\n",
        "e_dataset, e_length = get_embedding_dataset(e_dataset, e_features_depth, e_skill_depth, e_users, batch_size = 128)"
      ],
      "execution_count": null,
      "outputs": []
    },
    {
      "cell_type": "code",
      "metadata": {
        "id": "Q5Gm6XNVVfWy"
      },
      "source": [
        "# e_dataset, e_length, e_features_depth, e_skill_depth = get_dataset(ASSISTMENT_2015_PATH, batch_size = 128,\n",
        "#                                                            features_func=get_embedding_features)"
      ],
      "execution_count": null,
      "outputs": []
    },
    {
      "cell_type": "code",
      "metadata": {
        "id": "-G6n9btmVfWy",
        "colab": {
          "base_uri": "https://localhost:8080/"
        },
        "outputId": "0cf391d1-06c7-47be-ddff-437cd38be050"
      },
      "source": [
        "e_length, e_features_depth, e_skill_depth"
      ],
      "execution_count": null,
      "outputs": [
        {
          "output_type": "execute_result",
          "data": {
            "text/plain": [
              "(151, 100, 100)"
            ]
          },
          "metadata": {
            "tags": []
          },
          "execution_count": 51
        }
      ]
    },
    {
      "cell_type": "code",
      "metadata": {
        "id": "iqjgg2LbVfWz"
      },
      "source": [
        "e_train_set, e_test_set, e_val_set = split_dataset(e_dataset, e_length, 0.2, 0.2)"
      ],
      "execution_count": null,
      "outputs": []
    },
    {
      "cell_type": "code",
      "metadata": {
        "scrolled": true,
        "id": "3q4oV0sHVfWy",
        "colab": {
          "base_uri": "https://localhost:8080/"
        },
        "outputId": "aa63ee1c-e85e-4981-bb5a-0e8c6243251f"
      },
      "source": [
        "from tensorflow.keras import models, layers\n",
        "from tensorflow.keras.models import Sequential\n",
        "from tensorflow.keras.layers import Masking, LSTM, TimeDistributed, Dense\n",
        "\n",
        "e_model = tf.keras.models.Sequential(name = 'LSTM-Default')\n",
        "\n",
        "e_model.add(Masking(mask_value = -1., input_shape = (None, e_features_depth), name = 'masking'))\n",
        "e_model.add(LSTM(200, return_sequences = True, name = 'lstm_1'))\n",
        "e_model.add(LSTM(200, return_sequences = True, name = 'lstm_2'))\n",
        "e_model.add(TimeDistributed(Dense(200, activation = 'relu', name = 'dense_1')))\n",
        "e_model.add(TimeDistributed(Dense(200, activation = 'relu', name = 'dense_2')))\n",
        "e_model.add(TimeDistributed(Dense(200, activation = 'relu', name = 'dense_3')))\n",
        "e_model.add(TimeDistributed(Dense(e_skill_depth, activation = 'sigmoid', name = 'dense')))\n",
        "\n",
        "\n",
        "# Не забыть поменять custom_loss\n",
        "e_model.compile(\n",
        "        loss = custom_loss,\n",
        "        optimizer='adam',\n",
        "        metrics=[\n",
        "            BinaryAccuracy(),\n",
        "            AUC(),\n",
        "            Precision(),\n",
        "            Recall()\n",
        "        ])\n",
        "\n",
        "e_model.summary()"
      ],
      "execution_count": null,
      "outputs": [
        {
          "output_type": "stream",
          "text": [
            "Model: \"LSTM-Default\"\n",
            "_________________________________________________________________\n",
            "Layer (type)                 Output Shape              Param #   \n",
            "=================================================================\n",
            "masking (Masking)            (None, None, 100)         0         \n",
            "_________________________________________________________________\n",
            "lstm_1 (LSTM)                (None, None, 200)         240800    \n",
            "_________________________________________________________________\n",
            "lstm_2 (LSTM)                (None, None, 200)         320800    \n",
            "_________________________________________________________________\n",
            "time_distributed_4 (TimeDist (None, None, 200)         40200     \n",
            "_________________________________________________________________\n",
            "time_distributed_5 (TimeDist (None, None, 200)         40200     \n",
            "_________________________________________________________________\n",
            "time_distributed_6 (TimeDist (None, None, 200)         40200     \n",
            "_________________________________________________________________\n",
            "time_distributed_7 (TimeDist (None, None, 100)         20100     \n",
            "=================================================================\n",
            "Total params: 702,300\n",
            "Trainable params: 702,300\n",
            "Non-trainable params: 0\n",
            "_________________________________________________________________\n"
          ],
          "name": "stdout"
        }
      ]
    },
    {
      "cell_type": "code",
      "metadata": {
        "scrolled": true,
        "id": "dXxOGLiZVfWz",
        "colab": {
          "base_uri": "https://localhost:8080/"
        },
        "outputId": "23799291-7d0d-4ead-d1fd-75c4a38d605e"
      },
      "source": [
        "import tensorflow as tf\n",
        "\n",
        "model_name = e_model.name\n",
        "\n",
        "best_w = tf.keras.callbacks.ModelCheckpoint(os.path.join(MODELS_PATH, model_name + '_best.hdf5'),\n",
        "                                monitor='val_loss',\n",
        "                                verbose=1,\n",
        "                                save_best_only=True,\n",
        "                                save_weights_only=False,\n",
        "                                mode='auto'\n",
        "                                # save_freq = 1_000\n",
        "                                )\n",
        " \n",
        "last_w = tf.keras.callbacks.ModelCheckpoint(os.path.join(MODELS_PATH, model_name + '_last.hdf5'),\n",
        "                                monitor='val_loss',\n",
        "                                verbose=0,\n",
        "                                save_best_only=False,\n",
        "                                save_weights_only=False,\n",
        "                                mode='auto'\n",
        "                                # save_freq = 1_000\n",
        "                                )\n",
        " \n",
        "# early_stopping = tf.keras.callbacks.EarlyStopping(monitor='loss', patience=5)\n",
        " \n",
        "callbacks = [best_w, last_w]\n",
        "\n",
        "\n",
        "\n",
        "e_history = e_model.fit(e_train_set,\n",
        "                    epochs = 50,\n",
        "                    verbose = 1,\n",
        "                    validation_data=e_val_set)"
      ],
      "execution_count": null,
      "outputs": [
        {
          "output_type": "stream",
          "text": [
            "Epoch 1/50\n",
            "96/96 [==============================] - 22s 136ms/step - loss: 0.0840 - binary_accuracy: 0.7205 - auc_1: 0.5861 - precision_1: 0.7344 - recall_1: 0.9680 - val_loss: 0.0813 - val_binary_accuracy: 0.7380 - val_auc_1: 0.6358 - val_precision_1: 0.7384 - val_recall_1: 0.9986\n",
            "Epoch 2/50\n",
            "96/96 [==============================] - 15s 123ms/step - loss: 0.0838 - binary_accuracy: 0.7304 - auc_1: 0.6330 - precision_1: 0.7310 - recall_1: 0.9982 - val_loss: 0.0834 - val_binary_accuracy: 0.7351 - val_auc_1: 0.6357 - val_precision_1: 0.7354 - val_recall_1: 0.9992\n",
            "Epoch 3/50\n",
            "96/96 [==============================] - 13s 110ms/step - loss: 0.0843 - binary_accuracy: 0.7311 - auc_1: 0.6348 - precision_1: 0.7322 - recall_1: 0.9967 - val_loss: 0.0861 - val_binary_accuracy: 0.7381 - val_auc_1: 0.6402 - val_precision_1: 0.7408 - val_recall_1: 0.9922\n",
            "Epoch 4/50\n",
            "96/96 [==============================] - 13s 107ms/step - loss: 0.0843 - binary_accuracy: 0.7313 - auc_1: 0.6386 - precision_1: 0.7325 - recall_1: 0.9963 - val_loss: 0.0822 - val_binary_accuracy: 0.7327 - val_auc_1: 0.6391 - val_precision_1: 0.7327 - val_recall_1: 1.0000\n",
            "Epoch 5/50\n",
            "96/96 [==============================] - 13s 109ms/step - loss: 0.0827 - binary_accuracy: 0.7320 - auc_1: 0.6431 - precision_1: 0.7321 - recall_1: 0.9998 - val_loss: 0.0853 - val_binary_accuracy: 0.7355 - val_auc_1: 0.6511 - val_precision_1: 0.7355 - val_recall_1: 1.0000\n",
            "Epoch 6/50\n",
            "96/96 [==============================] - 13s 108ms/step - loss: 0.0822 - binary_accuracy: 0.7329 - auc_1: 0.6579 - precision_1: 0.7342 - recall_1: 0.9958 - val_loss: 0.0855 - val_binary_accuracy: 0.7325 - val_auc_1: 0.6593 - val_precision_1: 0.7339 - val_recall_1: 0.9947\n",
            "Epoch 7/50\n",
            "96/96 [==============================] - 13s 108ms/step - loss: 0.0806 - binary_accuracy: 0.7359 - auc_1: 0.6693 - precision_1: 0.7407 - recall_1: 0.9831 - val_loss: 0.0777 - val_binary_accuracy: 0.7376 - val_auc_1: 0.6794 - val_precision_1: 0.7470 - val_recall_1: 0.9675\n",
            "Epoch 8/50\n",
            "96/96 [==============================] - 14s 112ms/step - loss: 0.0776 - binary_accuracy: 0.7396 - auc_1: 0.6760 - precision_1: 0.7474 - recall_1: 0.9735 - val_loss: 0.0844 - val_binary_accuracy: 0.7426 - val_auc_1: 0.6814 - val_precision_1: 0.7522 - val_recall_1: 0.9689\n",
            "Epoch 9/50\n",
            "96/96 [==============================] - 13s 108ms/step - loss: 0.0795 - binary_accuracy: 0.7425 - auc_1: 0.6857 - precision_1: 0.7537 - recall_1: 0.9638 - val_loss: 0.0838 - val_binary_accuracy: 0.7441 - val_auc_1: 0.6901 - val_precision_1: 0.7577 - val_recall_1: 0.9580\n",
            "Epoch 10/50\n",
            "96/96 [==============================] - 13s 109ms/step - loss: 0.0806 - binary_accuracy: 0.7418 - auc_1: 0.6888 - precision_1: 0.7539 - recall_1: 0.9604 - val_loss: 0.0795 - val_binary_accuracy: 0.7434 - val_auc_1: 0.6911 - val_precision_1: 0.7592 - val_recall_1: 0.9526\n",
            "Epoch 11/50\n",
            "96/96 [==============================] - 14s 111ms/step - loss: 0.0784 - binary_accuracy: 0.7434 - auc_1: 0.6929 - precision_1: 0.7555 - recall_1: 0.9604 - val_loss: 0.0757 - val_binary_accuracy: 0.7446 - val_auc_1: 0.6976 - val_precision_1: 0.7554 - val_recall_1: 0.9619\n",
            "Epoch 12/50\n",
            "96/96 [==============================] - 13s 109ms/step - loss: 0.0804 - binary_accuracy: 0.7436 - auc_1: 0.6941 - precision_1: 0.7557 - recall_1: 0.9607 - val_loss: 0.0846 - val_binary_accuracy: 0.7437 - val_auc_1: 0.6906 - val_precision_1: 0.7512 - val_recall_1: 0.9734\n",
            "Epoch 13/50\n",
            "96/96 [==============================] - 13s 107ms/step - loss: 0.0817 - binary_accuracy: 0.7453 - auc_1: 0.6946 - precision_1: 0.7570 - recall_1: 0.9622 - val_loss: 0.0852 - val_binary_accuracy: 0.7417 - val_auc_1: 0.6918 - val_precision_1: 0.7575 - val_recall_1: 0.9514\n",
            "Epoch 14/50\n",
            "96/96 [==============================] - 13s 107ms/step - loss: 0.0796 - binary_accuracy: 0.7431 - auc_1: 0.6986 - precision_1: 0.7560 - recall_1: 0.9572 - val_loss: 0.0763 - val_binary_accuracy: 0.7459 - val_auc_1: 0.7083 - val_precision_1: 0.7547 - val_recall_1: 0.9661\n",
            "Epoch 15/50\n",
            "96/96 [==============================] - 13s 108ms/step - loss: 0.0789 - binary_accuracy: 0.7457 - auc_1: 0.7009 - precision_1: 0.7578 - recall_1: 0.9596 - val_loss: 0.0764 - val_binary_accuracy: 0.7475 - val_auc_1: 0.7026 - val_precision_1: 0.7566 - val_recall_1: 0.9668\n",
            "Epoch 16/50\n",
            "96/96 [==============================] - 13s 109ms/step - loss: 0.0802 - binary_accuracy: 0.7446 - auc_1: 0.7018 - precision_1: 0.7574 - recall_1: 0.9571 - val_loss: 0.0735 - val_binary_accuracy: 0.7443 - val_auc_1: 0.7061 - val_precision_1: 0.7697 - val_recall_1: 0.9280\n",
            "Epoch 17/50\n",
            "96/96 [==============================] - 13s 107ms/step - loss: 0.0793 - binary_accuracy: 0.7463 - auc_1: 0.7044 - precision_1: 0.7593 - recall_1: 0.9571 - val_loss: 0.0820 - val_binary_accuracy: 0.7485 - val_auc_1: 0.7058 - val_precision_1: 0.7627 - val_recall_1: 0.9543\n",
            "Epoch 18/50\n",
            "96/96 [==============================] - 13s 106ms/step - loss: 0.0800 - binary_accuracy: 0.7459 - auc_1: 0.7045 - precision_1: 0.7586 - recall_1: 0.9579 - val_loss: 0.0752 - val_binary_accuracy: 0.7485 - val_auc_1: 0.7049 - val_precision_1: 0.7676 - val_recall_1: 0.9424\n",
            "Epoch 19/50\n",
            "96/96 [==============================] - 13s 109ms/step - loss: 0.0805 - binary_accuracy: 0.7450 - auc_1: 0.7053 - precision_1: 0.7581 - recall_1: 0.9564 - val_loss: 0.0791 - val_binary_accuracy: 0.7507 - val_auc_1: 0.7090 - val_precision_1: 0.7635 - val_recall_1: 0.9584\n",
            "Epoch 20/50\n",
            "96/96 [==============================] - 13s 109ms/step - loss: 0.0795 - binary_accuracy: 0.7474 - auc_1: 0.7071 - precision_1: 0.7606 - recall_1: 0.9564 - val_loss: 0.0840 - val_binary_accuracy: 0.7512 - val_auc_1: 0.7151 - val_precision_1: 0.7640 - val_recall_1: 0.9576\n",
            "Epoch 21/50\n",
            "96/96 [==============================] - 14s 112ms/step - loss: 0.0803 - binary_accuracy: 0.7457 - auc_1: 0.7083 - precision_1: 0.7593 - recall_1: 0.9545 - val_loss: 0.0723 - val_binary_accuracy: 0.7538 - val_auc_1: 0.7098 - val_precision_1: 0.7651 - val_recall_1: 0.9636\n",
            "Epoch 22/50\n",
            "96/96 [==============================] - 14s 113ms/step - loss: 0.0780 - binary_accuracy: 0.7474 - auc_1: 0.7115 - precision_1: 0.7609 - recall_1: 0.9544 - val_loss: 0.0782 - val_binary_accuracy: 0.7501 - val_auc_1: 0.7139 - val_precision_1: 0.7656 - val_recall_1: 0.9516\n",
            "Epoch 23/50\n",
            "96/96 [==============================] - 14s 114ms/step - loss: 0.0756 - binary_accuracy: 0.7492 - auc_1: 0.7126 - precision_1: 0.7631 - recall_1: 0.9539 - val_loss: 0.0795 - val_binary_accuracy: 0.7457 - val_auc_1: 0.7096 - val_precision_1: 0.7539 - val_recall_1: 0.9688\n",
            "Epoch 24/50\n",
            "96/96 [==============================] - 14s 111ms/step - loss: 0.0782 - binary_accuracy: 0.7468 - auc_1: 0.7109 - precision_1: 0.7608 - recall_1: 0.9534 - val_loss: 0.0832 - val_binary_accuracy: 0.7464 - val_auc_1: 0.7151 - val_precision_1: 0.7602 - val_recall_1: 0.9551\n",
            "Epoch 25/50\n",
            "96/96 [==============================] - 14s 113ms/step - loss: 0.0781 - binary_accuracy: 0.7476 - auc_1: 0.7128 - precision_1: 0.7622 - recall_1: 0.9526 - val_loss: 0.0750 - val_binary_accuracy: 0.7472 - val_auc_1: 0.7150 - val_precision_1: 0.7630 - val_recall_1: 0.9482\n",
            "Epoch 26/50\n",
            "96/96 [==============================] - 14s 111ms/step - loss: 0.0780 - binary_accuracy: 0.7500 - auc_1: 0.7158 - precision_1: 0.7648 - recall_1: 0.9521 - val_loss: 0.0814 - val_binary_accuracy: 0.7507 - val_auc_1: 0.7183 - val_precision_1: 0.7668 - val_recall_1: 0.9487\n",
            "Epoch 27/50\n",
            "96/96 [==============================] - 13s 107ms/step - loss: 0.0789 - binary_accuracy: 0.7485 - auc_1: 0.7150 - precision_1: 0.7633 - recall_1: 0.9518 - val_loss: 0.0814 - val_binary_accuracy: 0.7509 - val_auc_1: 0.7211 - val_precision_1: 0.7674 - val_recall_1: 0.9475\n",
            "Epoch 28/50\n",
            "96/96 [==============================] - 13s 107ms/step - loss: 0.0779 - binary_accuracy: 0.7494 - auc_1: 0.7153 - precision_1: 0.7638 - recall_1: 0.9529 - val_loss: 0.0785 - val_binary_accuracy: 0.7457 - val_auc_1: 0.7221 - val_precision_1: 0.7578 - val_recall_1: 0.9540\n",
            "Epoch 29/50\n",
            "96/96 [==============================] - 13s 109ms/step - loss: 0.0760 - binary_accuracy: 0.7482 - auc_1: 0.7166 - precision_1: 0.7629 - recall_1: 0.9517 - val_loss: 0.0760 - val_binary_accuracy: 0.7485 - val_auc_1: 0.7176 - val_precision_1: 0.7595 - val_recall_1: 0.9592\n",
            "Epoch 30/50\n",
            "96/96 [==============================] - 13s 108ms/step - loss: 0.0768 - binary_accuracy: 0.7497 - auc_1: 0.7164 - precision_1: 0.7642 - recall_1: 0.9522 - val_loss: 0.0745 - val_binary_accuracy: 0.7486 - val_auc_1: 0.7206 - val_precision_1: 0.7639 - val_recall_1: 0.9491\n",
            "Epoch 31/50\n",
            "96/96 [==============================] - 15s 123ms/step - loss: 0.0776 - binary_accuracy: 0.7484 - auc_1: 0.7177 - precision_1: 0.7638 - recall_1: 0.9498 - val_loss: 0.0780 - val_binary_accuracy: 0.7471 - val_auc_1: 0.7207 - val_precision_1: 0.7624 - val_recall_1: 0.9487\n",
            "Epoch 32/50\n",
            "96/96 [==============================] - 13s 105ms/step - loss: 0.0809 - binary_accuracy: 0.7497 - auc_1: 0.7180 - precision_1: 0.7642 - recall_1: 0.9518 - val_loss: 0.0827 - val_binary_accuracy: 0.7536 - val_auc_1: 0.7254 - val_precision_1: 0.7669 - val_recall_1: 0.9545\n",
            "Epoch 33/50\n",
            "96/96 [==============================] - 13s 109ms/step - loss: 0.0789 - binary_accuracy: 0.7487 - auc_1: 0.7177 - precision_1: 0.7640 - recall_1: 0.9502 - val_loss: 0.0713 - val_binary_accuracy: 0.7455 - val_auc_1: 0.7200 - val_precision_1: 0.7601 - val_recall_1: 0.9476\n",
            "Epoch 34/50\n",
            "96/96 [==============================] - 13s 107ms/step - loss: 0.0769 - binary_accuracy: 0.7500 - auc_1: 0.7197 - precision_1: 0.7652 - recall_1: 0.9502 - val_loss: 0.0809 - val_binary_accuracy: 0.7459 - val_auc_1: 0.7253 - val_precision_1: 0.7581 - val_recall_1: 0.9541\n",
            "Epoch 35/50\n",
            "96/96 [==============================] - 13s 106ms/step - loss: 0.0774 - binary_accuracy: 0.7497 - auc_1: 0.7209 - precision_1: 0.7642 - recall_1: 0.9515 - val_loss: 0.0755 - val_binary_accuracy: 0.7498 - val_auc_1: 0.7258 - val_precision_1: 0.7625 - val_recall_1: 0.9556\n",
            "Epoch 36/50\n",
            "96/96 [==============================] - 13s 106ms/step - loss: 0.0792 - binary_accuracy: 0.7506 - auc_1: 0.7207 - precision_1: 0.7655 - recall_1: 0.9509 - val_loss: 0.0747 - val_binary_accuracy: 0.7489 - val_auc_1: 0.7234 - val_precision_1: 0.7673 - val_recall_1: 0.9418\n",
            "Epoch 37/50\n",
            "96/96 [==============================] - 13s 109ms/step - loss: 0.0761 - binary_accuracy: 0.7488 - auc_1: 0.7205 - precision_1: 0.7642 - recall_1: 0.9492 - val_loss: 0.0756 - val_binary_accuracy: 0.7525 - val_auc_1: 0.7296 - val_precision_1: 0.7688 - val_recall_1: 0.9450\n",
            "Epoch 38/50\n",
            "96/96 [==============================] - 14s 112ms/step - loss: 0.0774 - binary_accuracy: 0.7504 - auc_1: 0.7238 - precision_1: 0.7660 - recall_1: 0.9486 - val_loss: 0.0748 - val_binary_accuracy: 0.7524 - val_auc_1: 0.7240 - val_precision_1: 0.7683 - val_recall_1: 0.9500\n",
            "Epoch 39/50\n",
            "96/96 [==============================] - 14s 113ms/step - loss: 0.0769 - binary_accuracy: 0.7510 - auc_1: 0.7223 - precision_1: 0.7660 - recall_1: 0.9507 - val_loss: 0.0767 - val_binary_accuracy: 0.7503 - val_auc_1: 0.7259 - val_precision_1: 0.7621 - val_recall_1: 0.9577\n",
            "Epoch 40/50\n",
            "96/96 [==============================] - 14s 114ms/step - loss: 0.0737 - binary_accuracy: 0.7520 - auc_1: 0.7254 - precision_1: 0.7670 - recall_1: 0.9499 - val_loss: 0.0805 - val_binary_accuracy: 0.7513 - val_auc_1: 0.7278 - val_precision_1: 0.7691 - val_recall_1: 0.9431\n",
            "Epoch 41/50\n",
            "96/96 [==============================] - 14s 113ms/step - loss: 0.0770 - binary_accuracy: 0.7506 - auc_1: 0.7241 - precision_1: 0.7658 - recall_1: 0.9495 - val_loss: 0.0723 - val_binary_accuracy: 0.7486 - val_auc_1: 0.7262 - val_precision_1: 0.7633 - val_recall_1: 0.9496\n",
            "Epoch 42/50\n",
            "96/96 [==============================] - 14s 111ms/step - loss: 0.0771 - binary_accuracy: 0.7525 - auc_1: 0.7235 - precision_1: 0.7676 - recall_1: 0.9510 - val_loss: 0.0834 - val_binary_accuracy: 0.7517 - val_auc_1: 0.7265 - val_precision_1: 0.7632 - val_recall_1: 0.9585\n",
            "Epoch 43/50\n",
            "96/96 [==============================] - 14s 114ms/step - loss: 0.0757 - binary_accuracy: 0.7506 - auc_1: 0.7250 - precision_1: 0.7658 - recall_1: 0.9486 - val_loss: 0.0849 - val_binary_accuracy: 0.7534 - val_auc_1: 0.7268 - val_precision_1: 0.7635 - val_recall_1: 0.9620\n",
            "Epoch 44/50\n",
            "96/96 [==============================] - 14s 113ms/step - loss: 0.0782 - binary_accuracy: 0.7528 - auc_1: 0.7265 - precision_1: 0.7678 - recall_1: 0.9506 - val_loss: 0.0709 - val_binary_accuracy: 0.7484 - val_auc_1: 0.7297 - val_precision_1: 0.7603 - val_recall_1: 0.9547\n",
            "Epoch 45/50\n",
            "96/96 [==============================] - 13s 109ms/step - loss: 0.0763 - binary_accuracy: 0.7514 - auc_1: 0.7257 - precision_1: 0.7671 - recall_1: 0.9485 - val_loss: 0.0760 - val_binary_accuracy: 0.7496 - val_auc_1: 0.7306 - val_precision_1: 0.7662 - val_recall_1: 0.9424\n",
            "Epoch 46/50\n",
            "96/96 [==============================] - 13s 107ms/step - loss: 0.0784 - binary_accuracy: 0.7522 - auc_1: 0.7281 - precision_1: 0.7679 - recall_1: 0.9476 - val_loss: 0.0806 - val_binary_accuracy: 0.7504 - val_auc_1: 0.7284 - val_precision_1: 0.7680 - val_recall_1: 0.9433\n",
            "Epoch 47/50\n",
            "96/96 [==============================] - 13s 106ms/step - loss: 0.0766 - binary_accuracy: 0.7523 - auc_1: 0.7287 - precision_1: 0.7682 - recall_1: 0.9478 - val_loss: 0.0748 - val_binary_accuracy: 0.7553 - val_auc_1: 0.7327 - val_precision_1: 0.7724 - val_recall_1: 0.9452\n",
            "Epoch 48/50\n",
            "96/96 [==============================] - 13s 109ms/step - loss: 0.0780 - binary_accuracy: 0.7515 - auc_1: 0.7284 - precision_1: 0.7672 - recall_1: 0.9474 - val_loss: 0.0714 - val_binary_accuracy: 0.7518 - val_auc_1: 0.7308 - val_precision_1: 0.7699 - val_recall_1: 0.9420\n",
            "Epoch 49/50\n",
            "96/96 [==============================] - 13s 109ms/step - loss: 0.0761 - binary_accuracy: 0.7533 - auc_1: 0.7300 - precision_1: 0.7692 - recall_1: 0.9480 - val_loss: 0.0749 - val_binary_accuracy: 0.7559 - val_auc_1: 0.7369 - val_precision_1: 0.7751 - val_recall_1: 0.9384\n",
            "Epoch 50/50\n",
            "96/96 [==============================] - 13s 106ms/step - loss: 0.0772 - binary_accuracy: 0.7536 - auc_1: 0.7301 - precision_1: 0.7697 - recall_1: 0.9473 - val_loss: 0.0772 - val_binary_accuracy: 0.7532 - val_auc_1: 0.7286 - val_precision_1: 0.7738 - val_recall_1: 0.9381\n"
          ],
          "name": "stdout"
        }
      ]
    },
    {
      "cell_type": "code",
      "metadata": {
        "id": "t6G_Ekcz7qIa"
      },
      "source": [
        "filename = os.path.join(HISTORY_PATH, 'LSTM-Embedding100.csv')\n",
        "# with open(filename, 'wb') as file_pi:\n",
        "#   pickle.dump(add_history.history, file_pi)\n",
        "\n",
        "history_df = pd.DataFrame(e_history.history)\n",
        "history_df.to_csv(filename)"
      ],
      "execution_count": null,
      "outputs": []
    },
    {
      "cell_type": "code",
      "metadata": {
        "id": "opcetbZHVfWz",
        "colab": {
          "base_uri": "https://localhost:8080/",
          "height": 295
        },
        "outputId": "64ff8a02-938a-4ac3-c818-ad014fc71cb3"
      },
      "source": [
        "# Используем cross features\n",
        "import matplotlib.pyplot as plt\n",
        "\n",
        "e_loss = e_history.history['loss']\n",
        "e_val_loss = e_history.history['val_loss']\n",
        "epochs = np.arange(len(e_loss))\n",
        "plt.plot(epochs, e_loss, label = 'loss')\n",
        "plt.plot(epochs, e_val_loss, label = 'validation loss')\n",
        "plt.title('Model with embedding features')\n",
        "plt.xlabel('Epochs')\n",
        "plt.ylabel('Loss value')\n",
        "plt.legend()\n",
        "plt.grid()\n",
        "plt.show()"
      ],
      "execution_count": null,
      "outputs": [
        {
          "output_type": "display_data",
          "data": {
            "image/png": "[encoded data removed]",
            "text/plain": [
              "<Figure size 432x288 with 1 Axes>"
            ]
          },
          "metadata": {
            "tags": [],
            "needs_background": "light"
          }
        }
      ]
    },
    {
      "cell_type": "code",
      "metadata": {
        "colab": {
          "base_uri": "https://localhost:8080/"
        },
        "id": "nge2d_SzA6p1",
        "outputId": "316d6da1-8098-4d11-c22c-4872a5dc3089"
      },
      "source": [
        "import h5py\n",
        "with h5py.File(os.path.join(MODELS_PATH, model_name +'_best.hdf5'),'r') as f:\n",
        "  e_best_model = tf.keras.models.load_model(f, compile=False)\n",
        "\n",
        "\n",
        "e_best_model.compile(\n",
        "        loss = custom_loss,\n",
        "        optimizer='adam',\n",
        "        metrics=[\n",
        "            BinaryAccuracy(),\n",
        "            AUC(),\n",
        "            Precision(),\n",
        "            Recall()\n",
        "        ])\n",
        "\n",
        "\n",
        "\n",
        "# 100 emb_size\n",
        "e_result = e_model.evaluate(e_test_set, verbose=1)\n",
        "e_best_result = e_best_model.evaluate(e_test_set, verbose=1)\n",
        "\n",
        "# 31/31 [==============================] - 4s 45ms/step - loss: 0.0758 - binary_accuracy: 0.7557 - auc_52: 0.7303 - precision_52: 0.7726 - recall_52: 0.9471\n",
        "# 31/31 [==============================] - 6s 46ms/step - loss: 0.1021 - binary_accuracy: 0.6218 - auc_53: 0.5887 - precision_53: 0.7693 - recall_53: 0.6915"
      ],
      "execution_count": null,
      "outputs": [
        {
          "output_type": "stream",
          "text": [
            "31/31 [==============================] - 4s 44ms/step - loss: 0.0758 - binary_accuracy: 0.7553 - auc_1: 0.7306 - precision_1: 0.7762 - recall_1: 0.9382\n",
            "31/31 [==============================] - 6s 44ms/step - loss: 0.1128 - binary_accuracy: 0.7126 - auc_2: 0.5708 - precision_2: 0.7374 - recall_2: 0.9445\n"
          ],
          "name": "stdout"
        }
      ]
    },
    {
      "cell_type": "code",
      "metadata": {
        "colab": {
          "base_uri": "https://localhost:8080/"
        },
        "id": "ALe6A1tU7qIj",
        "outputId": "fbf6c9f2-5078-4e5a-dfde-08aa7a4368c7"
      },
      "source": [
        "import h5py\n",
        "with h5py.File(os.path.join(MODELS_PATH, model_name +'_best.hdf5'),'r') as f:\n",
        "  e_best_model = tf.keras.models.load_model(f, compile=False)\n",
        "\n",
        "\n",
        "e_best_model.compile(\n",
        "        loss = custom_loss,\n",
        "        optimizer='adam',\n",
        "        metrics=[\n",
        "            BinaryAccuracy(),\n",
        "            AUC(),\n",
        "            Precision(),\n",
        "            Recall()\n",
        "        ])\n",
        "\n",
        "\n",
        "\n",
        "# 50 emb_size\n",
        "e_result = e_model.evaluate(e_test_set, verbose=1)\n",
        "e_best_result = e_best_model.evaluate(e_test_set, verbose=1)\n",
        "\n",
        "\n",
        "# 31/31 [==============================] - 4s 41ms/step - loss: 0.0756 - binary_accuracy: 0.7571 - auc_49: 0.7318 - precision_49: 0.7719 - recall_49: 0.9514\n",
        "# 31/31 [==============================] - 6s 42ms/step - loss: 0.0950 - binary_accuracy: 0.6926 - auc_50: 0.5658 - precision_50: 0.7467 - recall_50: 0.8789"
      ],
      "execution_count": null,
      "outputs": [
        {
          "output_type": "stream",
          "text": [
            "31/31 [==============================] - 4s 46ms/step - loss: 0.0740 - binary_accuracy: 0.7528 - auc_49: 0.7263 - precision_49: 0.7688 - recall_49: 0.9484\n",
            "31/31 [==============================] - 7s 45ms/step - loss: 0.0873 - binary_accuracy: 0.6908 - auc_51: 0.5600 - precision_51: 0.7451 - recall_51: 0.8790\n"
          ],
          "name": "stdout"
        }
      ]
    },
    {
      "cell_type": "code",
      "metadata": {
        "colab": {
          "base_uri": "https://localhost:8080/"
        },
        "id": "48XxSV--_B_1",
        "outputId": "904e50b6-9019-4b03-9da4-c5a2776a908b"
      },
      "source": [
        "import h5py\n",
        "with h5py.File(os.path.join(MODELS_PATH, model_name +'_best.hdf5'),'r') as f:\n",
        "  e_best_model = tf.keras.models.load_model(f, compile=False)\n",
        "\n",
        "\n",
        "e_best_model.compile(\n",
        "        loss = custom_loss,\n",
        "        optimizer='adam',\n",
        "        metrics=[\n",
        "            BinaryAccuracy(),\n",
        "            AUC(),\n",
        "            Precision(),\n",
        "            Recall()\n",
        "        ])\n",
        "\n",
        "\n",
        "\n",
        "# 10 emb_size\n",
        "e_result = e_model.evaluate(e_test_set, verbose=1)\n",
        "e_best_result = e_best_model.evaluate(e_test_set, verbose=1)\n",
        "\n",
        "\n",
        "# 31/31 [==============================] - 4s 40ms/step - loss: 0.0733 - binary_accuracy: 0.7617 - auc_47: 0.7590 - precision_47: 0.7813 - recall_47: 0.9359\n",
        "# 31/31 [==============================] - 6s 40ms/step - loss: 0.0947 - binary_accuracy: 0.6403 - auc_48: 0.5906 - precision_48: 0.7655 - recall_48: 0.7353"
      ],
      "execution_count": null,
      "outputs": [
        {
          "output_type": "stream",
          "text": [
            "31/31 [==============================] - 4s 40ms/step - loss: 0.0733 - binary_accuracy: 0.7617 - auc_47: 0.7590 - precision_47: 0.7813 - recall_47: 0.9359\n",
            "31/31 [==============================] - 6s 40ms/step - loss: 0.0947 - binary_accuracy: 0.6403 - auc_48: 0.5906 - precision_48: 0.7655 - recall_48: 0.7353\n"
          ],
          "name": "stdout"
        }
      ]
    },
    {
      "cell_type": "code",
      "metadata": {
        "id": "6aXjxIjZVfW0"
      },
      "source": [
        "# # deafult features 0\n",
        "# d_result = d_model.evaluate(d_test_set, verbose=1)"
      ],
      "execution_count": null,
      "outputs": []
    },
    {
      "cell_type": "code",
      "metadata": {
        "scrolled": true,
        "id": "jpr5VfRZVfW0",
        "outputId": "2bfba667-1e7c-4ffd-9697-327c5fbf34ee"
      },
      "source": [
        "# # cross features\n",
        "# cross_result = model.evaluate(test_set, verbose=1)"
      ],
      "execution_count": null,
      "outputs": [
        {
          "output_type": "stream",
          "text": [
            "31/31 [==============================] - 5s 163ms/step - loss: 0.0740 - binary_accuracy: 0.7649 - auc_18: 0.7622 - precision_18: 0.7808 - recall_18: 0.9442\n"
          ],
          "name": "stdout"
        }
      ]
    },
    {
      "cell_type": "code",
      "metadata": {
        "id": "HBJQmPKcVfW0",
        "outputId": "3f948ec6-aebe-482f-d331-9832a8985eed"
      },
      "source": [
        "# # deafult features 1\n",
        "# d_result = d_model.evaluate(d_test_set, verbose=1)"
      ],
      "execution_count": null,
      "outputs": [
        {
          "output_type": "stream",
          "text": [
            "31/31 [==============================] - 5s 152ms/step - loss: 0.0714 - binary_accuracy: 0.7607 - auc_16: 0.7563 - precision_16: 0.7813 - recall_16: 0.9345\n"
          ],
          "name": "stdout"
        }
      ]
    },
    {
      "cell_type": "code",
      "metadata": {
        "scrolled": true,
        "id": "t1Lk3e1HVfW0",
        "outputId": "6235837c-e429-49fe-b197-dc993df9c4a3"
      },
      "source": [
        "# e_result = e_model.evaluate(e_test_set, verbose=1)"
      ],
      "execution_count": null,
      "outputs": [
        {
          "output_type": "stream",
          "text": [
            "31/31 [==============================] - 4s 122ms/step - loss: 0.0839 - binary_accuracy: 0.7386 - auc_19: 0.6717 - precision_19: 0.7419 - recall_19: 0.9874\n"
          ],
          "name": "stdout"
        }
      ]
    },
    {
      "cell_type": "code",
      "metadata": {
        "id": "LhYSq-y3Vej9"
      },
      "source": [
        ""
      ],
      "execution_count": null,
      "outputs": []
    },
    {
      "cell_type": "code",
      "metadata": {
        "id": "jkwaCtvya6FC"
      },
      "source": [
        ""
      ],
      "execution_count": null,
      "outputs": []
    },
    {
      "cell_type": "markdown",
      "metadata": {
        "id": "14tU8bRippBO"
      },
      "source": [
        "# EERN признаки"
      ]
    },
    {
      "cell_type": "code",
      "metadata": {
        "id": "I2OaQuDCp1FQ"
      },
      "source": [
        "from collections import OrderedDict\n",
        "\n",
        "word2vec, df, skill_with_answer = get_word2vec(ASSISTMENT_2015_PATH, embedding_size = 10, skill_with_answer = False) # TODO: Try features from EERN"
      ],
      "execution_count": null,
      "outputs": []
    },
    {
      "cell_type": "code",
      "metadata": {
        "id": "R5Vv1EfsuLqL"
      },
      "source": [
        ""
      ],
      "execution_count": null,
      "outputs": []
    },
    {
      "cell_type": "code",
      "metadata": {
        "id": "fgJqmvN5p1Fd"
      },
      "source": [
        "eern_dataset, eern_features_depth, eern_skill_depth, eern_users = get_eern_features(df, word2vec)\n",
        "eern_dataset, eern_length = get_embedding_dataset(eern_dataset, eern_features_depth, eern_skill_depth, eern_users, batch_size = 128)"
      ],
      "execution_count": null,
      "outputs": []
    },
    {
      "cell_type": "code",
      "metadata": {
        "colab": {
          "base_uri": "https://localhost:8080/"
        },
        "id": "wXy1OvZop1Fe",
        "outputId": "86684279-0f4e-4632-899c-58a0b0adb4eb"
      },
      "source": [
        "eern_length, eern_features_depth, eern_skill_depth"
      ],
      "execution_count": null,
      "outputs": [
        {
          "output_type": "execute_result",
          "data": {
            "text/plain": [
              "(151, 20, 100)"
            ]
          },
          "metadata": {
            "tags": []
          },
          "execution_count": 30
        }
      ]
    },
    {
      "cell_type": "code",
      "metadata": {
        "id": "_tiR9wb0p1Fe"
      },
      "source": [
        "eern_train_set, eern_test_set, eern_val_set = split_dataset(eern_dataset, eern_length, 0.2, 0.2)"
      ],
      "execution_count": null,
      "outputs": []
    },
    {
      "cell_type": "code",
      "metadata": {
        "id": "46C6aormp1Ff"
      },
      "source": [
        "sum = 0\n",
        "for batch in eern_test_set:\n",
        "  sum += batch[0].shape[0]"
      ],
      "execution_count": null,
      "outputs": []
    },
    {
      "cell_type": "code",
      "metadata": {
        "colab": {
          "base_uri": "https://localhost:8080/"
        },
        "id": "dGuZM6gpp1Ff",
        "outputId": "308b3f85-0a17-4300-e886-ffd8aaf07d6b"
      },
      "source": [
        "sum"
      ],
      "execution_count": null,
      "outputs": [
        {
          "output_type": "execute_result",
          "data": {
            "text/plain": [
              "3968"
            ]
          },
          "metadata": {
            "tags": []
          },
          "execution_count": 33
        }
      ]
    },
    {
      "cell_type": "code",
      "metadata": {
        "colab": {
          "base_uri": "https://localhost:8080/"
        },
        "id": "AUkCpmeU2F9I",
        "outputId": "c607f3f3-be52-425f-aaa6-78aa42a986e0"
      },
      "source": [
        "from tensorflow.keras import models, layers\n",
        "from tensorflow.keras.models import Sequential\n",
        "from tensorflow.keras.layers import Masking, LSTM, TimeDistributed, Dense\n",
        "\n",
        "eern_model = tf.keras.models.Sequential(name = 'LSTM-EERNFeatures')\n",
        "\n",
        "eern_model.add(Masking(mask_value = -1., input_shape = (None, eern_features_depth), name = 'masking'))\n",
        "eern_model.add(LSTM(200, return_sequences = True, name = 'lstm_1'))\n",
        "eern_model.add(LSTM(200, return_sequences = True, name = 'lstm_2'))\n",
        "eern_model.add(TimeDistributed(Dense(200, activation = 'relu', name = 'dense_1')))\n",
        "eern_model.add(TimeDistributed(Dense(200, activation = 'relu', name = 'dense_2')))\n",
        "eern_model.add(TimeDistributed(Dense(200, activation = 'relu', name = 'dense_3')))\n",
        "eern_model.add(TimeDistributed(Dense(eern_skill_depth, activation = 'sigmoid', name = 'dense')))\n",
        "\n",
        "\n",
        "eern_model.compile(\n",
        "       loss = custom_loss,\n",
        "       optimizer='adam',\n",
        "       metrics=[\n",
        "           BinaryAccuracy(),\n",
        "           AUC(),\n",
        "           Precision(),\n",
        "           Recall()\n",
        "       ])\n",
        "\n",
        "eern_model.summary()"
      ],
      "execution_count": null,
      "outputs": [
        {
          "output_type": "stream",
          "text": [
            "Model: \"LSTM-EERNFeatures\"\n",
            "_________________________________________________________________\n",
            "Layer (type)                 Output Shape              Param #   \n",
            "=================================================================\n",
            "masking (Masking)            (None, None, 20)          0         \n",
            "_________________________________________________________________\n",
            "lstm_1 (LSTM)                (None, None, 200)         176800    \n",
            "_________________________________________________________________\n",
            "lstm_2 (LSTM)                (None, None, 200)         320800    \n",
            "_________________________________________________________________\n",
            "time_distributed (TimeDistri (None, None, 200)         40200     \n",
            "_________________________________________________________________\n",
            "time_distributed_1 (TimeDist (None, None, 200)         40200     \n",
            "_________________________________________________________________\n",
            "time_distributed_2 (TimeDist (None, None, 200)         40200     \n",
            "_________________________________________________________________\n",
            "time_distributed_3 (TimeDist (None, None, 100)         20100     \n",
            "=================================================================\n",
            "Total params: 638,300\n",
            "Trainable params: 638,300\n",
            "Non-trainable params: 0\n",
            "_________________________________________________________________\n"
          ],
          "name": "stdout"
        }
      ]
    },
    {
      "cell_type": "code",
      "metadata": {
        "colab": {
          "base_uri": "https://localhost:8080/"
        },
        "id": "dpNpcgV72aqN",
        "outputId": "5ca2acc5-21b3-4b2f-be9a-6cf8a900629e"
      },
      "source": [
        "import tensorflow as tf\n",
        "\n",
        "model_name = eern_model.name\n",
        "best_w = tf.keras.callbacks.ModelCheckpoint(os.path.join(MODELS_PATH, model_name + '_best.hdf5'),\n",
        "                                monitor='val_loss',\n",
        "                                verbose=1,\n",
        "                                save_best_only=True,\n",
        "                                save_weights_only=False,\n",
        "                                mode='auto'\n",
        "                                # save_freq = 1_000\n",
        "                                )\n",
        " \n",
        "last_w = tf.keras.callbacks.ModelCheckpoint(os.path.join(MODELS_PATH, model_name + '_last.hdf5'),\n",
        "                                monitor='val_loss',\n",
        "                                verbose=0,\n",
        "                                save_best_only=False,\n",
        "                                save_weights_only=False,\n",
        "                                mode='auto'\n",
        "                                # save_freq = 1_000\n",
        "                                )\n",
        " \n",
        "# early_stopping = tf.keras.callbacks.EarlyStopping(monitor='loss', patience=5)\n",
        " \n",
        "callbacks = [best_w, last_w]\n",
        "\n",
        "eern_history = eern_model.fit(eern_train_set,\n",
        "                    epochs = 50,\n",
        "                    verbose = 1,\n",
        "                    validation_data=eern_val_set)"
      ],
      "execution_count": null,
      "outputs": [
        {
          "output_type": "stream",
          "text": [
            "Epoch 1/50\n",
            "96/96 [==============================] - 27s 126ms/step - loss: 0.0872 - binary_accuracy: 0.7256 - auc: 0.5855 - precision: 0.7353 - recall: 0.9775 - val_loss: 0.0836 - val_binary_accuracy: 0.7361 - val_auc: 0.6322 - val_precision: 0.7361 - val_recall: 1.0000\n",
            "Epoch 2/50\n",
            "96/96 [==============================] - 13s 100ms/step - loss: 0.0854 - binary_accuracy: 0.7326 - auc: 0.6329 - precision: 0.7334 - recall: 0.9977 - val_loss: 0.0887 - val_binary_accuracy: 0.7296 - val_auc: 0.6446 - val_precision: 0.7296 - val_recall: 1.0000\n",
            "Epoch 3/50\n",
            "96/96 [==============================] - 13s 100ms/step - loss: 0.0847 - binary_accuracy: 0.7334 - auc: 0.6354 - precision: 0.7347 - recall: 0.9961 - val_loss: 0.0868 - val_binary_accuracy: 0.7329 - val_auc: 0.6378 - val_precision: 0.7332 - val_recall: 0.9993\n",
            "Epoch 4/50\n",
            "96/96 [==============================] - 13s 103ms/step - loss: 0.0820 - binary_accuracy: 0.7334 - auc: 0.6373 - precision: 0.7342 - recall: 0.9976 - val_loss: 0.0905 - val_binary_accuracy: 0.7350 - val_auc: 0.6370 - val_precision: 0.7350 - val_recall: 1.0000\n",
            "Epoch 5/50\n",
            "96/96 [==============================] - 13s 100ms/step - loss: 0.0839 - binary_accuracy: 0.7336 - auc: 0.6370 - precision: 0.7341 - recall: 0.9985 - val_loss: 0.0800 - val_binary_accuracy: 0.7276 - val_auc: 0.6358 - val_precision: 0.7276 - val_recall: 1.0000\n",
            "Epoch 6/50\n",
            "96/96 [==============================] - 13s 101ms/step - loss: 0.0855 - binary_accuracy: 0.7297 - auc: 0.6408 - precision: 0.7305 - recall: 0.9978 - val_loss: 0.0834 - val_binary_accuracy: 0.7345 - val_auc: 0.6415 - val_precision: 0.7347 - val_recall: 0.9995\n",
            "Epoch 7/50\n",
            "96/96 [==============================] - 12s 100ms/step - loss: 0.0840 - binary_accuracy: 0.7316 - auc: 0.6424 - precision: 0.7325 - recall: 0.9974 - val_loss: 0.0924 - val_binary_accuracy: 0.7340 - val_auc: 0.6481 - val_precision: 0.7342 - val_recall: 0.9993\n",
            "Epoch 8/50\n",
            "96/96 [==============================] - 12s 100ms/step - loss: 0.0844 - binary_accuracy: 0.7342 - auc: 0.6487 - precision: 0.7364 - recall: 0.9924 - val_loss: 0.0829 - val_binary_accuracy: 0.7292 - val_auc: 0.6517 - val_precision: 0.7339 - val_recall: 0.9837\n",
            "Epoch 9/50\n",
            "96/96 [==============================] - 13s 101ms/step - loss: 0.0818 - binary_accuracy: 0.7379 - auc: 0.6611 - precision: 0.7426 - recall: 0.9838 - val_loss: 0.0755 - val_binary_accuracy: 0.7413 - val_auc: 0.6734 - val_precision: 0.7485 - val_recall: 0.9754\n",
            "Epoch 10/50\n",
            "96/96 [==============================] - 13s 102ms/step - loss: 0.0806 - binary_accuracy: 0.7377 - auc: 0.6663 - precision: 0.7435 - recall: 0.9799 - val_loss: 0.0833 - val_binary_accuracy: 0.7393 - val_auc: 0.6779 - val_precision: 0.7476 - val_recall: 0.9708\n",
            "Epoch 11/50\n",
            "96/96 [==============================] - 12s 100ms/step - loss: 0.0800 - binary_accuracy: 0.7396 - auc: 0.6772 - precision: 0.7473 - recall: 0.9734 - val_loss: 0.0828 - val_binary_accuracy: 0.7411 - val_auc: 0.6853 - val_precision: 0.7496 - val_recall: 0.9696\n",
            "Epoch 12/50\n",
            "96/96 [==============================] - 12s 100ms/step - loss: 0.0827 - binary_accuracy: 0.7405 - auc: 0.6867 - precision: 0.7503 - recall: 0.9669 - val_loss: 0.0811 - val_binary_accuracy: 0.7366 - val_auc: 0.6909 - val_precision: 0.7450 - val_recall: 0.9690\n",
            "Epoch 13/50\n",
            "96/96 [==============================] - 13s 102ms/step - loss: 0.0770 - binary_accuracy: 0.7421 - auc: 0.6916 - precision: 0.7526 - recall: 0.9646 - val_loss: 0.0841 - val_binary_accuracy: 0.7453 - val_auc: 0.6951 - val_precision: 0.7532 - val_recall: 0.9727\n",
            "Epoch 14/50\n",
            "96/96 [==============================] - 13s 104ms/step - loss: 0.0783 - binary_accuracy: 0.7433 - auc: 0.6979 - precision: 0.7549 - recall: 0.9615 - val_loss: 0.0769 - val_binary_accuracy: 0.7407 - val_auc: 0.6938 - val_precision: 0.7510 - val_recall: 0.9645\n",
            "Epoch 15/50\n",
            "96/96 [==============================] - 12s 100ms/step - loss: 0.0800 - binary_accuracy: 0.7440 - auc: 0.6980 - precision: 0.7562 - recall: 0.9596 - val_loss: 0.0776 - val_binary_accuracy: 0.7449 - val_auc: 0.7021 - val_precision: 0.7538 - val_recall: 0.9697\n",
            "Epoch 16/50\n",
            "96/96 [==============================] - 13s 101ms/step - loss: 0.0786 - binary_accuracy: 0.7462 - auc: 0.7027 - precision: 0.7588 - recall: 0.9593 - val_loss: 0.0846 - val_binary_accuracy: 0.7436 - val_auc: 0.7032 - val_precision: 0.7531 - val_recall: 0.9654\n",
            "Epoch 17/50\n",
            "96/96 [==============================] - 13s 107ms/step - loss: 0.0773 - binary_accuracy: 0.7448 - auc: 0.7056 - precision: 0.7582 - recall: 0.9562 - val_loss: 0.0767 - val_binary_accuracy: 0.7459 - val_auc: 0.7082 - val_precision: 0.7595 - val_recall: 0.9543\n",
            "Epoch 18/50\n",
            "96/96 [==============================] - 13s 103ms/step - loss: 0.0801 - binary_accuracy: 0.7457 - auc: 0.7074 - precision: 0.7592 - recall: 0.9566 - val_loss: 0.0824 - val_binary_accuracy: 0.7452 - val_auc: 0.7125 - val_precision: 0.7595 - val_recall: 0.9519\n",
            "Epoch 19/50\n",
            "96/96 [==============================] - 13s 105ms/step - loss: 0.0778 - binary_accuracy: 0.7467 - auc: 0.7086 - precision: 0.7602 - recall: 0.9562 - val_loss: 0.0823 - val_binary_accuracy: 0.7469 - val_auc: 0.7161 - val_precision: 0.7568 - val_recall: 0.9636\n",
            "Epoch 20/50\n",
            "96/96 [==============================] - 13s 105ms/step - loss: 0.0781 - binary_accuracy: 0.7460 - auc: 0.7099 - precision: 0.7595 - recall: 0.9557 - val_loss: 0.0827 - val_binary_accuracy: 0.7496 - val_auc: 0.7115 - val_precision: 0.7638 - val_recall: 0.9560\n",
            "Epoch 21/50\n",
            "96/96 [==============================] - 13s 103ms/step - loss: 0.0811 - binary_accuracy: 0.7475 - auc: 0.7116 - precision: 0.7618 - recall: 0.9541 - val_loss: 0.0810 - val_binary_accuracy: 0.7486 - val_auc: 0.7101 - val_precision: 0.7592 - val_recall: 0.9645\n",
            "Epoch 22/50\n",
            "96/96 [==============================] - 13s 104ms/step - loss: 0.0759 - binary_accuracy: 0.7465 - auc: 0.7141 - precision: 0.7606 - recall: 0.9532 - val_loss: 0.0831 - val_binary_accuracy: 0.7441 - val_auc: 0.7071 - val_precision: 0.7583 - val_recall: 0.9539\n",
            "Epoch 23/50\n",
            "96/96 [==============================] - 13s 103ms/step - loss: 0.0804 - binary_accuracy: 0.7470 - auc: 0.7144 - precision: 0.7610 - recall: 0.9533 - val_loss: 0.0756 - val_binary_accuracy: 0.7521 - val_auc: 0.7158 - val_precision: 0.7657 - val_recall: 0.9559\n",
            "Epoch 24/50\n",
            "96/96 [==============================] - 13s 106ms/step - loss: 0.0761 - binary_accuracy: 0.7471 - auc: 0.7153 - precision: 0.7617 - recall: 0.9517 - val_loss: 0.0736 - val_binary_accuracy: 0.7452 - val_auc: 0.7108 - val_precision: 0.7663 - val_recall: 0.9383\n",
            "Epoch 25/50\n",
            "96/96 [==============================] - 13s 105ms/step - loss: 0.0778 - binary_accuracy: 0.7468 - auc: 0.7156 - precision: 0.7618 - recall: 0.9508 - val_loss: 0.0749 - val_binary_accuracy: 0.7426 - val_auc: 0.7128 - val_precision: 0.7568 - val_recall: 0.9512\n",
            "Epoch 26/50\n",
            "96/96 [==============================] - 13s 105ms/step - loss: 0.0756 - binary_accuracy: 0.7499 - auc: 0.7178 - precision: 0.7641 - recall: 0.9536 - val_loss: 0.0765 - val_binary_accuracy: 0.7455 - val_auc: 0.7156 - val_precision: 0.7653 - val_recall: 0.9403\n",
            "Epoch 27/50\n",
            "96/96 [==============================] - 13s 103ms/step - loss: 0.0793 - binary_accuracy: 0.7494 - auc: 0.7185 - precision: 0.7643 - recall: 0.9517 - val_loss: 0.0736 - val_binary_accuracy: 0.7489 - val_auc: 0.7256 - val_precision: 0.7650 - val_recall: 0.9458\n",
            "Epoch 28/50\n",
            "96/96 [==============================] - 13s 101ms/step - loss: 0.0815 - binary_accuracy: 0.7491 - auc: 0.7182 - precision: 0.7637 - recall: 0.9520 - val_loss: 0.0789 - val_binary_accuracy: 0.7481 - val_auc: 0.7240 - val_precision: 0.7620 - val_recall: 0.9510\n",
            "Epoch 29/50\n",
            "96/96 [==============================] - 13s 104ms/step - loss: 0.0772 - binary_accuracy: 0.7491 - auc: 0.7195 - precision: 0.7635 - recall: 0.9526 - val_loss: 0.0809 - val_binary_accuracy: 0.7475 - val_auc: 0.7244 - val_precision: 0.7589 - val_recall: 0.9578\n",
            "Epoch 30/50\n",
            "96/96 [==============================] - 13s 108ms/step - loss: 0.0778 - binary_accuracy: 0.7493 - auc: 0.7208 - precision: 0.7637 - recall: 0.9516 - val_loss: 0.0724 - val_binary_accuracy: 0.7457 - val_auc: 0.7203 - val_precision: 0.7565 - val_recall: 0.9603\n",
            "Epoch 31/50\n",
            "96/96 [==============================] - 13s 104ms/step - loss: 0.0800 - binary_accuracy: 0.7507 - auc: 0.7217 - precision: 0.7655 - recall: 0.9517 - val_loss: 0.0724 - val_binary_accuracy: 0.7497 - val_auc: 0.7307 - val_precision: 0.7629 - val_recall: 0.9517\n",
            "Epoch 32/50\n",
            "96/96 [==============================] - 13s 106ms/step - loss: 0.0787 - binary_accuracy: 0.7498 - auc: 0.7213 - precision: 0.7647 - recall: 0.9508 - val_loss: 0.0791 - val_binary_accuracy: 0.7523 - val_auc: 0.7258 - val_precision: 0.7675 - val_recall: 0.9501\n",
            "Epoch 33/50\n",
            "96/96 [==============================] - 13s 107ms/step - loss: 0.0751 - binary_accuracy: 0.7508 - auc: 0.7243 - precision: 0.7661 - recall: 0.9496 - val_loss: 0.0796 - val_binary_accuracy: 0.7511 - val_auc: 0.7301 - val_precision: 0.7682 - val_recall: 0.9446\n",
            "Epoch 34/50\n",
            "96/96 [==============================] - 13s 106ms/step - loss: 0.0771 - binary_accuracy: 0.7511 - auc: 0.7235 - precision: 0.7666 - recall: 0.9493 - val_loss: 0.0805 - val_binary_accuracy: 0.7538 - val_auc: 0.7280 - val_precision: 0.7671 - val_recall: 0.9541\n",
            "Epoch 35/50\n",
            "96/96 [==============================] - 13s 106ms/step - loss: 0.0781 - binary_accuracy: 0.7519 - auc: 0.7248 - precision: 0.7666 - recall: 0.9508 - val_loss: 0.0755 - val_binary_accuracy: 0.7493 - val_auc: 0.7276 - val_precision: 0.7683 - val_recall: 0.9385\n",
            "Epoch 36/50\n",
            "96/96 [==============================] - 15s 121ms/step - loss: 0.0755 - binary_accuracy: 0.7526 - auc: 0.7261 - precision: 0.7684 - recall: 0.9482 - val_loss: 0.0767 - val_binary_accuracy: 0.7540 - val_auc: 0.7259 - val_precision: 0.7706 - val_recall: 0.9485\n",
            "Epoch 37/50\n",
            "96/96 [==============================] - 13s 106ms/step - loss: 0.0782 - binary_accuracy: 0.7520 - auc: 0.7251 - precision: 0.7675 - recall: 0.9491 - val_loss: 0.0779 - val_binary_accuracy: 0.7514 - val_auc: 0.7292 - val_precision: 0.7715 - val_recall: 0.9379\n",
            "Epoch 38/50\n",
            "96/96 [==============================] - 13s 104ms/step - loss: 0.0764 - binary_accuracy: 0.7521 - auc: 0.7263 - precision: 0.7673 - recall: 0.9497 - val_loss: 0.0761 - val_binary_accuracy: 0.7533 - val_auc: 0.7287 - val_precision: 0.7673 - val_recall: 0.9526\n",
            "Epoch 39/50\n",
            "96/96 [==============================] - 13s 101ms/step - loss: 0.0766 - binary_accuracy: 0.7528 - auc: 0.7277 - precision: 0.7688 - recall: 0.9484 - val_loss: 0.0752 - val_binary_accuracy: 0.7508 - val_auc: 0.7275 - val_precision: 0.7692 - val_recall: 0.9410\n",
            "Epoch 40/50\n",
            "96/96 [==============================] - 14s 118ms/step - loss: 0.0763 - binary_accuracy: 0.7531 - auc: 0.7292 - precision: 0.7691 - recall: 0.9472 - val_loss: 0.0754 - val_binary_accuracy: 0.7607 - val_auc: 0.7301 - val_precision: 0.7739 - val_recall: 0.9568\n",
            "Epoch 41/50\n",
            "96/96 [==============================] - 13s 101ms/step - loss: 0.0747 - binary_accuracy: 0.7532 - auc: 0.7324 - precision: 0.7699 - recall: 0.9454 - val_loss: 0.0783 - val_binary_accuracy: 0.7496 - val_auc: 0.7350 - val_precision: 0.7644 - val_recall: 0.9464\n",
            "Epoch 42/50\n",
            "96/96 [==============================] - 13s 101ms/step - loss: 0.0785 - binary_accuracy: 0.7527 - auc: 0.7305 - precision: 0.7690 - recall: 0.9464 - val_loss: 0.0755 - val_binary_accuracy: 0.7603 - val_auc: 0.7367 - val_precision: 0.7728 - val_recall: 0.9561\n",
            "Epoch 43/50\n",
            "96/96 [==============================] - 13s 102ms/step - loss: 0.0751 - binary_accuracy: 0.7545 - auc: 0.7315 - precision: 0.7707 - recall: 0.9469 - val_loss: 0.0686 - val_binary_accuracy: 0.7483 - val_auc: 0.7395 - val_precision: 0.7625 - val_recall: 0.9450\n",
            "Epoch 44/50\n",
            "96/96 [==============================] - 13s 104ms/step - loss: 0.0769 - binary_accuracy: 0.7547 - auc: 0.7339 - precision: 0.7710 - recall: 0.9463 - val_loss: 0.0744 - val_binary_accuracy: 0.7552 - val_auc: 0.7405 - val_precision: 0.7686 - val_recall: 0.9519\n",
            "Epoch 45/50\n",
            "96/96 [==============================] - 13s 101ms/step - loss: 0.0775 - binary_accuracy: 0.7545 - auc: 0.7342 - precision: 0.7705 - recall: 0.9461 - val_loss: 0.0773 - val_binary_accuracy: 0.7583 - val_auc: 0.7352 - val_precision: 0.7760 - val_recall: 0.9453\n",
            "Epoch 46/50\n",
            "96/96 [==============================] - 13s 102ms/step - loss: 0.0774 - binary_accuracy: 0.7546 - auc: 0.7352 - precision: 0.7713 - recall: 0.9450 - val_loss: 0.0770 - val_binary_accuracy: 0.7570 - val_auc: 0.7371 - val_precision: 0.7750 - val_recall: 0.9426\n",
            "Epoch 47/50\n",
            "96/96 [==============================] - 13s 101ms/step - loss: 0.0756 - binary_accuracy: 0.7559 - auc: 0.7379 - precision: 0.7720 - recall: 0.9456 - val_loss: 0.0752 - val_binary_accuracy: 0.7563 - val_auc: 0.7371 - val_precision: 0.7667 - val_recall: 0.9599\n",
            "Epoch 48/50\n",
            "96/96 [==============================] - 13s 101ms/step - loss: 0.0779 - binary_accuracy: 0.7542 - auc: 0.7374 - precision: 0.7710 - recall: 0.9438 - val_loss: 0.0757 - val_binary_accuracy: 0.7574 - val_auc: 0.7410 - val_precision: 0.7755 - val_recall: 0.9403\n",
            "Epoch 49/50\n",
            "96/96 [==============================] - 13s 102ms/step - loss: 0.0757 - binary_accuracy: 0.7568 - auc: 0.7370 - precision: 0.7733 - recall: 0.9456 - val_loss: 0.0741 - val_binary_accuracy: 0.7554 - val_auc: 0.7433 - val_precision: 0.7697 - val_recall: 0.9477\n",
            "Epoch 50/50\n",
            "96/96 [==============================] - 13s 101ms/step - loss: 0.0772 - binary_accuracy: 0.7584 - auc: 0.7402 - precision: 0.7748 - recall: 0.9463 - val_loss: 0.0787 - val_binary_accuracy: 0.7582 - val_auc: 0.7395 - val_precision: 0.7775 - val_recall: 0.9400\n"
          ],
          "name": "stdout"
        }
      ]
    },
    {
      "cell_type": "code",
      "metadata": {
        "id": "GT-MzU423gzZ"
      },
      "source": [
        "filename = os.path.join(HISTORY_PATH, 'LSTM-EERN.csv')\n",
        "\n",
        "history_df = pd.DataFrame(eern_history.history)\n",
        "history_df.to_csv(filename)"
      ],
      "execution_count": null,
      "outputs": []
    },
    {
      "cell_type": "code",
      "metadata": {
        "colab": {
          "base_uri": "https://localhost:8080/",
          "height": 295
        },
        "id": "51ik5xSAIKTM",
        "outputId": "44bb98f2-9657-49c1-cb66-2f42c6af68e5"
      },
      "source": [
        "import matplotlib.pyplot as plt\n",
        "\n",
        "eern_loss = eern_history.history['loss']\n",
        "eern_val_loss = eern_history.history['val_loss']\n",
        "epochs = np.arange(len(eern_loss))\n",
        "plt.plot(epochs, eern_loss, label = 'тренировочное мн-во')\n",
        "plt.plot(epochs, eern_val_loss, label = 'валидацонное мн-во')\n",
        "plt.title('Модель с признаками из EERN')\n",
        "plt.xlabel('Эпоха')\n",
        "plt.ylabel('Значение функции потерь')\n",
        "plt.legend()\n",
        "plt.grid()\n",
        "plt.show()"
      ],
      "execution_count": null,
      "outputs": [
        {
          "output_type": "display_data",
          "data": {
            "image/png": "[encoded data removed]",
            "text/plain": [
              "<Figure size 432x288 with 1 Axes>"
            ]
          },
          "metadata": {
            "tags": [],
            "needs_background": "light"
          }
        }
      ]
    },
    {
      "cell_type": "code",
      "metadata": {
        "scrolled": true,
        "colab": {
          "base_uri": "https://localhost:8080/"
        },
        "id": "LOCT83bAIKTS",
        "outputId": "c2460b89-cc77-48a7-ced3-962078d65339"
      },
      "source": [
        "eern_result = eern_model.evaluate(eern_test_set, verbose=1)"
      ],
      "execution_count": null,
      "outputs": [
        {
          "output_type": "stream",
          "text": [
            "31/31 [==============================] - 4s 41ms/step - loss: 0.0749 - binary_accuracy: 0.7564 - auc: 0.7419 - precision: 0.7756 - recall: 0.9379\n"
          ],
          "name": "stdout"
        }
      ]
    },
    {
      "cell_type": "code",
      "metadata": {
        "id": "Fi7M8vEtVaC0"
      },
      "source": [
        "# import h5py\n",
        "# with h5py.File(model_name +'_best.hdf5','r') as f:\n",
        "#     eern_best_model = tf.keras.models.load_model(f, compile=False)\n",
        "\n",
        "\n",
        "# eeern_best_model.compile(\n",
        "#         loss = custom_loss,\n",
        "#         optimizer='adam',\n",
        "#         metrics=[\n",
        "#             BinaryAccuracy(),\n",
        "#             AUC(),\n",
        "#             Precision(),\n",
        "#             Recall()\n",
        "#         ])\n",
        "\n",
        "\n",
        "\n",
        "# 10 emb_size\n",
        "eeern_result = eern_model.evaluate(eern_test_set, verbose=1)\n",
        "# eeern_best_result = e_best_model.evaluate(e_test_set, verbose=1)\n",
        "\n",
        "\n",
        "# 31/31 [==============================] - 4s 38ms/step - loss: 0.0668 - binary_accuracy: 0.7730 - auc_3: 0.7765 - precision_3: 0.7939 - recall_3: 0.9331"
      ],
      "execution_count": null,
      "outputs": []
    },
    {
      "cell_type": "markdown",
      "metadata": {
        "id": "zOeL7dQ2z0pn"
      },
      "source": [
        "# Transformer Encoder"
      ]
    },
    {
      "cell_type": "code",
      "metadata": {
        "id": "WXWzm9iTHuvm"
      },
      "source": [
        "from collections import OrderedDict\n",
        "\n",
        "word2vec, df, skill_with_answer = get_word2vec(ASSISTMENT_2015_PATH, embedding_size = 100)"
      ],
      "execution_count": null,
      "outputs": []
    },
    {
      "cell_type": "code",
      "metadata": {
        "id": "5kWitnQCHuv1"
      },
      "source": [
        "mh_dataset, mh_features_depth, mh_skill_depth, mh_users = get_embedding_features(df, word2vec)\n",
        "mh_dataset, mh_length = get_embedding_dataset(mh_dataset, mh_features_depth, mh_skill_depth, mh_users, batch_size = 128)"
      ],
      "execution_count": null,
      "outputs": []
    },
    {
      "cell_type": "code",
      "metadata": {
        "colab": {
          "base_uri": "https://localhost:8080/"
        },
        "id": "NDIH3STB0M1P",
        "outputId": "1a1cc3e8-c58c-416d-dd6f-83d2465b9e2a"
      },
      "source": [
        "mh_length, mh_features_depth, mh_skill_depth"
      ],
      "execution_count": null,
      "outputs": [
        {
          "output_type": "execute_result",
          "data": {
            "text/plain": [
              "(151, 100, 100)"
            ]
          },
          "metadata": {
            "tags": []
          },
          "execution_count": 33
        }
      ]
    },
    {
      "cell_type": "code",
      "metadata": {
        "id": "5hb5Q8j50M1Q"
      },
      "source": [
        "mh_train_set, mh_test_set, mh_val_set = split_dataset(mh_dataset, mh_length, 0.2, 0.2)"
      ],
      "execution_count": null,
      "outputs": []
    },
    {
      "cell_type": "code",
      "metadata": {
        "id": "IOUqoMr50WmL"
      },
      "source": [
        "class TokenAndPositionEmbedding(tf.keras.layers.Layer):\n",
        "    def __init__(self, maxlen, vocab_size, embed_dim):\n",
        "        super(TokenAndPositionEmbedding, self).__init__()\n",
        "        self.token_emb = tf.keras.layers.Embedding(input_dim=vocab_size, output_dim=embed_dim)\n",
        "        self.pos_emb = tf.keras.layers.Embedding(input_dim=maxlen, output_dim=embed_dim, trainable = False)\n",
        "\n",
        "    def call(self, x):\n",
        "        maxlen = tf.shape(x)[1]\n",
        "        # maxlen = 493\n",
        "        positions = tf.range(start=0, limit=maxlen, delta=1)\n",
        "        positions = self.pos_emb(positions)\n",
        "        # x = self.token_emb(x)\n",
        "        return x + positions\n",
        "\n",
        "class TransformerBlock(tf.keras.layers.Layer):\n",
        "    def __init__(self, embed_dim, num_heads, ff_dim, rate=0.1):\n",
        "        super(TransformerBlock, self).__init__()\n",
        "        self.att = tf.keras.layers.MultiHeadAttention(num_heads=num_heads, key_dim=embed_dim)\n",
        "        self.ffn = tf.keras.Sequential(\n",
        "            [tf.keras.layers.Dense(ff_dim, activation=\"relu\"), tf.keras.layers.Dense(embed_dim),]\n",
        "        )\n",
        "        self.layernorm1 = tf.keras.layers.LayerNormalization(epsilon=1e-6)\n",
        "        self.layernorm2 = tf.keras.layers.LayerNormalization(epsilon=1e-6)\n",
        "        self.dropout1 = tf.keras.layers.Dropout(rate)\n",
        "        self.dropout2 = tf.keras.layers.Dropout(rate)\n",
        "\n",
        "    def call(self, inputs, training):\n",
        "        attn_output = self.att(inputs, inputs)\n",
        "        # attn_output = self.dropout1(attn_output, training=training)\n",
        "        out1 = self.layernorm1(inputs + attn_output)\n",
        "        ffn_output = self.ffn(out1)\n",
        "        # ffn_output = self.dropout2(ffn_output, training=training)\n",
        "        return self.layernorm2(out1 + ffn_output)\n"
      ],
      "execution_count": null,
      "outputs": []
    },
    {
      "cell_type": "code",
      "metadata": {
        "id": "fDveIOOF0eZp",
        "colab": {
          "base_uri": "https://localhost:8080/"
        },
        "outputId": "dd4b598c-b238-4ae6-832a-67ecf4000b68"
      },
      "source": [
        "embed_dim = mh_features_depth \n",
        "# num_heads = 2  \n",
        "num_heads = 4  \n",
        "ff_dim = 512  \n",
        "# maxlen = 101\n",
        "# maxlen = 493 + 1\n",
        "maxlen = 800\n",
        "vocab_size = mh_features_depth\n",
        "\n",
        "\n",
        "\n",
        "\n",
        "\n",
        "inputs = tf.keras.layers.Input(shape=(None,mh_features_depth,))\n",
        "embedding_layer = TokenAndPositionEmbedding(maxlen, vocab_size, mh_features_depth)\n",
        "x = tf.keras.layers.Masking(mask_value = -1., input_shape = (None, mh_features_depth), name = 'masking')(inputs)\n",
        "x = embedding_layer(x)\n",
        "transformer_block_1 = TransformerBlock(mh_features_depth, num_heads, ff_dim)\n",
        "transformer_block_2 = TransformerBlock(mh_features_depth, num_heads, ff_dim)\n",
        "x = transformer_block_1(x)\n",
        "x = transformer_block_2(x)\n",
        "outputs = tf.keras.layers.Dense(mh_skill_depth, activation=\"sigmoid\")(x)\n",
        "\n",
        "model = tf.keras.models.Model(inputs=inputs, outputs=outputs, name = 'Transformer-Encoder')\n",
        "\n",
        "\n",
        "model.compile(\n",
        "       loss = custom_loss,\n",
        "       optimizer='adam',\n",
        "       metrics=[\n",
        "           BinaryAccuracy(),\n",
        "           AUC(),\n",
        "           Precision(),\n",
        "           Recall()\n",
        "       ])\n",
        "\n",
        "model.summary()"
      ],
      "execution_count": null,
      "outputs": [
        {
          "output_type": "stream",
          "text": [
            "Model: \"Transformer-Encoder\"\n",
            "_________________________________________________________________\n",
            "Layer (type)                 Output Shape              Param #   \n",
            "=================================================================\n",
            "input_3 (InputLayer)         [(None, None, 100)]       0         \n",
            "_________________________________________________________________\n",
            "masking (Masking)            (None, None, 100)         0         \n",
            "_________________________________________________________________\n",
            "token_and_position_embedding (None, None, 100)         80000     \n",
            "_________________________________________________________________\n",
            "transformer_block_4 (Transfo (None, None, 100)         264712    \n",
            "_________________________________________________________________\n",
            "transformer_block_5 (Transfo (None, None, 100)         264712    \n",
            "_________________________________________________________________\n",
            "dense_14 (Dense)             (None, None, 100)         10100     \n",
            "=================================================================\n",
            "Total params: 619,524\n",
            "Trainable params: 539,524\n",
            "Non-trainable params: 80,000\n",
            "_________________________________________________________________\n"
          ],
          "name": "stdout"
        }
      ]
    },
    {
      "cell_type": "code",
      "metadata": {
        "id": "52mh9IwN0M1R",
        "colab": {
          "base_uri": "https://localhost:8080/",
          "height": 564
        },
        "outputId": "2f3a2e91-d0bf-4b36-f5bb-80c5329c3d4e"
      },
      "source": [
        "tf.keras.utils.plot_model(model)"
      ],
      "execution_count": null,
      "outputs": [
        {
          "output_type": "execute_result",
          "data": {
            "image/png": "[encoded data removed]",
            "text/plain": [
              "<IPython.core.display.Image object>"
            ]
          },
          "metadata": {
            "tags": []
          },
          "execution_count": 43
        }
      ]
    },
    {
      "cell_type": "code",
      "metadata": {
        "id": "YCOmPr-A0M1S",
        "colab": {
          "base_uri": "https://localhost:8080/"
        },
        "outputId": "522d801b-c4aa-4bcd-d42e-21730d3f87c9"
      },
      "source": [
        "import tensorflow as tf\n",
        "\n",
        "model_name = model.name\n",
        "best_w = tf.keras.callbacks.ModelCheckpoint(os.path.join(MODELS_PATH, model_name + '_best.hdf5'),\n",
        "                                monitor='val_loss',\n",
        "                                verbose=1,\n",
        "                                save_best_only=True,\n",
        "                                save_weights_only=False,\n",
        "                                mode='auto'\n",
        "                                # save_freq = 1_000\n",
        "                                )\n",
        " \n",
        "last_w = tf.keras.callbacks.ModelCheckpoint(os.path.join(MODELS_PATH, model_name + '_last.hdf5'),\n",
        "                                monitor='val_loss',\n",
        "                                verbose=0,\n",
        "                                save_best_only=False,\n",
        "                                save_weights_only=False,\n",
        "                                mode='auto'\n",
        "                                # save_freq = 1_000\n",
        "                                )\n",
        " \n",
        "# early_stopping = tf.keras.callbacks.EarlyStopping(monitor='loss', patience=5)\n",
        " \n",
        "callbacks = [best_w, last_w]\n",
        "\n",
        "\n",
        "\n",
        "history = model.fit(mh_train_set,\n",
        "                    epochs = 50,\n",
        "                    verbose = 1,\n",
        "                    validation_data=mh_val_set)\n",
        "                    # callbacks = callbacks)"
      ],
      "execution_count": null,
      "outputs": [
        {
          "output_type": "stream",
          "text": [
            "Epoch 1/50\n",
            "96/96 [==============================] - 24s 195ms/step - loss: 0.0870 - binary_accuracy: 0.9607 - auc_2: 0.9838 - precision_2: 0.7348 - recall_2: 0.9725 - val_loss: 0.0892 - val_binary_accuracy: 0.9603 - val_auc_2: 0.9840 - val_precision_2: 0.7315 - val_recall_2: 0.9868\n",
            "Epoch 2/50\n",
            "96/96 [==============================] - 21s 188ms/step - loss: 0.0850 - binary_accuracy: 0.9619 - auc_2: 0.9844 - precision_2: 0.7370 - recall_2: 0.9866 - val_loss: 0.0872 - val_binary_accuracy: 0.9612 - val_auc_2: 0.9839 - val_precision_2: 0.7330 - val_recall_2: 1.0000\n",
            "Epoch 3/50\n",
            "96/96 [==============================] - 22s 201ms/step - loss: 0.0821 - binary_accuracy: 0.9635 - auc_2: 0.9851 - precision_2: 0.7360 - recall_2: 0.9908 - val_loss: 0.0906 - val_binary_accuracy: 0.9582 - val_auc_2: 0.9826 - val_precision_2: 0.7381 - val_recall_2: 0.9906\n",
            "Epoch 4/50\n",
            "96/96 [==============================] - 21s 193ms/step - loss: 0.0842 - binary_accuracy: 0.9626 - auc_2: 0.9846 - precision_2: 0.7346 - recall_2: 0.9966 - val_loss: 0.0803 - val_binary_accuracy: 0.9633 - val_auc_2: 0.9849 - val_precision_2: 0.7279 - val_recall_2: 0.9984\n",
            "Epoch 5/50\n",
            "96/96 [==============================] - 21s 194ms/step - loss: 0.0859 - binary_accuracy: 0.9617 - auc_2: 0.9844 - precision_2: 0.7320 - recall_2: 0.9925 - val_loss: 0.0828 - val_binary_accuracy: 0.9638 - val_auc_2: 0.9853 - val_precision_2: 0.7383 - val_recall_2: 0.9895\n",
            "Epoch 6/50\n",
            "96/96 [==============================] - 21s 194ms/step - loss: 0.0843 - binary_accuracy: 0.9623 - auc_2: 0.9847 - precision_2: 0.7329 - recall_2: 0.9954 - val_loss: 0.0928 - val_binary_accuracy: 0.9584 - val_auc_2: 0.9831 - val_precision_2: 0.7361 - val_recall_2: 0.9933\n",
            "Epoch 7/50\n",
            "96/96 [==============================] - 22s 196ms/step - loss: 0.0849 - binary_accuracy: 0.9623 - auc_2: 0.9848 - precision_2: 0.7357 - recall_2: 0.9905 - val_loss: 0.0834 - val_binary_accuracy: 0.9618 - val_auc_2: 0.9848 - val_precision_2: 0.7288 - val_recall_2: 0.9924\n",
            "Epoch 8/50\n",
            "96/96 [==============================] - 22s 201ms/step - loss: 0.0827 - binary_accuracy: 0.9632 - auc_2: 0.9855 - precision_2: 0.7389 - recall_2: 0.9861 - val_loss: 0.0763 - val_binary_accuracy: 0.9661 - val_auc_2: 0.9869 - val_precision_2: 0.7400 - val_recall_2: 0.9867\n",
            "Epoch 9/50\n",
            "96/96 [==============================] - 22s 201ms/step - loss: 0.0818 - binary_accuracy: 0.9633 - auc_2: 0.9855 - precision_2: 0.7385 - recall_2: 0.9845 - val_loss: 0.0849 - val_binary_accuracy: 0.9628 - val_auc_2: 0.9856 - val_precision_2: 0.7342 - val_recall_2: 0.9931\n",
            "Epoch 10/50\n",
            "96/96 [==============================] - 22s 197ms/step - loss: 0.0816 - binary_accuracy: 0.9631 - auc_2: 0.9857 - precision_2: 0.7406 - recall_2: 0.9806 - val_loss: 0.0844 - val_binary_accuracy: 0.9607 - val_auc_2: 0.9851 - val_precision_2: 0.7401 - val_recall_2: 0.9803\n",
            "Epoch 11/50\n",
            "96/96 [==============================] - 21s 191ms/step - loss: 0.0844 - binary_accuracy: 0.9620 - auc_2: 0.9855 - precision_2: 0.7419 - recall_2: 0.9759 - val_loss: 0.0829 - val_binary_accuracy: 0.9607 - val_auc_2: 0.9851 - val_precision_2: 0.7396 - val_recall_2: 0.9688\n",
            "Epoch 12/50\n",
            "96/96 [==============================] - 23s 208ms/step - loss: 0.0787 - binary_accuracy: 0.9648 - auc_2: 0.9868 - precision_2: 0.7436 - recall_2: 0.9732 - val_loss: 0.0859 - val_binary_accuracy: 0.9601 - val_auc_2: 0.9851 - val_precision_2: 0.7442 - val_recall_2: 0.9843\n",
            "Epoch 13/50\n",
            "96/96 [==============================] - 22s 202ms/step - loss: 0.0801 - binary_accuracy: 0.9641 - auc_2: 0.9867 - precision_2: 0.7462 - recall_2: 0.9700 - val_loss: 0.0782 - val_binary_accuracy: 0.9649 - val_auc_2: 0.9871 - val_precision_2: 0.7414 - val_recall_2: 0.9768\n",
            "Epoch 14/50\n",
            "96/96 [==============================] - 21s 192ms/step - loss: 0.0819 - binary_accuracy: 0.9632 - auc_2: 0.9863 - precision_2: 0.7475 - recall_2: 0.9676 - val_loss: 0.0791 - val_binary_accuracy: 0.9630 - val_auc_2: 0.9864 - val_precision_2: 0.7456 - val_recall_2: 0.9831\n",
            "Epoch 15/50\n",
            "96/96 [==============================] - 21s 192ms/step - loss: 0.0805 - binary_accuracy: 0.9633 - auc_2: 0.9865 - precision_2: 0.7507 - recall_2: 0.9665 - val_loss: 0.0861 - val_binary_accuracy: 0.9617 - val_auc_2: 0.9860 - val_precision_2: 0.7516 - val_recall_2: 0.9601\n",
            "Epoch 16/50\n",
            "96/96 [==============================] - 23s 210ms/step - loss: 0.0789 - binary_accuracy: 0.9647 - auc_2: 0.9873 - precision_2: 0.7502 - recall_2: 0.9626 - val_loss: 0.0778 - val_binary_accuracy: 0.9655 - val_auc_2: 0.9878 - val_precision_2: 0.7495 - val_recall_2: 0.9672\n",
            "Epoch 17/50\n",
            "96/96 [==============================] - 22s 196ms/step - loss: 0.0816 - binary_accuracy: 0.9633 - auc_2: 0.9869 - precision_2: 0.7530 - recall_2: 0.9620 - val_loss: 0.0832 - val_binary_accuracy: 0.9612 - val_auc_2: 0.9866 - val_precision_2: 0.7544 - val_recall_2: 0.9522\n",
            "Epoch 18/50\n",
            "96/96 [==============================] - 22s 195ms/step - loss: 0.0788 - binary_accuracy: 0.9640 - auc_2: 0.9875 - precision_2: 0.7553 - recall_2: 0.9577 - val_loss: 0.0824 - val_binary_accuracy: 0.9616 - val_auc_2: 0.9871 - val_precision_2: 0.7565 - val_recall_2: 0.9600\n",
            "Epoch 19/50\n",
            "96/96 [==============================] - 22s 199ms/step - loss: 0.0783 - binary_accuracy: 0.9642 - auc_2: 0.9879 - precision_2: 0.7571 - recall_2: 0.9527 - val_loss: 0.0821 - val_binary_accuracy: 0.9628 - val_auc_2: 0.9879 - val_precision_2: 0.7676 - val_recall_2: 0.9446\n",
            "Epoch 20/50\n",
            "96/96 [==============================] - 21s 190ms/step - loss: 0.0805 - binary_accuracy: 0.9631 - auc_2: 0.9879 - precision_2: 0.7626 - recall_2: 0.9456 - val_loss: 0.0795 - val_binary_accuracy: 0.9637 - val_auc_2: 0.9885 - val_precision_2: 0.7601 - val_recall_2: 0.9598\n",
            "Epoch 21/50\n",
            "96/96 [==============================] - 22s 195ms/step - loss: 0.0739 - binary_accuracy: 0.9652 - auc_2: 0.9893 - precision_2: 0.7666 - recall_2: 0.9369 - val_loss: 0.0788 - val_binary_accuracy: 0.9630 - val_auc_2: 0.9890 - val_precision_2: 0.7739 - val_recall_2: 0.9271\n",
            "Epoch 22/50\n",
            "96/96 [==============================] - 21s 193ms/step - loss: 0.0766 - binary_accuracy: 0.9638 - auc_2: 0.9894 - precision_2: 0.7735 - recall_2: 0.9266 - val_loss: 0.0713 - val_binary_accuracy: 0.9669 - val_auc_2: 0.9906 - val_precision_2: 0.7838 - val_recall_2: 0.9255\n",
            "Epoch 23/50\n",
            "96/96 [==============================] - 23s 205ms/step - loss: 0.0704 - binary_accuracy: 0.9666 - auc_2: 0.9909 - precision_2: 0.7844 - recall_2: 0.9151 - val_loss: 0.0669 - val_binary_accuracy: 0.9671 - val_auc_2: 0.9913 - val_precision_2: 0.7778 - val_recall_2: 0.9354\n",
            "Epoch 24/50\n",
            "96/96 [==============================] - 22s 201ms/step - loss: 0.0716 - binary_accuracy: 0.9661 - auc_2: 0.9909 - precision_2: 0.7868 - recall_2: 0.9116 - val_loss: 0.0684 - val_binary_accuracy: 0.9680 - val_auc_2: 0.9914 - val_precision_2: 0.7810 - val_recall_2: 0.9151\n",
            "Epoch 25/50\n",
            "96/96 [==============================] - 22s 201ms/step - loss: 0.0685 - binary_accuracy: 0.9674 - auc_2: 0.9915 - precision_2: 0.7939 - recall_2: 0.9103 - val_loss: 0.0681 - val_binary_accuracy: 0.9669 - val_auc_2: 0.9917 - val_precision_2: 0.7847 - val_recall_2: 0.9276\n",
            "Epoch 26/50\n",
            "96/96 [==============================] - 21s 188ms/step - loss: 0.0705 - binary_accuracy: 0.9660 - auc_2: 0.9914 - precision_2: 0.7999 - recall_2: 0.9053 - val_loss: 0.0648 - val_binary_accuracy: 0.9688 - val_auc_2: 0.9924 - val_precision_2: 0.8065 - val_recall_2: 0.8927\n",
            "Epoch 27/50\n",
            "96/96 [==============================] - 21s 187ms/step - loss: 0.0711 - binary_accuracy: 0.9661 - auc_2: 0.9916 - precision_2: 0.8057 - recall_2: 0.9012 - val_loss: 0.0696 - val_binary_accuracy: 0.9668 - val_auc_2: 0.9917 - val_precision_2: 0.8203 - val_recall_2: 0.8732\n",
            "Epoch 28/50\n",
            "96/96 [==============================] - 22s 197ms/step - loss: 0.0616 - binary_accuracy: 0.9710 - auc_2: 0.9934 - precision_2: 0.8261 - recall_2: 0.9089 - val_loss: 0.0519 - val_binary_accuracy: 0.9765 - val_auc_2: 0.9958 - val_precision_2: 0.8578 - val_recall_2: 0.9358\n",
            "Epoch 29/50\n",
            "96/96 [==============================] - 22s 198ms/step - loss: 0.0452 - binary_accuracy: 0.9797 - auc_2: 0.9966 - precision_2: 0.8715 - recall_2: 0.9439 - val_loss: 0.0297 - val_binary_accuracy: 0.9868 - val_auc_2: 0.9985 - val_precision_2: 0.9035 - val_recall_2: 0.9603\n",
            "Epoch 30/50\n",
            "96/96 [==============================] - 21s 186ms/step - loss: 0.0279 - binary_accuracy: 0.9876 - auc_2: 0.9988 - precision_2: 0.9202 - recall_2: 0.9679 - val_loss: 0.0222 - val_binary_accuracy: 0.9898 - val_auc_2: 0.9991 - val_precision_2: 0.9217 - val_recall_2: 0.9744\n",
            "Epoch 31/50\n",
            "96/96 [==============================] - 22s 197ms/step - loss: 0.0213 - binary_accuracy: 0.9902 - auc_2: 0.9992 - precision_2: 0.9352 - recall_2: 0.9729 - val_loss: 0.0202 - val_binary_accuracy: 0.9906 - val_auc_2: 0.9993 - val_precision_2: 0.9333 - val_recall_2: 0.9825\n",
            "Epoch 32/50\n",
            "96/96 [==============================] - 22s 200ms/step - loss: 0.0178 - binary_accuracy: 0.9917 - auc_2: 0.9994 - precision_2: 0.9432 - recall_2: 0.9762 - val_loss: 0.0178 - val_binary_accuracy: 0.9917 - val_auc_2: 0.9994 - val_precision_2: 0.9460 - val_recall_2: 0.9783\n",
            "Epoch 33/50\n",
            "96/96 [==============================] - 21s 191ms/step - loss: 0.0165 - binary_accuracy: 0.9923 - auc_2: 0.9995 - precision_2: 0.9485 - recall_2: 0.9783 - val_loss: 0.0153 - val_binary_accuracy: 0.9927 - val_auc_2: 0.9996 - val_precision_2: 0.9549 - val_recall_2: 0.9789\n",
            "Epoch 34/50\n",
            "96/96 [==============================] - 22s 202ms/step - loss: 0.0141 - binary_accuracy: 0.9935 - auc_2: 0.9996 - precision_2: 0.9551 - recall_2: 0.9821 - val_loss: 0.0124 - val_binary_accuracy: 0.9943 - val_auc_2: 0.9997 - val_precision_2: 0.9590 - val_recall_2: 0.9820\n",
            "Epoch 35/50\n",
            "96/96 [==============================] - 23s 201ms/step - loss: 0.0121 - binary_accuracy: 0.9943 - auc_2: 0.9997 - precision_2: 0.9593 - recall_2: 0.9846 - val_loss: 0.0119 - val_binary_accuracy: 0.9946 - val_auc_2: 0.9997 - val_precision_2: 0.9614 - val_recall_2: 0.9861\n",
            "Epoch 36/50\n",
            "96/96 [==============================] - 22s 198ms/step - loss: 0.0115 - binary_accuracy: 0.9946 - auc_2: 0.9997 - precision_2: 0.9624 - recall_2: 0.9862 - val_loss: 0.0111 - val_binary_accuracy: 0.9946 - val_auc_2: 0.9998 - val_precision_2: 0.9619 - val_recall_2: 0.9851\n",
            "Epoch 37/50\n",
            "96/96 [==============================] - 22s 198ms/step - loss: 0.0107 - binary_accuracy: 0.9950 - auc_2: 0.9998 - precision_2: 0.9649 - recall_2: 0.9866 - val_loss: 0.0107 - val_binary_accuracy: 0.9949 - val_auc_2: 0.9998 - val_precision_2: 0.9647 - val_recall_2: 0.9878\n",
            "Epoch 38/50\n",
            "96/96 [==============================] - 22s 199ms/step - loss: 0.0102 - binary_accuracy: 0.9953 - auc_2: 0.9998 - precision_2: 0.9670 - recall_2: 0.9870 - val_loss: 0.0101 - val_binary_accuracy: 0.9952 - val_auc_2: 0.9998 - val_precision_2: 0.9679 - val_recall_2: 0.9855\n",
            "Epoch 39/50\n",
            "96/96 [==============================] - 23s 205ms/step - loss: 0.0099 - binary_accuracy: 0.9954 - auc_2: 0.9998 - precision_2: 0.9679 - recall_2: 0.9868 - val_loss: 0.0087 - val_binary_accuracy: 0.9960 - val_auc_2: 0.9999 - val_precision_2: 0.9706 - val_recall_2: 0.9909\n",
            "Epoch 40/50\n",
            "96/96 [==============================] - 22s 201ms/step - loss: 0.0094 - binary_accuracy: 0.9956 - auc_2: 0.9998 - precision_2: 0.9693 - recall_2: 0.9873 - val_loss: 0.0092 - val_binary_accuracy: 0.9958 - val_auc_2: 0.9998 - val_precision_2: 0.9700 - val_recall_2: 0.9899\n",
            "Epoch 41/50\n",
            "96/96 [==============================] - 22s 195ms/step - loss: 0.0097 - binary_accuracy: 0.9955 - auc_2: 0.9998 - precision_2: 0.9698 - recall_2: 0.9875 - val_loss: 0.0088 - val_binary_accuracy: 0.9959 - val_auc_2: 0.9998 - val_precision_2: 0.9725 - val_recall_2: 0.9884\n",
            "Epoch 42/50\n",
            "96/96 [==============================] - 23s 203ms/step - loss: 0.0090 - binary_accuracy: 0.9959 - auc_2: 0.9998 - precision_2: 0.9711 - recall_2: 0.9882 - val_loss: 0.0090 - val_binary_accuracy: 0.9957 - val_auc_2: 0.9998 - val_precision_2: 0.9652 - val_recall_2: 0.9875\n",
            "Epoch 43/50\n",
            "96/96 [==============================] - 22s 199ms/step - loss: 0.0079 - binary_accuracy: 0.9962 - auc_2: 0.9999 - precision_2: 0.9747 - recall_2: 0.9891 - val_loss: 0.0075 - val_binary_accuracy: 0.9964 - val_auc_2: 0.9999 - val_precision_2: 0.9720 - val_recall_2: 0.9938\n",
            "Epoch 44/50\n",
            "96/96 [==============================] - 22s 199ms/step - loss: 0.0072 - binary_accuracy: 0.9966 - auc_2: 0.9999 - precision_2: 0.9772 - recall_2: 0.9905 - val_loss: 0.0063 - val_binary_accuracy: 0.9971 - val_auc_2: 0.9999 - val_precision_2: 0.9783 - val_recall_2: 0.9938\n",
            "Epoch 45/50\n",
            "96/96 [==============================] - 22s 199ms/step - loss: 0.0069 - binary_accuracy: 0.9968 - auc_2: 0.9999 - precision_2: 0.9783 - recall_2: 0.9908 - val_loss: 0.0059 - val_binary_accuracy: 0.9973 - val_auc_2: 0.9999 - val_precision_2: 0.9790 - val_recall_2: 0.9935\n",
            "Epoch 46/50\n",
            "96/96 [==============================] - 22s 198ms/step - loss: 0.0063 - binary_accuracy: 0.9971 - auc_2: 0.9999 - precision_2: 0.9799 - recall_2: 0.9915 - val_loss: 0.0062 - val_binary_accuracy: 0.9971 - val_auc_2: 0.9999 - val_precision_2: 0.9788 - val_recall_2: 0.9938\n",
            "Epoch 47/50\n",
            "96/96 [==============================] - 22s 196ms/step - loss: 0.0067 - binary_accuracy: 0.9969 - auc_2: 0.9999 - precision_2: 0.9793 - recall_2: 0.9907 - val_loss: 0.0060 - val_binary_accuracy: 0.9973 - val_auc_2: 0.9999 - val_precision_2: 0.9855 - val_recall_2: 0.9886\n",
            "Epoch 48/50\n",
            "96/96 [==============================] - 22s 201ms/step - loss: 0.0062 - binary_accuracy: 0.9970 - auc_2: 0.9999 - precision_2: 0.9801 - recall_2: 0.9910 - val_loss: 0.0061 - val_binary_accuracy: 0.9971 - val_auc_2: 0.9999 - val_precision_2: 0.9784 - val_recall_2: 0.9921\n",
            "Epoch 49/50\n",
            "96/96 [==============================] - 22s 195ms/step - loss: 0.0060 - binary_accuracy: 0.9972 - auc_2: 0.9999 - precision_2: 0.9816 - recall_2: 0.9920 - val_loss: 0.0065 - val_binary_accuracy: 0.9971 - val_auc_2: 0.9999 - val_precision_2: 0.9797 - val_recall_2: 0.9939\n",
            "Epoch 50/50\n",
            "96/96 [==============================] - 22s 201ms/step - loss: 0.0061 - binary_accuracy: 0.9972 - auc_2: 0.9999 - precision_2: 0.9812 - recall_2: 0.9914 - val_loss: 0.0060 - val_binary_accuracy: 0.9971 - val_auc_2: 0.9999 - val_precision_2: 0.9801 - val_recall_2: 0.9899\n"
          ],
          "name": "stdout"
        }
      ]
    },
    {
      "cell_type": "code",
      "metadata": {
        "id": "5kjeqHqI0M1T"
      },
      "source": [
        "filename = os.path.join(HISTORY_PATH, 'Transformer-Encoder(2 layers, without dropout).csv')\n",
        "\n",
        "history_df = pd.DataFrame(history.history)\n",
        "history_df.to_csv(filename)"
      ],
      "execution_count": null,
      "outputs": []
    },
    {
      "cell_type": "code",
      "metadata": {
        "id": "yNeWRUPf0M1T",
        "colab": {
          "base_uri": "https://localhost:8080/",
          "height": 295
        },
        "outputId": "f336f4a8-632e-43c0-876a-4ee6ee26ad59"
      },
      "source": [
        "import matplotlib.pyplot as plt\n",
        "\n",
        "mh_loss = history.history['loss']\n",
        "mh_val_loss = history.history['val_loss']\n",
        "epochs = np.arange(len(mh_loss))\n",
        "plt.plot(epochs, mh_loss, label = 'loss')\n",
        "plt.plot(epochs, mh_val_loss, label = 'validation loss')\n",
        "plt.title('Transformer based')\n",
        "plt.xlabel('Epochs')\n",
        "plt.ylabel('Loss value')\n",
        "plt.legend()\n",
        "plt.grid()\n",
        "plt.show()"
      ],
      "execution_count": null,
      "outputs": [
        {
          "output_type": "display_data",
          "data": {
            "image/png": "[encoded data removed]",
            "text/plain": [
              "<Figure size 432x288 with 1 Axes>"
            ]
          },
          "metadata": {
            "tags": [],
            "needs_background": "light"
          }
        }
      ]
    },
    {
      "cell_type": "code",
      "metadata": {
        "id": "Dy0Wr0zt0M1U",
        "colab": {
          "base_uri": "https://localhost:8080/"
        },
        "outputId": "101e3caf-f8b7-4f57-a6be-a44427e1b896"
      },
      "source": [
        "import h5py\n",
        "\n",
        "# file = h5py.File(os.path.join(MODELS_PATH, model_name +'_best.hdf5'),'r')\n",
        "# best_model = tf.keras.models.load_model(file, compile=False)\n",
        "\n",
        "# best_model.compile(\n",
        "#         loss = custom_loss,\n",
        "#         optimizer='adam',\n",
        "#         metrics=[\n",
        "#             BinaryAccuracy(),\n",
        "#             AUC(),\n",
        "#             Precision(),\n",
        "#             Recall()\n",
        "#         ])\n",
        "\n",
        "\n",
        "\n",
        "result = model.evaluate(mh_test_set, verbose=1)\n",
        "# best_result = best_mh_model.evaluate(mh_test_set, verbose=1)\n",
        "\n",
        "\n",
        "\n",
        "# Без dropout, without positional encoding\n",
        "# 31/31 [==============================] - 4s 53ms/step - loss: 0.1266 - binary_accuracy: 0.9536 - auc_6: 0.9800 - precision_6: 0.8195 - recall_6: 0.7104\n",
        "# С dropout, without positional encoding\n",
        "# 31/31 [==============================] - 4s 49ms/step - loss: 0.1302 - binary_accuracy: 0.9516 - auc_7: 0.9789 - precision_7: 0.8140 - recall_7: 0.7288\n",
        "\n",
        "# C posistional encoding, without dropout\n",
        "# 31/31 [==============================] - 5s 78ms/step - loss: 0.0057 - binary_accuracy: 0.9973 - auc_2: 0.9999 - precision_2: 0.9820 - recall_2: 0.9914\n",
        "\n",
        "\n",
        "# С dropout, with positional encoding\n",
        "# [0.002703981241211295,\n",
        "#  0.9987738728523254,\n",
        "#  0.9999852776527405,\n",
        "#  0.9918460249900818,\n",
        "#  0.9963680505752563]"
      ],
      "execution_count": null,
      "outputs": [
        {
          "output_type": "stream",
          "text": [
            "31/31 [==============================] - 5s 78ms/step - loss: 0.0057 - binary_accuracy: 0.9973 - auc_2: 0.9999 - precision_2: 0.9820 - recall_2: 0.9914\n"
          ],
          "name": "stdout"
        }
      ]
    },
    {
      "cell_type": "code",
      "metadata": {
        "id": "zums0OfW0BdR"
      },
      "source": [
        ""
      ],
      "execution_count": null,
      "outputs": []
    }
  ]
}